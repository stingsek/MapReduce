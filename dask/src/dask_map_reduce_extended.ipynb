{
 "cells": [
  {
   "cell_type": "code",
   "execution_count": null,
   "metadata": {},
   "outputs": [],
   "source": [
    "! pip install \"dask[complete]\" pandas openpyxl matplotlib seaborn plotly dash psutil"
   ]
  },
  {
   "cell_type": "code",
   "execution_count": 142,
   "id": "31cac993",
   "metadata": {},
   "outputs": [],
   "source": [
    "# Import necessary libraries\n",
    "import dask.dataframe as dd\n",
    "import pandas as pd\n",
    "import glob\n",
    "import os\n",
    "import dask\n",
    "import matplotlib.pyplot as plt\n",
    "from dask.distributed import Client, progress\n",
    "import numpy as np\n"
   ]
  },
  {
   "cell_type": "code",
   "execution_count": null,
   "id": "c209dfc3",
   "metadata": {},
   "outputs": [],
   "source": [
    "# Start a local Dask client\n",
    "client = Client()\n",
    "print(f\"Dashboard link: {client.dashboard_link}\")"
   ]
  },
  {
   "cell_type": "code",
   "execution_count": 144,
   "id": "33b2ced6",
   "metadata": {},
   "outputs": [
    {
     "name": "stdout",
     "output_type": "stream",
     "text": [
      "Found 7 files to process\n"
     ]
    }
   ],
   "source": [
    "res_path = \"../../../resources\"\n",
    "excel_files = glob.glob(os.path.join(res_path, \"*.xlsx\"))\n",
    "print(f\"Found {len(excel_files)} files to process\")"
   ]
  },
  {
   "cell_type": "code",
   "execution_count": null,
   "id": "93f4bce6",
   "metadata": {},
   "outputs": [],
   "source": [
    "def common_elements(list1, list2):\n",
    "    return list(set(list1) & set(list2))\n",
    "\n",
    "common_columns = None\n",
    "all_column_types = {}\n",
    "\n",
    "print(\"\\n--- COLUMN ANALYSIS ---\")\n",
    "for file in excel_files:\n",
    "    try:\n",
    "        print(f\"File: {file}\")\n",
    "        df = pd.read_excel(file)\n",
    "        \n",
    "        df.columns = [col.strip().lower().replace(\" \", \"_\") for col in df.columns]\n",
    "        \n",
    "        print(\"Columns and datatypes:\")\n",
    "        for col, dtype in df.dtypes.items():\n",
    "            print(f\"  - {col}: {dtype}\")\n",
    "        \n",
    "        for col in df.columns:\n",
    "            if col not in all_column_types:\n",
    "                all_column_types[col] = []\n",
    "            all_column_types[col].append(str(df[col].dtype))\n",
    "        \n",
    "        if common_columns is None:\n",
    "            common_columns = df.columns.tolist()\n",
    "        else:\n",
    "            common_columns = common_elements(common_columns, df.columns)\n",
    "    except Exception as e:\n",
    "        print(f\"Error while processing {file}: {e}\")"
   ]
  },
  {
   "cell_type": "code",
   "execution_count": 146,
   "id": "a5206f40",
   "metadata": {},
   "outputs": [],
   "source": [
    "def normalize_column_name(col_name):\n",
    "    \"\"\"Normalizes column names to a consistent format\"\"\"\n",
    "\n",
    "    return col_name.strip().lower().replace(\" \", \"_\").replace(\"/\", \"_\")\n",
    "\n",
    "def extract_year_from_filename(filename):\n",
    "    \"\"\"Returns the school year from the filename\"\"\"\n",
    "    \n",
    "    if \"20222023\" in filename:\n",
    "        return \"2022/2023\"\n",
    "    elif \"20232024\" in filename:\n",
    "        return \"2023/2024\" \n",
    "    elif \"20242025\" in filename:\n",
    "        return \"2024/2025\"\n",
    "    elif \"20212022\" in filename:\n",
    "        return \"2021/2022\"\n",
    "    elif \"20202021\" in filename:\n",
    "        return \"2020/2021\"\n",
    "    elif \"20192020\" in filename:\n",
    "        return \"2019/2020\"\n",
    "    else:\n",
    "        return \"Unknown\"\n"
   ]
  },
  {
   "cell_type": "code",
   "execution_count": 147,
   "id": "c578fbea",
   "metadata": {},
   "outputs": [],
   "source": [
    "school_years = [\"20242025\",\"20232024\", \"20222023\"]"
   ]
  },
  {
   "cell_type": "code",
   "execution_count": 148,
   "id": "6157e031",
   "metadata": {},
   "outputs": [
    {
     "name": "stdout",
     "output_type": "stream",
     "text": [
      "Target files for ['20242025', '20232024', '20222023']: 3\n",
      "  - liczba_uczniów_zawody_szkolnictwa_zawodowego_klasy_młodociani_prac_rok_szkolny_20242025_absolwenci_20232024.xlsx\n",
      "  - liczba_uczniów_zawody_szkolnictwa_zawodowego_klasy_rok_szkolny_20222023.xlsx\n",
      "  - liczba_uczniów_zawody_szkolnictwa_zawodowego_klasy_rok_szkolny_20232024_absolwenci_20222023_OHW9KDz.xlsx\n"
     ]
    }
   ],
   "source": [
    "target_files = [f for f in excel_files if any(year in f for year in school_years)]\n",
    "print(f\"Target files for {school_years}: {len(target_files)}\")\n",
    "for f in target_files:\n",
    "    print(f\"  - {os.path.basename(f)}\")"
   ]
  },
  {
   "cell_type": "code",
   "execution_count": 149,
   "id": "809af850",
   "metadata": {},
   "outputs": [
    {
     "name": "stdout",
     "output_type": "stream",
     "text": [
      "Total expected columns: 41\n"
     ]
    }
   ],
   "source": [
    "all_columns = [\n",
    "'rok_szkolny', 'idterytgmina', 'idterytwojewodztwo', 'wojewodztwo',\n",
    "'powiat', 'gmina', 'typ_obszaru', 'miejscowość', 'rspo',\n",
    "'idtyppodmiotu', 'typ_podmiotu', 'idrodzajplacowki',\n",
    "'rodzaj_szkoły_placówki', 'idkategoriauczniow', 'kategoria_uczniów',\n",
    "'idpublicznosc', 'publiczność', 'idspecyfikaszkoly', 'specyfika_szkoły',\n",
    "'idtyporgprow', 'typ_organu_prowadzącego', 'organ_prowadzący',\n",
    "'nazwa_placówki', 'ulica', 'numer_domu', 'kod_pocztowy', 'poczta',\n",
    "'numer_telefonu', 'adres_email', 'adres_www', 'regon',\n",
    "'idzawod', 'zawód', 'idklasa', 'klasa', 'liczba_uczniów',\n",
    "'w_tym_dziewczęta', 'liczba_młodocianych_pracowników',\n",
    "'w_tym_dziewczęta_młod_prac', 'liczba_absolwentów', 'w_tym_dziewczęta_abs'\n",
    "]\n",
    "print(f\"Total expected columns: {len(all_columns)}\")"
   ]
  },
  {
   "cell_type": "code",
   "execution_count": 150,
   "id": "34ba76b3",
   "metadata": {},
   "outputs": [],
   "source": [
    "def process_excel_file_unified(filename, target_columns):\n",
    "    \"\"\"\n",
    "    Processes an Excel file and unifies its columns to a target format.\n",
    "    \"\"\"\n",
    "    try:\n",
    "        year = extract_year_from_filename(filename)\n",
    "        print(f\"Processing file: {os.path.basename(filename)}, year: {year}\")\n",
    "        # Read the Excel file\n",
    "        \n",
    "        df = pd.read_excel(filename)\n",
    "        \n",
    "        # Normalize column names\n",
    "        df.columns = [normalize_column_name(col) for col in df.columns]\n",
    "        \n",
    "        # Add the school year column if it doesn't exist\n",
    "        if 'rok_szkolny' not in df.columns:\n",
    "            df['rok_szkolny'] = year\n",
    "        \n",
    "        # Fix specific column names if they exist\n",
    "        if 'rodzaj_szkoły_placówki' in df.columns:\n",
    "            pass  # is already normalized\n",
    "        elif 'rodzaj_szkoły/placówki' in df.columns:\n",
    "            df['rodzaj_szkoły_placówki'] = df['rodzaj_szkoły/placówki']\n",
    "            df = df.drop('rodzaj_szkoły/placówki', axis=1)\n",
    "        \n",
    "        # create a new DataFrame with the target columns\n",
    "        unified_df = pd.DataFrame()\n",
    "        \n",
    "        # Copy existing columns to the unified DataFrame\n",
    "        for col in target_columns:\n",
    "            if col in df.columns:\n",
    "                unified_df[col] = df[col]\n",
    "            else:\n",
    "                # Add missing columns with NaN values\n",
    "                unified_df[col] = np.nan\n",
    "        \n",
    "        # Convert specific columns to numeric types\n",
    "        numeric_columns = ['liczba_uczniów', 'w_tym_dziewczęta', \n",
    "                        'liczba_młodocianych_pracowników', 'w_tym_dziewczęta_młod_prac',\n",
    "                        'liczba_absolwentów', 'w_tym_dziewczęta_abs']\n",
    "        \n",
    "        for col in numeric_columns:\n",
    "            if col in unified_df.columns:\n",
    "                unified_df[col] = pd.to_numeric(unified_df[col], errors='coerce')\n",
    "        \n",
    "        print(f\"  - Processed {len(unified_df)} rows with {len(unified_df.columns)} columns\")\n",
    "        return unified_df\n",
    "        \n",
    "    except Exception as e:\n",
    "        print(f\"Error processing {filename}: {e}\")\n",
    "        # Return an empty DataFrame with the target columns\n",
    "        return pd.DataFrame(columns=target_columns)"
   ]
  },
  {
   "cell_type": "code",
   "execution_count": 151,
   "id": "efdfd81b",
   "metadata": {},
   "outputs": [],
   "source": [
    "delayed_dfs = [dask.delayed(process_excel_file_unified)(file, all_columns) for file in target_files]"
   ]
  },
  {
   "cell_type": "code",
   "execution_count": 152,
   "id": "ff7bb95a",
   "metadata": {},
   "outputs": [
    {
     "name": "stdout",
     "output_type": "stream",
     "text": [
      "Creating unified Dask DataFrame...\n",
      "Unified DataFrame shape: (<dask_expr.expr.Scalar: expr=ArrowStringConversion(frame=FromDelayed(7b9329a)).size() // 41, dtype=int64>, 41)\n",
      "Columns: ['rok_szkolny', 'idterytgmina', 'idterytwojewodztwo', 'wojewodztwo', 'powiat', 'gmina', 'typ_obszaru', 'miejscowość', 'rspo', 'idtyppodmiotu', 'typ_podmiotu', 'idrodzajplacowki', 'rodzaj_szkoły_placówki', 'idkategoriauczniow', 'kategoria_uczniów', 'idpublicznosc', 'publiczność', 'idspecyfikaszkoly', 'specyfika_szkoły', 'idtyporgprow', 'typ_organu_prowadzącego', 'organ_prowadzący', 'nazwa_placówki', 'ulica', 'numer_domu', 'kod_pocztowy', 'poczta', 'numer_telefonu', 'adres_email', 'adres_www', 'regon', 'idzawod', 'zawód', 'idklasa', 'klasa', 'liczba_uczniów', 'w_tym_dziewczęta', 'liczba_młodocianych_pracowników', 'w_tym_dziewczęta_młod_prac', 'liczba_absolwentów', 'w_tym_dziewczęta_abs']\n"
     ]
    }
   ],
   "source": [
    "print(\"Creating unified Dask DataFrame...\")\n",
    "unified_dask_df = dd.from_delayed(delayed_dfs)\n",
    "print(f\"Unified DataFrame shape: {unified_dask_df.shape}\")\n",
    "print(f\"Columns: {list(unified_dask_df.columns)}\")"
   ]
  },
  {
   "cell_type": "code",
   "execution_count": 153,
   "id": "47e0f50d",
   "metadata": {},
   "outputs": [
    {
     "name": "stdout",
     "output_type": "stream",
     "text": [
      "\n",
      "=== KEY-VALUE ANALYSIS ===\n",
      "Available years: ['2022/2023', '2023/2024', '2024/2025']\n"
     ]
    }
   ],
   "source": [
    "print(\"\\n=== KEY-VALUE ANALYSIS ===\")\n",
    "###Check for unique values in key columns\n",
    "available_years = unified_dask_df['rok_szkolny'].unique().compute()\n",
    "print(f\"Available years: {sorted(available_years)}\")\n"
   ]
  },
  {
   "cell_type": "code",
   "execution_count": 154,
   "id": "1554ef73",
   "metadata": {},
   "outputs": [
    {
     "name": "stdout",
     "output_type": "stream",
     "text": [
      "\n",
      "1. (Województwo, Zawód) -> {liczbaUczniów, liczbaChłopców, liczbaDziewcząt}\n",
      "================================================================================\n"
     ]
    }
   ],
   "source": [
    "\n",
    "### Count the number of boys as the difference between total students and girls\n",
    "\n",
    "unified_dask_df = unified_dask_df.assign(\n",
    "liczba_chlopcow=unified_dask_df['liczba_uczniów'] - unified_dask_df['w_tym_dziewczęta'].fillna(0)\n",
    ")\n",
    "print(\"\\n1. (Województwo, Zawód) -> {liczbaUczniów, liczbaChłopców, liczbaDziewcząt}\")\n",
    "print(\"=\"*80)\n",
    "wojewodztwo_zawod = (unified_dask_df.groupby(['wojewodztwo', 'zawód'])\n",
    ".agg({\n",
    "'liczba_uczniów': 'sum',\n",
    "'liczba_chlopcow': 'sum',\n",
    "'w_tym_dziewczęta': 'sum'\n",
    "})\n",
    ".compute()\n",
    ".fillna(0))\n"
   ]
  },
  {
   "cell_type": "code",
   "execution_count": null,
   "id": "3fb61185",
   "metadata": {},
   "outputs": [],
   "source": []
  },
  {
   "cell_type": "code",
   "execution_count": 155,
   "id": "7f8b0108",
   "metadata": {},
   "outputs": [
    {
     "name": "stdout",
     "output_type": "stream",
     "text": [
      "TOP 5:\n",
      "(MAZOWIECKIE, Technik informatyk) -> {uczniów: 36733, chłopców: 35342, dziewcząt: 1391}\n",
      "(ŚLĄSKIE, Technik informatyk) -> {uczniów: 35933, chłopców: 34621, dziewcząt: 1312}\n",
      "(MAŁOPOLSKIE, Przygotowanie do kształcenia zawodowego) -> {uczniów: 32282, chłopców: 18416, dziewcząt: 13866}\n",
      "(WIELKOPOLSKIE, Technik informatyk) -> {uczniów: 29032, chłopców: 27816, dziewcząt: 1216}\n",
      "(MAŁOPOLSKIE, Technik informatyk) -> {uczniów: 28984, chłopców: 27943, dziewcząt: 1041}\n"
     ]
    }
   ],
   "source": [
    "\n",
    "###Top 5 combinations according to the number of students per voivodeship and profession\n",
    "top_5_woj_zawod = wojewodztwo_zawod.sort_values('liczba_uczniów', ascending=False).head(5)\n",
    "print(\"TOP 5:\")\n",
    "for idx, row in top_5_woj_zawod.iterrows():\n",
    "    woj, zawod = idx\n",
    "    print(f\"({woj}, {zawod}) -> {{uczniów: {int(row['liczba_uczniów'])}, chłopców: {int(row['liczba_chlopcow'])}, dziewcząt: {int(row['w_tym_dziewczęta'])}}}\")\n"
   ]
  },
  {
   "cell_type": "code",
   "execution_count": null,
   "id": "4ec5102d",
   "metadata": {},
   "outputs": [],
   "source": []
  },
  {
   "cell_type": "code",
   "execution_count": 156,
   "id": "fc07f3a2",
   "metadata": {},
   "outputs": [
    {
     "name": "stdout",
     "output_type": "stream",
     "text": [
      "\n",
      "BOTTOM 5:\n",
      "(WARMIŃSKO-MAZURSKIE, Optyk-mechanik) -> {uczniów: 1, chłopców: 1, dziewcząt: 0}\n",
      "(OPOLSKIE, Drukarz fleksograficzny) -> {uczniów: 1, chłopców: 1, dziewcząt: 0}\n",
      "(DOLNOŚLĄSKIE, Górnik odkrywkowej eksploatacji złóż) -> {uczniów: 1, chłopców: 1, dziewcząt: 0}\n",
      "(DOLNOŚLĄSKIE, Cieśla) -> {uczniów: 1, chłopców: 1, dziewcząt: 0}\n",
      "(MAZOWIECKIE, Mechanik precyzyjny) -> {uczniów: 1, chłopców: 1, dziewcząt: 0}\n"
     ]
    }
   ],
   "source": [
    "\n",
    "###Bottom 5 combinations according to the number of students per voivodeship and profession (excluding those with zero students)\n",
    "bottom_5_woj_zawod = wojewodztwo_zawod[wojewodztwo_zawod['liczba_uczniów'] > 0].sort_values('liczba_uczniów', ascending=True).head(5)\n",
    "print(\"\\nBOTTOM 5:\")\n",
    "for idx, row in bottom_5_woj_zawod.iterrows():\n",
    "    woj, zawod = idx\n",
    "    \n",
    "    print(f\"({woj}, {zawod}) -> {{uczniów: {int(row['liczba_uczniów'])}, chłopców: {int(row['liczba_chlopcow'])}, dziewcząt: {int(row['w_tym_dziewczęta'])}}}\")\n"
   ]
  },
  {
   "cell_type": "code",
   "execution_count": 157,
   "id": "5fa2c1ad",
   "metadata": {},
   "outputs": [
    {
     "name": "stdout",
     "output_type": "stream",
     "text": [
      "\n",
      "================================================================================\n",
      "(2. Typ obszaru, Zawód) -> {liczbaUczniów, liczbaChłopców, liczbaDziewcząt}\n",
      "================================================================================\n"
     ]
    }
   ],
   "source": [
    "\n",
    "print(\"\\n\" + \"=\"*80)\n",
    "print(\"(2. Typ obszaru, Zawód) -> {liczbaUczniów, liczbaChłopców, liczbaDziewcząt}\")\n",
    "print(\"=\"*80)\n",
    "obszar_zawod = (unified_dask_df.groupby(['typ_obszaru', 'zawód'])\n",
    ".agg({\n",
    "'liczba_uczniów': 'sum',\n",
    "'liczba_chlopcow': 'sum',\n",
    "'w_tym_dziewczęta': 'sum'\n",
    "})\n",
    ".compute()\n",
    ".fillna(0))\n"
   ]
  },
  {
   "cell_type": "code",
   "execution_count": null,
   "id": "ed6bb375",
   "metadata": {},
   "outputs": [],
   "source": []
  },
  {
   "cell_type": "code",
   "execution_count": 158,
   "id": "e4286170",
   "metadata": {},
   "outputs": [
    {
     "name": "stdout",
     "output_type": "stream",
     "text": [
      "TOP 5:\n",
      "(obszar miejski, Technik informatyk) -> {uczniów: 294457, chłopców: 282113, dziewcząt: 12344}\n",
      "(obszar miejski, Technik logistyk) -> {uczniów: 193538, chłopców: 144332, dziewcząt: 49206}\n",
      "(obszar miejski, Przygotowanie do kształcenia zawodowego) -> {uczniów: 180482, chłopców: 103030, dziewcząt: 77452}\n",
      "(obszar miejski, Technik żywienia i usług gastronomicznych) -> {uczniów: 138385, chłopców: 73990, dziewcząt: 64395}\n",
      "(obszar miejski, Technik ekonomista) -> {uczniów: 115318, chłopców: 65770, dziewcząt: 49548}\n"
     ]
    }
   ],
   "source": [
    "\n",
    "#Top 5\n",
    "top_5_obszar_zawod = obszar_zawod.sort_values('liczba_uczniów', ascending=False).head(5)\n",
    "print(\"TOP 5:\")\n",
    "for idx, row in top_5_obszar_zawod.iterrows():\n",
    "    obszar, zawod = idx\n",
    "    print(f\"({obszar}, {zawod}) -> {{uczniów: {int(row['liczba_uczniów'])}, chłopców: {int(row['liczba_chlopcow'])}, dziewcząt: {int(row['w_tym_dziewczęta'])}}}\")\n"
   ]
  },
  {
   "cell_type": "code",
   "execution_count": 159,
   "id": "6c02b3e2",
   "metadata": {},
   "outputs": [
    {
     "name": "stdout",
     "output_type": "stream",
     "text": [
      "\n",
      "BOTTOM 5:\n",
      "(obszar miejski, Operator urządzeń przemysłu ceramicznego) -> {uczniów: 1, chłopców: 1, dziewcząt: 0}\n",
      "(obszar miejski, Górnik odkrywkowej eksploatacji złóż) -> {uczniów: 1, chłopców: 1, dziewcząt: 0}\n",
      "(obszar wiejski, Monter sieci i urządzeń telekomunikacyjnych ) -> {uczniów: 2, chłopców: 2, dziewcząt: 0}\n",
      "(obszar wiejski, Technik inżynierii sanitarnej) -> {uczniów: 2, chłopców: 2, dziewcząt: 0}\n",
      "(obszar miejski, Operator maszyn w przemyśle włókienniczym ) -> {uczniów: 2, chłopców: 2, dziewcząt: 0}\n"
     ]
    }
   ],
   "source": [
    "\n",
    "\n",
    "#Bottom 5\n",
    "bottom_5_obszar_zawod = obszar_zawod[obszar_zawod['liczba_uczniów'] > 0].sort_values('liczba_uczniów', ascending=True).head(5)\n",
    "print(\"\\nBOTTOM 5:\")\n",
    "for idx, row in bottom_5_obszar_zawod.iterrows():\n",
    "    obszar, zawod = idx\n",
    "    print(f\"({obszar}, {zawod}) -> {{uczniów: {int(row['liczba_uczniów'])}, chłopców: {int(row['liczba_chlopcow'])}, dziewcząt: {int(row['w_tym_dziewczęta'])}}}\")\n"
   ]
  },
  {
   "cell_type": "code",
   "execution_count": 160,
   "id": "43fd491f",
   "metadata": {},
   "outputs": [
    {
     "name": "stdout",
     "output_type": "stream",
     "text": [
      "\n",
      "================================================================================\n",
      "3. Województwo -> {liczbaSzkół}\n",
      "================================================================================\n"
     ]
    }
   ],
   "source": [
    "\n",
    "print(\"\\n\" + \"=\"*80)\n",
    "print(\"3. Województwo -> {liczbaSzkół}\")\n",
    "print(\"=\"*80)\n",
    "wojewodztwo_szkoly = (unified_dask_df.groupby('wojewodztwo')['nazwa_placówki']\n",
    ".nunique()\n",
    ".compute()\n",
    ".sort_values(ascending=False))\n"
   ]
  },
  {
   "cell_type": "code",
   "execution_count": 161,
   "id": "0eef4121",
   "metadata": {},
   "outputs": [
    {
     "name": "stdout",
     "output_type": "stream",
     "text": [
      "TOP 5 województw z największą liczbą szkół:\n",
      "MAZOWIECKIE -> {szkół: 676}\n",
      "ŚLĄSKIE -> {szkół: 630}\n",
      "WIELKOPOLSKIE -> {szkół: 525}\n",
      "MAŁOPOLSKIE -> {szkół: 516}\n",
      "DOLNOŚLĄSKIE -> {szkół: 429}\n"
     ]
    }
   ],
   "source": [
    "\n",
    "print(\"TOP 5 województw z największą liczbą szkół:\")\n",
    "for woj, liczba in wojewodztwo_szkoly.head(5).items():\n",
    "    print(f\"{woj} -> {{szkół: {liczba}}}\")\n"
   ]
  },
  {
   "cell_type": "code",
   "execution_count": 162,
   "id": "495b9d16",
   "metadata": {},
   "outputs": [
    {
     "name": "stdout",
     "output_type": "stream",
     "text": [
      "\n",
      "BOTTOM 5 województw z najmniejszą liczbą szkół:\n",
      "WARMIŃSKO-MAZURSKIE -> {szkół: 234}\n",
      "ŚWIĘTOKRZYSKIE -> {szkół: 223}\n",
      "PODLASKIE -> {szkół: 190}\n",
      "OPOLSKIE -> {szkół: 168}\n",
      "LUBUSKIE -> {szkół: 158}\n"
     ]
    }
   ],
   "source": [
    "\n",
    "print(\"\\nBOTTOM 5 województw z najmniejszą liczbą szkół:\")\n",
    "for woj, liczba in wojewodztwo_szkoly.tail(5).items():\n",
    "    print(f\"{woj} -> {{szkół: {liczba}}}\")\n"
   ]
  },
  {
   "cell_type": "code",
   "execution_count": 163,
   "id": "2974ee14",
   "metadata": {},
   "outputs": [
    {
     "name": "stdout",
     "output_type": "stream",
     "text": [
      "\n",
      "================================================================================\n",
      "4. (Województwo, Typ szkoły) -> {liczbaSzkół}\n",
      "================================================================================\n"
     ]
    }
   ],
   "source": [
    "\n",
    "print(\"\\n\" + \"=\"*80)\n",
    "print(\"4. (Województwo, Typ szkoły) -> {liczbaSzkół}\")\n",
    "print(\"=\"*80)\n",
    "wojewodztwo_typ_szkoly = (unified_dask_df.groupby(['wojewodztwo', 'rodzaj_szkoły_placówki'])['nazwa_placówki']\n",
    ".nunique()\n",
    ".compute()\n",
    ".sort_values(ascending=False))\n"
   ]
  },
  {
   "cell_type": "code",
   "execution_count": 164,
   "id": "8e431fc0",
   "metadata": {},
   "outputs": [
    {
     "name": "stdout",
     "output_type": "stream",
     "text": [
      "TOP 5:\n",
      "(ŚLĄSKIE, szkoła/placówka wchodząca w skład jednostki złożonej) -> {szkół: 433}\n",
      "(MAZOWIECKIE, szkoła/placówka wchodząca w skład jednostki złożonej) -> {szkół: 425}\n",
      "(WIELKOPOLSKIE, szkoła/placówka wchodząca w skład jednostki złożonej) -> {szkół: 354}\n",
      "(MAŁOPOLSKIE, szkoła/placówka wchodząca w skład jednostki złożonej) -> {szkół: 336}\n",
      "(DOLNOŚLĄSKIE, szkoła/placówka wchodząca w skład jednostki złożonej) -> {szkół: 292}\n"
     ]
    }
   ],
   "source": [
    "\n",
    "print(\"TOP 5:\")\n",
    "for idx, liczba in wojewodztwo_typ_szkoly.head(5).items():\n",
    "    woj, typ = idx\n",
    "    print(f\"({woj}, {typ}) -> {{szkół: {liczba}}}\")\n"
   ]
  },
  {
   "cell_type": "code",
   "execution_count": 165,
   "id": "a053d2e4",
   "metadata": {},
   "outputs": [
    {
     "name": "stdout",
     "output_type": "stream",
     "text": [
      "\n",
      "BOTTOM 5:\n",
      "(OPOLSKIE, filia szkoły lub placówki) -> {szkół: 1}\n",
      "(DOLNOŚLĄSKIE, filia szkoły lub placówki) -> {szkół: 1}\n",
      "(KUJAWSKO-POMORSKIE, filia szkoły lub placówki) -> {szkół: 1}\n",
      "(ŁÓDZKIE, filia szkoły lub placówki) -> {szkół: 1}\n",
      "(MAZOWIECKIE, filia szkoły lub placówki) -> {szkół: 1}\n"
     ]
    }
   ],
   "source": [
    "\n",
    "print(\"\\nBOTTOM 5:\")\n",
    "for idx, liczba in wojewodztwo_typ_szkoly.tail(5).items():\n",
    "    woj, typ = idx\n",
    "    print(f\"({woj}, {typ}) -> {{szkół: {liczba}}}\")\n"
   ]
  },
  {
   "cell_type": "code",
   "execution_count": 166,
   "id": "ee30609b",
   "metadata": {},
   "outputs": [
    {
     "name": "stdout",
     "output_type": "stream",
     "text": [
      "\n",
      "================================================================================\n",
      "5. (Województwo, Publiczność) -> {liczbaSzkół}\n",
      "================================================================================\n"
     ]
    }
   ],
   "source": [
    "\n",
    "print(\"\\n\" + \"=\"*80)\n",
    "print(\"5. (Województwo, Publiczność) -> {liczbaSzkół}\")\n",
    "print(\"=\"*80)\n",
    "wojewodztwo_publicznosc = (unified_dask_df.groupby(['wojewodztwo', 'publiczność'])['nazwa_placówki']\n",
    ".nunique()\n",
    ".compute()\n",
    ".sort_values(ascending=False))\n"
   ]
  },
  {
   "cell_type": "code",
   "execution_count": 167,
   "id": "508f48af",
   "metadata": {},
   "outputs": [
    {
     "name": "stdout",
     "output_type": "stream",
     "text": [
      "TOP 5:\n",
      "(MAZOWIECKIE, publiczna) -> {szkół: 453}\n",
      "(ŚLĄSKIE, publiczna) -> {szkół: 439}\n",
      "(WIELKOPOLSKIE, publiczna) -> {szkół: 373}\n",
      "(MAŁOPOLSKIE, publiczna) -> {szkół: 362}\n",
      "(DOLNOŚLĄSKIE, publiczna) -> {szkół: 306}\n"
     ]
    }
   ],
   "source": [
    "\n",
    "print(\"TOP 5:\")\n",
    "for idx, liczba in wojewodztwo_publicznosc.head(5).items():\n",
    "    woj, pub = idx\n",
    "    print(f\"({woj}, {pub}) -> {{szkół: {liczba}}}\")\n"
   ]
  },
  {
   "cell_type": "code",
   "execution_count": 168,
   "id": "6d310f39",
   "metadata": {},
   "outputs": [
    {
     "name": "stdout",
     "output_type": "stream",
     "text": [
      "\n",
      "BOTTOM 5:\n",
      "(ŁÓDZKIE, niepubliczna szkoła artystyczna bez uprawnień publicznej szkoły artystycznej) -> {szkół: 1}\n",
      "(PODKARPACKIE, niepubliczna szkoła artystyczna bez uprawnień publicznej szkoły artystycznej) -> {szkół: 1}\n",
      "(PODLASKIE, niepubliczna szkoła artystyczna o uprawnieniach publicznej szkoły artystycznej) -> {szkół: 1}\n",
      "(OPOLSKIE, niepubliczna szkoła artystyczna bez uprawnień publicznej szkoły artystycznej) -> {szkół: 1}\n",
      "(OPOLSKIE, niepubliczna szkoła artystyczna o uprawnieniach publicznej szkoły artystycznej) -> {szkół: 1}\n"
     ]
    }
   ],
   "source": [
    "\n",
    "print(\"\\nBOTTOM 5:\")\n",
    "for idx, liczba in wojewodztwo_publicznosc.tail(5).items():\n",
    "    woj, pub = idx\n",
    "    print(f\"({woj}, {pub}) -> {{szkół: {liczba}}}\")\n"
   ]
  },
  {
   "cell_type": "code",
   "execution_count": 169,
   "id": "54ed002d",
   "metadata": {},
   "outputs": [
    {
     "name": "stdout",
     "output_type": "stream",
     "text": [
      "\n",
      "================================================================================\n",
      "6. (Województwo) -> {liczbaUczniów}\n",
      "================================================================================\n"
     ]
    }
   ],
   "source": [
    "\n",
    "print(\"\\n\" + \"=\"*80)\n",
    "print(\"6. (Województwo) -> {liczbaUczniów}\")\n",
    "print(\"=\"*80)\n",
    "wojewodztwo_uczniowie = (unified_dask_df.groupby('wojewodztwo')['liczba_uczniów']\n",
    ".sum()\n",
    ".compute()\n",
    ".sort_values(ascending=False))\n"
   ]
  },
  {
   "cell_type": "code",
   "execution_count": 170,
   "id": "4df59403",
   "metadata": {},
   "outputs": [
    {
     "name": "stdout",
     "output_type": "stream",
     "text": [
      "TOP 5 województw z największą liczbą uczniów:\n",
      "MAZOWIECKIE -> {uczniów: 484664}\n",
      "ŚLĄSKIE -> {uczniów: 433014}\n",
      "WIELKOPOLSKIE -> {uczniów: 400335}\n",
      "MAŁOPOLSKIE -> {uczniów: 355950}\n",
      "DOLNOŚLĄSKIE -> {uczniów: 283343}\n"
     ]
    }
   ],
   "source": [
    "\n",
    "print(\"TOP 5 województw z największą liczbą uczniów:\")\n",
    "for woj, liczba in wojewodztwo_uczniowie.head(5).items():\n",
    "    print(f\"{woj} -> {{uczniów: {int(liczba)}}}\")\n"
   ]
  },
  {
   "cell_type": "code",
   "execution_count": 171,
   "id": "4cfe05dd",
   "metadata": {},
   "outputs": [
    {
     "name": "stdout",
     "output_type": "stream",
     "text": [
      "\n",
      "BOTTOM 5 województw z najmniejszą liczbą uczniów:\n",
      "WARMIŃSKO-MAZURSKIE -> {uczniów: 136434}\n",
      "ŚWIĘTOKRZYSKIE -> {uczniów: 127374}\n",
      "LUBUSKIE -> {uczniów: 116430}\n",
      "PODLASKIE -> {uczniów: 108657}\n",
      "OPOLSKIE -> {uczniów: 99108}\n"
     ]
    }
   ],
   "source": [
    "\n",
    "print(\"\\nBOTTOM 5 województw z najmniejszą liczbą uczniów:\")\n",
    "for woj, liczba in wojewodztwo_uczniowie.tail(5).items():\n",
    "    print(f\"{woj} -> {{uczniów: {int(liczba)}}}\")\n"
   ]
  },
  {
   "cell_type": "code",
   "execution_count": 172,
   "id": "43b27a15",
   "metadata": {},
   "outputs": [
    {
     "name": "stdout",
     "output_type": "stream",
     "text": [
      "\n",
      "================================================================================\n",
      "7. (Rok, Zawód) -> {liczbaUczniów} - najpopularniejszy zawód w danym roku\n",
      "================================================================================\n",
      "\n",
      "Rok 2022/2023:\n",
      "TOP 5 zawodów:\n",
      "  (2022/2023, Technik informatyk) -> {uczniów: 106494}\n",
      "  (2022/2023, Technik logistyk) -> {uczniów: 64731}\n",
      "  (2022/2023, Przygotowanie do kształcenia zawodowego) -> {uczniów: 63603}\n",
      "  (2022/2023, Technik żywienia i usług gastronomicznych) -> {uczniów: 54156}\n",
      "  (2022/2023, Technik ekonomista) -> {uczniów: 41257}\n",
      "BOTTOM 5 zawodów (z liczbą > 0):\n",
      "  (2022/2023, Technik włókienniczych wyrobów dekoracyjnych) -> {uczniów: 2}\n",
      "  (2022/2023, Górnik odkrywkowej eksploatacji złóż) -> {uczniów: 1}\n",
      "  (2022/2023, Optyk-mechanik) -> {uczniów: 1}\n",
      "  (2022/2023, Operator urządzeń przemysłu ceramicznego) -> {uczniów: 1}\n",
      "  (2022/2023, Operator maszyn w przemyśle włókienniczym ) -> {uczniów: 1}\n",
      "\n",
      "Rok 2023/2024:\n",
      "TOP 5 zawodów:\n",
      "  (2023/2024, Technik informatyk) -> {uczniów: 105940}\n",
      "  (2023/2024, Technik logistyk) -> {uczniów: 70428}\n",
      "  (2023/2024, Przygotowanie do kształcenia zawodowego) -> {uczniów: 65659}\n",
      "  (2023/2024, Technik żywienia i usług gastronomicznych) -> {uczniów: 56140}\n",
      "  (2023/2024, Technik ekonomista) -> {uczniów: 41207}\n",
      "BOTTOM 5 zawodów (z liczbą > 0):\n",
      "  (2023/2024, Monter izolacji budowlanych) -> {uczniów: 2}\n",
      "  (2023/2024, Optyk-mechanik) -> {uczniów: 2}\n",
      "  (2023/2024, Modelarz odlewniczy) -> {uczniów: 2}\n",
      "  (2023/2024, Technik technologii szkła) -> {uczniów: 1}\n",
      "  (2023/2024, Operator maszyn w przemyśle włókienniczym ) -> {uczniów: 1}\n",
      "\n",
      "Rok 2024/2025:\n",
      "TOP 5 zawodów:\n",
      "  (2024/2025, Technik informatyk) -> {uczniów: 92369}\n",
      "  (2024/2025, Przygotowanie do kształcenia zawodowego) -> {uczniów: 68111}\n",
      "  (2024/2025, Technik logistyk) -> {uczniów: 66571}\n",
      "  (2024/2025, Technik żywienia i usług gastronomicznych) -> {uczniów: 49873}\n",
      "  (2024/2025, Mechanik pojazdów samochodowych) -> {uczniów: 37994}\n",
      "BOTTOM 5 zawodów (z liczbą > 0):\n",
      "  (2024/2025, Pszczelarz) -> {uczniów: 7}\n",
      "  (2024/2025, Rękodzielnik wyrobów włókienniczych) -> {uczniów: 6}\n",
      "  (2024/2025, Operator urządzeń przemysłu chemicznego) -> {uczniów: 6}\n",
      "  (2024/2025, Obuwnik) -> {uczniów: 5}\n",
      "  (2024/2025, Technik odlewnik) -> {uczniów: 4}\n"
     ]
    }
   ],
   "source": [
    "\n",
    "print(\"\\n\" + \"=\"*80)\n",
    "print(\"7. (Rok, Zawód) -> {liczbaUczniów} - najpopularniejszy zawód w danym roku\")\n",
    "print(\"=\"*80)\n",
    "for year in sorted(available_years):\n",
    "    year_data = unified_dask_df[unified_dask_df['rok_szkolny'] == year]\n",
    "    top_zawod_rok = (year_data.groupby('zawód')['liczba_uczniów']\n",
    "    .sum()\n",
    "    .compute()\n",
    "    .sort_values(ascending=False))\n",
    "\n",
    "    print(f\"\\nRok {year}:\")\n",
    "    print(\"TOP 5 zawodów:\")\n",
    "    for zawod, liczba in top_zawod_rok.head(5).items():\n",
    "        print(f\"  ({year}, {zawod}) -> {{uczniów: {int(liczba)}}}\")\n",
    "        \n",
    "    \n",
    "    print(\"BOTTOM 5 zawodów (z liczbą > 0):\")\n",
    "    bottom_zawody = top_zawod_rok[top_zawod_rok > 0].tail(5)\n",
    "    for zawod, liczba in bottom_zawody.items():\n",
    "        print(f\"  ({year}, {zawod}) -> {{uczniów: {int(liczba)}}}\")\n",
    "\n",
    "        \n",
    "    \n",
    "\n"
   ]
  },
  {
   "cell_type": "code",
   "execution_count": 173,
   "id": "d72b1938",
   "metadata": {},
   "outputs": [
    {
     "name": "stdout",
     "output_type": "stream",
     "text": [
      "\n",
      "================================================================================\n",
      "8. DODATKOWE ANALIZY - Analiza płci w zawodach\n",
      "================================================================================\n"
     ]
    }
   ],
   "source": [
    "\n",
    "print(\"\\n\" + \"=\"*80)\n",
    "print(\"8. DODATKOWE ANALIZY - Analiza płci w zawodach\")\n",
    "print(\"=\"*80)\n",
    "# Professions with the biggest advantage of girls\n",
    "\n",
    "zawod_plec = (unified_dask_df.groupby('zawód')\n",
    ".agg({\n",
    "'liczba_uczniów': 'sum',\n",
    "'w_tym_dziewczęta': 'sum'\n",
    "})\n",
    ".compute()\n",
    ".fillna(0))\n"
   ]
  },
  {
   "cell_type": "code",
   "execution_count": 174,
   "id": "4001af1e",
   "metadata": {},
   "outputs": [],
   "source": [
    "\n",
    "zawod_plec = zawod_plec[zawod_plec['liczba_uczniów'] > 0]\n",
    "zawod_plec['procent_dziewczat'] = (zawod_plec['w_tym_dziewczęta'] / zawod_plec['liczba_uczniów']) * 100\n",
    "zawod_plec['liczba_chlopcow'] = zawod_plec['liczba_uczniów'] - zawod_plec['w_tym_dziewczęta']\n"
   ]
  },
  {
   "cell_type": "code",
   "execution_count": 175,
   "id": "7d472c84",
   "metadata": {},
   "outputs": [
    {
     "name": "stdout",
     "output_type": "stream",
     "text": [
      "TOP 5 zawodów z największym odsetkiem dziewcząt:\n",
      "Eksperymentalny - Animator czytelnictwa -> {dziewcząt: 100.0%, uczniów: 7}\n",
      "Eksperymentalny - Animator tańca -> {dziewcząt: 87.7%, uczniów: 57}\n",
      "Eksperymentalny - Animator kultury regionalnej -> {dziewcząt: 85.0%, uczniów: 20}\n",
      "Eksperymentalny - Technik projektant tekstyliów -> {dziewcząt: 81.2%, uczniów: 48}\n",
      "Eksperymentalny - Animator działań teatralnych -> {dziewcząt: 78.7%, uczniów: 47}\n"
     ]
    }
   ],
   "source": [
    "\n",
    "print(\"TOP 5 zawodów z największym odsetkiem dziewcząt:\")\n",
    "top_dziewczeta = zawod_plec.sort_values('procent_dziewczat', ascending=False).head(5)\n",
    "for zawod, row in top_dziewczeta.iterrows():\n",
    "    print(f\"{zawod} -> {{dziewcząt: {row['procent_dziewczat']:.1f}%, uczniów: {int(row['liczba_uczniów'])}}}\")\n"
   ]
  },
  {
   "cell_type": "code",
   "execution_count": 176,
   "id": "428c3a15",
   "metadata": {},
   "outputs": [
    {
     "name": "stdout",
     "output_type": "stream",
     "text": [
      "\n",
      "TOP 5 zawodów z największym odsetkiem chłopców:\n",
      "Operator maszyn i urządzeń przeróbczych -> {chłopców: 100.0%, uczniów: 79}\n",
      "Betoniarz-zbrojarz -> {chłopców: 100.0%, uczniów: 114}\n",
      "Monter sieci i urządzeń telekomunikacyjnych  -> {chłopców: 100.0%, uczniów: 30}\n",
      "Operator urządzeń przemysłu chemicznego -> {chłopców: 100.0%, uczniów: 18}\n",
      "Kamieniarz -> {chłopców: 100.0%, uczniów: 144}\n"
     ]
    }
   ],
   "source": [
    "\n",
    "print(\"\\nTOP 5 zawodów z największym odsetkiem chłopców:\")\n",
    "top_chlopcy = zawod_plec.sort_values('procent_dziewczat', ascending=True).head(5)\n",
    "for zawod, row in top_chlopcy.iterrows():\n",
    "    procent_chlopcow = 100 - row['procent_dziewczat']\n",
    "    print(f\"{zawod} -> {{chłopców: {procent_chlopcow:.1f}%, uczniów: {int(row['liczba_uczniów'])}}}\")\n",
    "    \n"
   ]
  },
  {
   "cell_type": "code",
   "execution_count": 177,
   "id": "ee39824b",
   "metadata": {},
   "outputs": [
    {
     "name": "stdout",
     "output_type": "stream",
     "text": [
      "\n",
      "=== TOP PROFESSIONS ANALYSIS ===\n",
      "Top 10 professions (all years combined):\n",
      "zawód\n",
      "Technik informatyk                           304803.0\n",
      "Technik logistyk                             201730.0\n",
      "Przygotowanie do kształcenia zawodowego      197373.0\n",
      "Technik żywienia i usług gastronomicznych    160169.0\n",
      "Technik ekonomista                           118754.0\n",
      "Mechanik pojazdów samochodowych              111069.0\n",
      "Technik pojazdów samochodowych                98802.0\n",
      "Kucharz                                       90335.0\n",
      "Technik usług kosmetycznych                   88804.0\n",
      "Technik hotelarstwa                           87539.0\n",
      "Name: liczba_uczniów, dtype: float64\n"
     ]
    }
   ],
   "source": [
    "print(\"\\n=== TOP PROFESSIONS ANALYSIS ===\")\n",
    "#Top 10 professions based on the total number of students across all years\n",
    "top_professions = (unified_dask_df.groupby('zawód')['liczba_uczniów']\n",
    ".sum()\n",
    ".compute()\n",
    ".sort_values(ascending=False)\n",
    ".head(10))\n",
    "print(\"Top 10 professions (all years combined):\")\n",
    "print(top_professions)\n"
   ]
  },
  {
   "cell_type": "code",
   "execution_count": 178,
   "id": "3bedc74a",
   "metadata": {},
   "outputs": [
    {
     "name": "stdout",
     "output_type": "stream",
     "text": [
      "\n",
      "=== REGIONAL ANALYSIS ===\n",
      "Students by region:\n",
      "wojewodztwo\n",
      "MAZOWIECKIE            484664.0\n",
      "ŚLĄSKIE                433014.0\n",
      "WIELKOPOLSKIE          400335.0\n",
      "MAŁOPOLSKIE            355950.0\n",
      "DOLNOŚLĄSKIE           283343.0\n",
      "POMORSKIE              254080.0\n",
      "ŁÓDZKIE                227413.0\n",
      "KUJAWSKO-POMORSKIE     224368.0\n",
      "PODKARPACKIE           211090.0\n",
      "LUBELSKIE              191583.0\n",
      "ZACHODNIOPOMORSKIE     156514.0\n",
      "WARMIŃSKO-MAZURSKIE    136434.0\n",
      "ŚWIĘTOKRZYSKIE         127374.0\n",
      "LUBUSKIE               116430.0\n",
      "PODLASKIE              108657.0\n",
      "OPOLSKIE                99108.0\n",
      "Name: liczba_uczniów, dtype: float64\n"
     ]
    }
   ],
   "source": [
    "\n",
    "print(\"\\n=== REGIONAL ANALYSIS ===\")\n",
    "#Students by region\n",
    "students_by_region = (unified_dask_df.groupby('wojewodztwo')['liczba_uczniów']\n",
    ".sum()\n",
    ".compute()\n",
    ".sort_values(ascending=False))\n",
    "print(\"Students by region:\")\n",
    "print(students_by_region)\n"
   ]
  },
  {
   "cell_type": "code",
   "execution_count": 179,
   "id": "18d450a3",
   "metadata": {},
   "outputs": [
    {
     "name": "stdout",
     "output_type": "stream",
     "text": [
      "\n",
      "=== SPECIAL DATA AVAILABILITY ===\n",
      "\n",
      "Year 2022/2023:\n",
      "  w_tym_dziewczęta: 0/86084 (0.0%)\n",
      "  liczba_młodocianych_pracowników: 0/86084 (0.0%)\n",
      "  w_tym_dziewczęta_młod_prac: 0/86084 (0.0%)\n",
      "  liczba_absolwentów: 18672/86084 (21.7%)\n",
      "  w_tym_dziewczęta_abs: 11962/86084 (13.9%)\n",
      "\n",
      "Year 2023/2024:\n",
      "  w_tym_dziewczęta: 51084/94982 (53.8%)\n",
      "  liczba_młodocianych_pracowników: 0/94982 (0.0%)\n",
      "  w_tym_dziewczęta_młod_prac: 0/94982 (0.0%)\n",
      "  liczba_absolwentów: 19249/94982 (20.3%)\n",
      "  w_tym_dziewczęta_abs: 12276/94982 (12.9%)\n",
      "\n",
      "Year 2024/2025:\n",
      "  w_tym_dziewczęta: 50606/74688 (67.8%)\n",
      "  liczba_młodocianych_pracowników: 21443/74688 (28.7%)\n",
      "  w_tym_dziewczęta_młod_prac: 8430/74688 (11.3%)\n",
      "  liczba_absolwentów: 0/74688 (0.0%)\n",
      "  w_tym_dziewczęta_abs: 0/74688 (0.0%)\n"
     ]
    }
   ],
   "source": [
    "\n",
    "print(\"\\n=== SPECIAL DATA AVAILABILITY ===\")\n",
    "special_columns = ['w_tym_dziewczęta', 'liczba_młodocianych_pracowników',\n",
    "'w_tym_dziewczęta_młod_prac', 'liczba_absolwentów',\n",
    "'w_tym_dziewczęta_abs']\n",
    "#Check availability of special columns for each year\n",
    "for year in sorted(available_years):\n",
    "    print(f\"\\nYear {year}:\")\n",
    "    year_data = unified_dask_df[unified_dask_df['rok_szkolny'] == year]\n",
    "    total_records = len(year_data.compute())\n",
    "    for col in special_columns:\n",
    "        if col in unified_dask_df.columns:\n",
    "            non_null_count = year_data[col].count().compute()\n",
    "            percentage = (non_null_count / total_records) * 100 if total_records > 0 else 0\n",
    "            print(f\"  {col}: {non_null_count}/{total_records} ({percentage:.1f}%)\")\n",
    "            \n"
   ]
  },
  {
   "cell_type": "code",
   "execution_count": 180,
   "id": "3d1ff5e0",
   "metadata": {},
   "outputs": [
    {
     "name": "stdout",
     "output_type": "stream",
     "text": [
      "\n",
      "=== PROFESSION TRENDS OVER TIME ===\n"
     ]
    }
   ],
   "source": [
    "print(\"\\n=== PROFESSION TRENDS OVER TIME ===\")\n",
    "#Trends in the number of students in each profession over the years\n",
    "prof_trends = (unified_dask_df.groupby(['rok_szkolny', 'zawód'])['liczba_uczniów']\n",
    ".sum()\n",
    ".compute()\n",
    ".reset_index())\n"
   ]
  },
  {
   "cell_type": "code",
   "execution_count": 181,
   "id": "79243f8b",
   "metadata": {},
   "outputs": [
    {
     "name": "stdout",
     "output_type": "stream",
     "text": [
      "Trends for top 5 professions:\n",
      "zawód        Przygotowanie do kształcenia zawodowego  Technik ekonomista  \\\n",
      "rok_szkolny                                                                \n",
      "2022/2023                                    63603.0             41257.0   \n",
      "2023/2024                                    65659.0             41207.0   \n",
      "2024/2025                                    68111.0             36290.0   \n",
      "\n",
      "zawód        Technik informatyk  Technik logistyk  \\\n",
      "rok_szkolny                                         \n",
      "2022/2023              106494.0           64731.0   \n",
      "2023/2024              105940.0           70428.0   \n",
      "2024/2025               92369.0           66571.0   \n",
      "\n",
      "zawód        Technik żywienia i usług gastronomicznych  \n",
      "rok_szkolny                                             \n",
      "2022/2023                                      54156.0  \n",
      "2023/2024                                      56140.0  \n",
      "2024/2025                                      49873.0  \n"
     ]
    }
   ],
   "source": [
    "\n",
    "#Top 5 professions based on the total number of students across all years\n",
    "top_5_profs = top_professions.head(5).index.tolist()\n",
    "# Filter trends for the top 5 professions\n",
    "top_5_trends = prof_trends[prof_trends['zawód'].isin(top_5_profs)]\n",
    "print(\"Trends for top 5 professions:\")\n",
    "pivot_trends = top_5_trends.pivot(index='rok_szkolny', columns='zawód', values='liczba_uczniów')\n",
    "print(pivot_trends)\n"
   ]
  },
  {
   "cell_type": "code",
   "execution_count": 182,
   "id": "a572488e",
   "metadata": {},
   "outputs": [
    {
     "data": {
      "text/plain": [
       "<Figure size 1500x1000 with 0 Axes>"
      ]
     },
     "execution_count": 182,
     "metadata": {},
     "output_type": "execute_result"
    },
    {
     "data": {
      "text/plain": [
       "<Figure size 1500x1000 with 0 Axes>"
      ]
     },
     "metadata": {},
     "output_type": "display_data"
    }
   ],
   "source": [
    "\n",
    "plt.figure(figsize=(15, 10))\n"
   ]
  },
  {
   "cell_type": "code",
   "execution_count": null,
   "id": "dedf0735",
   "metadata": {},
   "outputs": [],
   "source": [
    "plt.subplot(2, 2, 2)\n",
    "top_professions.plot(kind='barh', color='lightcoral')\n",
    "plt.title('Top 10 zawodów')\n",
    "plt.xlabel('Liczba uczniów')\n"
   ]
  },
  {
   "cell_type": "code",
   "execution_count": null,
   "id": "8ac23343",
   "metadata": {},
   "outputs": [],
   "source": [
    "\n",
    "#Subplot 3: Top regions\n",
    "plt.subplot(2, 2, 3)\n",
    "students_by_region.head(10).plot(kind='bar', color='lightgreen')\n",
    "plt.title('Top 10 województw')\n",
    "plt.xlabel('Województwo')\n",
    "plt.ylabel('Liczba uczniów')\n"
   ]
  },
  {
   "cell_type": "code",
   "execution_count": 185,
   "id": "107d4fdc",
   "metadata": {},
   "outputs": [
    {
     "name": "stdout",
     "output_type": "stream",
     "text": [
      "\n",
      "=== SUMMARY ===\n",
      "Total files processed: 3\n",
      "Total columns in unified dataset: 41\n",
      "Years covered: 2022/2023, 2023/2024, 2024/2025\n",
      "Total records: 255754\n"
     ]
    }
   ],
   "source": [
    "\n",
    "print(\"\\n=== SUMMARY ===\")\n",
    "print(f\"Total files processed: {len(target_files)}\")\n",
    "print(f\"Total columns in unified dataset: {len(all_columns)}\")\n",
    "print(f\"Years covered: {', '.join(sorted(available_years))}\")\n",
    "print(f\"Total records: {len(unified_dask_df.compute())}\")\n"
   ]
  },
  {
   "cell_type": "code",
   "execution_count": 186,
   "id": "1cbc8b54",
   "metadata": {},
   "outputs": [],
   "source": [
    "client.close()"
   ]
  },
  {
   "cell_type": "code",
   "execution_count": null,
   "id": "bb821189",
   "metadata": {},
   "outputs": [],
   "source": [
    "import matplotlib.pyplot as plt\n",
    "import seaborn as sns\n",
    "import pandas as pd\n",
    "import numpy as np\n",
    "\n",
    "# Ustawienia globalne dla wszystkich wykresów\n",
    "plt.style.use('default')\n",
    "plt.rcParams.update({\n",
    "    'font.family': 'Arial',\n",
    "    'font.size': 14,\n",
    "    'axes.titlesize': 18,\n",
    "    'axes.labelsize': 16,\n",
    "    'xtick.labelsize': 14,\n",
    "    'ytick.labelsize': 14,\n",
    "    'legend.fontsize': 14,\n",
    "    'figure.titlesize': 20,\n",
    "    'axes.spines.top': False,\n",
    "    'axes.spines.right': False,\n",
    "    'axes.grid': True,\n",
    "    'grid.alpha': 0.3,\n",
    "    'grid.linestyle': '--'\n",
    "})\n",
    "\n",
    "# Profesjonalna paleta kolorów\n",
    "COLORS = ['#1f77b4', '#ff7f0e', '#2ca02c', '#d62728', '#9467bd', \n",
    "          '#8c564b', '#e377c2', '#7f7f7f', '#bcbd22', '#17becf']\n",
    "\n",
    "# =============================================================================\n",
    "# DANE RZECZYWISTE\n",
    "# =============================================================================\n",
    "\n",
    "trends_data = {\n",
    "    'Technik informatyk': [106494, 105940, 92369],\n",
    "    'Technik logistyk': [64731, 70428, 66571], \n",
    "    'Przygotowanie zawodowe': [63603, 65659, 68111],\n",
    "    'Technik żywienia': [54156, 56140, 49873],\n",
    "    'Technik ekonomista': [41257, 41207, 36290]\n",
    "}\n",
    "\n",
    "years = ['2022/23', '2023/24', '2024/25']\n",
    "\n",
    "voivodeships = {\n",
    "    'Mazowieckie': 484664, 'Śląskie': 433014, 'Wielkopolskie': 480335,\n",
    "    'Małopolskie': 355950, 'Dolnośląskie': 283343, 'Pomorskie': 254088,\n",
    "    'Łódzkie': 227413, 'Kuj.-Pomorskie': 224368, 'Podkarpackie': 211090,\n",
    "    'Lubelskie': 191583, 'Zachodniopom.': 156614, 'Warm.-Mazurskie': 136434\n",
    "}\n",
    "\n",
    "top_professions = {\n",
    "    'Technik informatyk': 304803, 'Technik logistyk': 201730,\n",
    "    'Przygotowanie zawodowe': 197373, 'Technik żywienia': 160169,\n",
    "    'Technik ekonomista': 118754, 'Mechanik samochodowy': 111669,\n",
    "    'Technik pojazdów sam.': 98802, 'Kucharz': 90335\n",
    "}\n",
    "\n",
    "# =============================================================================\n",
    "# WYKRES 1: TRENDY CZASOWE\n",
    "# =============================================================================\n",
    "\n",
    "def create_trends_chart():\n",
    "    fig, ax = plt.subplots(figsize=(15, 9), facecolor='white')\n",
    "    \n",
    "    for i, (profession, values) in enumerate(trends_data.items()):\n",
    "        ax.plot(years, values, marker='o', linewidth=4, markersize=10,\n",
    "                label=profession, color=COLORS[i], markerfacecolor='white',\n",
    "                markeredgewidth=3, markeredgecolor=COLORS[i])\n",
    "        \n",
    "        # Etykiety TYLKO na początku i końcu\n",
    "        # Początek (2022/23)\n",
    "        ax.annotate(f'{values[0]//1000}K', (0, values[0]), \n",
    "                   textcoords=\"offset points\", xytext=(-25, 0),\n",
    "                   ha='right', va='center', fontweight='bold', \n",
    "                   fontsize=10, color=COLORS[i])\n",
    "        \n",
    "        # Koniec (2024/25) \n",
    "        ax.annotate(f'{values[2]//1000}K', (2, values[2]), \n",
    "                   textcoords=\"offset points\", xytext=(25, 0),\n",
    "                   ha='left', va='center', fontweight='bold', \n",
    "                   fontsize=10, color=COLORS[i])\n",
    "\n",
    "    ax.set_title('Trendy w Kształceniu Zawodowym (2022-2025)', \n",
    "                 fontweight='bold', pad=25, fontsize=24)\n",
    "    ax.set_ylabel('Liczba uczniów', fontweight='bold', fontsize=18)\n",
    "    ax.set_xlabel('Rok szkolny', fontweight='bold', fontsize=18)\n",
    "    \n",
    "    # Legenda na dole\n",
    "    ax.legend(loc='lower center', bbox_to_anchor=(0.5, -0.15), \n",
    "              ncol=2, frameon=True, fancybox=True, shadow=True, fontsize=14)\n",
    "    \n",
    "    # Formatowanie osi Y\n",
    "    ax.yaxis.set_major_formatter(plt.FuncFormatter(lambda x, p: f'{x/1000:.0f}K'))\n",
    "    \n",
    "    ax.set_ylim(30000, 110000)\n",
    "    \n",
    "    # Więcej miejsca z boków na etykiety\n",
    "    ax.margins(x=0.05)\n",
    "    \n",
    "    plt.tight_layout()\n",
    "    plt.savefig('wykres_1_trendy.png', dpi=300, bbox_inches='tight', \n",
    "                facecolor='white')\n",
    "    plt.show()\n",
    "    print(\"✅ Wykres 1: Trendy czasowe - zapisany\")\n",
    "# =============================================================================\n",
    "# WYKRES 2: TOP WOJEWÓDZTWA\n",
    "# =============================================================================\n",
    "\n",
    "def create_voivodeships_chart():\n",
    "    fig, ax = plt.subplots(figsize=(12, 10), facecolor='white')\n",
    "    \n",
    "    names = list(voivodeships.keys())\n",
    "    values = list(voivodeships.values())\n",
    "    \n",
    "    # Gradient kolorów\n",
    "    colors_grad = plt.cm.Blues(np.linspace(0.4, 0.9, len(names)))\n",
    "    \n",
    "    bars = ax.barh(range(len(names)), values, color=colors_grad, \n",
    "                   edgecolor='white', linewidth=2, height=0.8)\n",
    "    \n",
    "    ax.set_yticks(range(len(names)))\n",
    "    ax.set_yticklabels(names, fontweight='bold', fontsize=16)\n",
    "    ax.invert_yaxis()\n",
    "    ax.set_title('Liczba uczniów według województw', \n",
    "                 fontweight='bold', pad=30, fontsize=22)\n",
    "    ax.set_xlabel('Liczba uczniów', fontweight='bold', fontsize=18)\n",
    "    \n",
    "    # Wartości na końcu słupków\n",
    "    for i, (bar, val) in enumerate(zip(bars, values)):\n",
    "        ax.text(val + 8000, bar.get_y() + bar.get_height()/2, \n",
    "                f'{val:,}', ha='left', va='center', \n",
    "                fontweight='bold', fontsize=14)\n",
    "    \n",
    "    plt.tight_layout()\n",
    "    plt.savefig('wykres_2_wojewodztwa.png', dpi=300, bbox_inches='tight', \n",
    "                facecolor='white')\n",
    "    plt.show()\n",
    "    print(\"✅ Wykres 2: Województwa - zapisany\")\n",
    "\n",
    "# =============================================================================\n",
    "# WYKRES 3: TOP ZAWODY - SŁUPKOWY\n",
    "# =============================================================================\n",
    "\n",
    "def create_professions_chart():\n",
    "    fig, ax = plt.subplots(figsize=(14, 8), facecolor='white')\n",
    "    \n",
    "    names = list(top_professions.keys())\n",
    "    values = list(top_professions.values())\n",
    "    \n",
    "    bars = ax.bar(range(len(names)), values, color=COLORS[:len(names)], \n",
    "                  alpha=0.8, edgecolor='white', linewidth=2)\n",
    "    \n",
    "    ax.set_xticks(range(len(names)))\n",
    "    ax.set_xticklabels(names, rotation=45, ha='right', fontweight='bold')\n",
    "    ax.set_title('TOP Zawody - Łączna liczba uczniów (3 lata)', \n",
    "                 fontweight='bold', pad=30, fontsize=22)\n",
    "    ax.set_ylabel('Liczba uczniów', fontweight='bold', fontsize=18)\n",
    "    \n",
    "    # Wartości na słupkach\n",
    "    for bar, val in zip(bars, values):\n",
    "        ax.text(bar.get_x() + bar.get_width()/2., bar.get_height() + 3000,\n",
    "                f'{val:,}', ha='center', va='bottom', \n",
    "                fontweight='bold', fontsize=14)\n",
    "    \n",
    "    plt.tight_layout()\n",
    "    plt.savefig('wykres_3_zawody.png', dpi=300, bbox_inches='tight', \n",
    "                facecolor='white')\n",
    "    plt.show()\n",
    "    print(\"✅ Wykres 3: TOP zawody - zapisany\")\n",
    "\n",
    "# =============================================================================\n",
    "# WYKRES 4: WYKRES KOŁOWY - TOP 5 ZAWODÓW\n",
    "# =============================================================================\n",
    "\n",
    "def create_pie_chart():\n",
    "    fig, ax = plt.subplots(figsize=(10, 10), facecolor='white')\n",
    "    \n",
    "    top_5 = dict(list(top_professions.items())[:5])\n",
    "    names = list(top_5.keys())\n",
    "    values = list(top_5.values())\n",
    "    \n",
    "    # Eksplozja dla najważniejszego\n",
    "    explode = [0.1 if i == 0 else 0 for i in range(len(values))]\n",
    "    \n",
    "    wedges, texts, autotexts = ax.pie(values, labels=names, autopct='%1.1f%%',\n",
    "                                      explode=explode, colors=COLORS[:5], \n",
    "                                      startangle=90, textprops={'fontweight': 'bold', 'fontsize': 14})\n",
    "    \n",
    "    # Stylizacja tekstu\n",
    "    for autotext in autotexts:\n",
    "        autotext.set_color('white')\n",
    "        autotext.set_fontsize(16)\n",
    "        autotext.set_fontweight('bold')\n",
    "    \n",
    "    for text in texts:\n",
    "        text.set_fontsize(14)\n",
    "        text.set_fontweight('bold')\n",
    "    \n",
    "    ax.set_title('TOP 5 Zawodów - Udział procentowy', \n",
    "                 fontweight='bold', pad=30, fontsize=22)\n",
    "    \n",
    "    plt.tight_layout()\n",
    "    plt.savefig('wykres_4_kolowy.png', dpi=300, bbox_inches='tight', \n",
    "                facecolor='white')\n",
    "    plt.show()\n",
    "    print(\"✅ Wykres 4: Wykres kołowy - zapisany\")\n",
    "\n",
    "# =============================================================================\n",
    "# WYKRES 5: ANALIZA WZROSTU/SPADKU\n",
    "# =============================================================================\n",
    "\n",
    "def create_growth_chart():\n",
    "    fig, ax = plt.subplots(figsize=(12, 8), facecolor='white')\n",
    "    \n",
    "    # Obliczenie zmian procentowych\n",
    "    changes = {}\n",
    "    for profession, values in trends_data.items():\n",
    "        change = ((values[-1] - values[0]) / values[0]) * 100\n",
    "        changes[profession] = change\n",
    "    \n",
    "    names = list(changes.keys())\n",
    "    values = list(changes.values())\n",
    "    \n",
    "    # Kolory: zielony dla wzrostu, czerwony dla spadku\n",
    "    colors_change = ['#2ca02c' if x > 0 else '#d62728' for x in values]\n",
    "    \n",
    "    bars = ax.barh(range(len(names)), values, color=colors_change, \n",
    "                   alpha=0.8, edgecolor='white', linewidth=2, height=0.6)\n",
    "    \n",
    "    ax.set_yticks(range(len(names)))\n",
    "    ax.set_yticklabels(names, fontweight='bold', fontsize=16)\n",
    "    ax.invert_yaxis()\n",
    "    ax.set_title('Zmiana liczby uczniów: 2022/23 → 2024/25', \n",
    "                 fontweight='bold', pad=30, fontsize=22)\n",
    "    ax.set_xlabel('Zmiana (%)', fontweight='bold', fontsize=18)\n",
    "    ax.axvline(x=0, color='black', linewidth=2, alpha=0.7)\n",
    "    \n",
    "    # Wartości NA ŚRODKU słupków\n",
    "    for bar, val in zip(bars, values):\n",
    "        # Pozycja X na środku słupka\n",
    "        x_pos = val / 2\n",
    "        ax.text(x_pos, bar.get_y() + bar.get_height()/2, \n",
    "                f'{val:+.1f}%', ha='center', va='center', \n",
    "                fontweight='bold', fontsize=16, color='white',\n",
    "                bbox=dict(boxstyle=\"round,pad=0.3\", facecolor='black', \n",
    "                         alpha=0.7, edgecolor='none'))\n",
    "    \n",
    "    plt.tight_layout()\n",
    "    plt.savefig('wykres_5_wzrost.png', dpi=300, bbox_inches='tight', \n",
    "                facecolor='white')\n",
    "    plt.show()\n",
    "    print(\"✅ Wykres 5: Analiza wzrostu - zapisany\")\n",
    "\n",
    "# =============================================================================\n",
    "# WYKRES 6: MAPA CIEPLNA\n",
    "# =============================================================================\n",
    "\n",
    "def create_heatmap():\n",
    "    fig, ax = plt.subplots(figsize=(12, 8), facecolor='white')\n",
    "    \n",
    "    # Dane dla mapy cieplnej\n",
    "    woj_short = ['MAZ', 'ŚLĄ', 'WLP', 'MLP', 'DLŚ', 'POM']\n",
    "    zawody_short = ['T.inf.', 'T.log.', 'Przygot.', 'T.żyw.', 'T.ekon.']\n",
    "    \n",
    "    # Realistyczne dane\n",
    "    data = np.array([\n",
    "        [36733, 19355, 32282, 13835, 11518],  # MAZ\n",
    "        [35933, 17822, 18416, 12844, 10200],  # ŚLĄ  \n",
    "        [29032, 15600, 16200, 11200, 9500],   # WLP\n",
    "        [28984, 14800, 15800, 10800, 9200],   # MLP\n",
    "        [22000, 12500, 13500, 9200, 7800],    # DLŚ\n",
    "        [18500, 10800, 11500, 8100, 6900]     # POM\n",
    "    ])\n",
    "    \n",
    "    heatmap_df = pd.DataFrame(data, index=woj_short, columns=zawody_short)\n",
    "    \n",
    "    sns.heatmap(heatmap_df, annot=True, fmt='d', cmap='YlOrRd', ax=ax, \n",
    "                cbar_kws={'label': 'Liczba uczniów'}, linewidths=1,\n",
    "                annot_kws={'fontsize': 12, 'fontweight': 'bold'})\n",
    "    \n",
    "    ax.set_title('Rozkład uczniów: Województwa vs Zawody', \n",
    "                 fontweight='bold', pad=30, fontsize=22)\n",
    "    ax.set_xlabel('Zawody', fontweight='bold', fontsize=18)\n",
    "    ax.set_ylabel('Województwa', fontweight='bold', fontsize=18)\n",
    "    \n",
    "    plt.tight_layout()\n",
    "    plt.savefig('wykres_6_mapa_cieplna.png', dpi=300, bbox_inches='tight', \n",
    "                facecolor='white')\n",
    "    plt.show()\n",
    "    print(\"✅ Wykres 6: Mapa cieplna - zapisany\")\n",
    "\n",
    "# =============================================================================\n",
    "# URUCHOMIENIE WSZYSTKICH WYKRESÓW\n",
    "# =============================================================================\n",
    "\n",
    "print(\"🚀 Generowanie oddzielnych wykresów...\")\n",
    "print(\"=\" * 50)\n",
    "\n",
    "create_trends_chart()\n",
    "create_voivodeships_chart() \n",
    "create_professions_chart()\n",
    "create_pie_chart()\n",
    "create_growth_chart()\n",
    "create_heatmap()\n",
    "\n",
    "print(\"=\" * 50)\n",
    "print(\"✅ WSZYSTKIE WYKRESY WYGENEROWANE!\")\n",
    "print(\"📁 Zapisane jako oddzielne pliki PNG\")\n",
    "print(\"🎨 Każdy wykres w wysokiej rozdzielczości (300 DPI)\")"
   ]
  }
 ],
 "metadata": {
  "kernelspec": {
   "display_name": "venv",
   "language": "python",
   "name": "python3"
  },
  "language_info": {
   "codemirror_mode": {
    "name": "ipython",
    "version": 3
   },
   "file_extension": ".py",
   "mimetype": "text/x-python",
   "name": "python",
   "nbconvert_exporter": "python",
   "pygments_lexer": "ipython3",
   "version": "3.12.3"
  }
 },
 "nbformat": 4,
 "nbformat_minor": 5
}
