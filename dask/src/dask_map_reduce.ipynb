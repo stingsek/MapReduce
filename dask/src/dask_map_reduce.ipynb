{
 "cells": [
  {
   "cell_type": "code",
   "execution_count": 1,
   "metadata": {},
   "outputs": [
    {
     "name": "stdout",
     "output_type": "stream",
     "text": [
      "Requirement already satisfied: pandas in c:\\users\\michał żądełek\\onedrive - politechnika wroclawska\\ite_sem1\\zbd\\mapreduce_env\\venv\\lib\\site-packages (2.2.3)\n",
      "Requirement already satisfied: openpyxl in c:\\users\\michał żądełek\\onedrive - politechnika wroclawska\\ite_sem1\\zbd\\mapreduce_env\\venv\\lib\\site-packages (3.1.5)\n",
      "Requirement already satisfied: matplotlib in c:\\users\\michał żądełek\\onedrive - politechnika wroclawska\\ite_sem1\\zbd\\mapreduce_env\\venv\\lib\\site-packages (3.10.3)\n",
      "Requirement already satisfied: seaborn in c:\\users\\michał żądełek\\onedrive - politechnika wroclawska\\ite_sem1\\zbd\\mapreduce_env\\venv\\lib\\site-packages (0.13.2)\n",
      "Requirement already satisfied: plotly in c:\\users\\michał żądełek\\onedrive - politechnika wroclawska\\ite_sem1\\zbd\\mapreduce_env\\venv\\lib\\site-packages (6.1.0)\n",
      "Requirement already satisfied: dash in c:\\users\\michał żądełek\\onedrive - politechnika wroclawska\\ite_sem1\\zbd\\mapreduce_env\\venv\\lib\\site-packages (3.0.4)\n",
      "Requirement already satisfied: psutil in c:\\users\\michał żądełek\\onedrive - politechnika wroclawska\\ite_sem1\\zbd\\mapreduce_env\\venv\\lib\\site-packages (7.0.0)\n",
      "Requirement already satisfied: dask[complete] in c:\\users\\michał żądełek\\onedrive - politechnika wroclawska\\ite_sem1\\zbd\\mapreduce_env\\venv\\lib\\site-packages (2025.5.0)\n",
      "Requirement already satisfied: click>=8.1 in c:\\users\\michał żądełek\\onedrive - politechnika wroclawska\\ite_sem1\\zbd\\mapreduce_env\\venv\\lib\\site-packages (from dask[complete]) (8.2.0)\n",
      "Requirement already satisfied: cloudpickle>=3.0.0 in c:\\users\\michał żądełek\\onedrive - politechnika wroclawska\\ite_sem1\\zbd\\mapreduce_env\\venv\\lib\\site-packages (from dask[complete]) (3.1.1)\n",
      "Requirement already satisfied: fsspec>=2021.09.0 in c:\\users\\michał żądełek\\onedrive - politechnika wroclawska\\ite_sem1\\zbd\\mapreduce_env\\venv\\lib\\site-packages (from dask[complete]) (2025.3.2)\n",
      "Requirement already satisfied: packaging>=20.0 in c:\\users\\michał żądełek\\onedrive - politechnika wroclawska\\ite_sem1\\zbd\\mapreduce_env\\venv\\lib\\site-packages (from dask[complete]) (25.0)\n",
      "Requirement already satisfied: partd>=1.4.0 in c:\\users\\michał żądełek\\onedrive - politechnika wroclawska\\ite_sem1\\zbd\\mapreduce_env\\venv\\lib\\site-packages (from dask[complete]) (1.4.2)\n",
      "Requirement already satisfied: pyyaml>=5.3.1 in c:\\users\\michał żądełek\\onedrive - politechnika wroclawska\\ite_sem1\\zbd\\mapreduce_env\\venv\\lib\\site-packages (from dask[complete]) (6.0.2)\n",
      "Requirement already satisfied: toolz>=0.10.0 in c:\\users\\michał żądełek\\onedrive - politechnika wroclawska\\ite_sem1\\zbd\\mapreduce_env\\venv\\lib\\site-packages (from dask[complete]) (1.0.0)\n",
      "Requirement already satisfied: pyarrow>=14.0.1 in c:\\users\\michał żądełek\\onedrive - politechnika wroclawska\\ite_sem1\\zbd\\mapreduce_env\\venv\\lib\\site-packages (from dask[complete]) (20.0.0)\n",
      "Requirement already satisfied: lz4>=4.3.2 in c:\\users\\michał żądełek\\onedrive - politechnika wroclawska\\ite_sem1\\zbd\\mapreduce_env\\venv\\lib\\site-packages (from dask[complete]) (4.4.4)\n",
      "Requirement already satisfied: numpy>=1.26.0 in c:\\users\\michał żądełek\\onedrive - politechnika wroclawska\\ite_sem1\\zbd\\mapreduce_env\\venv\\lib\\site-packages (from pandas) (2.2.5)\n",
      "Requirement already satisfied: python-dateutil>=2.8.2 in c:\\users\\michał żądełek\\onedrive - politechnika wroclawska\\ite_sem1\\zbd\\mapreduce_env\\venv\\lib\\site-packages (from pandas) (2.9.0.post0)\n",
      "Requirement already satisfied: pytz>=2020.1 in c:\\users\\michał żądełek\\onedrive - politechnika wroclawska\\ite_sem1\\zbd\\mapreduce_env\\venv\\lib\\site-packages (from pandas) (2025.2)\n",
      "Requirement already satisfied: tzdata>=2022.7 in c:\\users\\michał żądełek\\onedrive - politechnika wroclawska\\ite_sem1\\zbd\\mapreduce_env\\venv\\lib\\site-packages (from pandas) (2025.2)\n",
      "Requirement already satisfied: et-xmlfile in c:\\users\\michał żądełek\\onedrive - politechnika wroclawska\\ite_sem1\\zbd\\mapreduce_env\\venv\\lib\\site-packages (from openpyxl) (2.0.0)\n",
      "Requirement already satisfied: contourpy>=1.0.1 in c:\\users\\michał żądełek\\onedrive - politechnika wroclawska\\ite_sem1\\zbd\\mapreduce_env\\venv\\lib\\site-packages (from matplotlib) (1.3.2)\n",
      "Requirement already satisfied: cycler>=0.10 in c:\\users\\michał żądełek\\onedrive - politechnika wroclawska\\ite_sem1\\zbd\\mapreduce_env\\venv\\lib\\site-packages (from matplotlib) (0.12.1)\n",
      "Requirement already satisfied: fonttools>=4.22.0 in c:\\users\\michał żądełek\\onedrive - politechnika wroclawska\\ite_sem1\\zbd\\mapreduce_env\\venv\\lib\\site-packages (from matplotlib) (4.58.0)\n",
      "Requirement already satisfied: kiwisolver>=1.3.1 in c:\\users\\michał żądełek\\onedrive - politechnika wroclawska\\ite_sem1\\zbd\\mapreduce_env\\venv\\lib\\site-packages (from matplotlib) (1.4.8)\n",
      "Requirement already satisfied: pillow>=8 in c:\\users\\michał żądełek\\onedrive - politechnika wroclawska\\ite_sem1\\zbd\\mapreduce_env\\venv\\lib\\site-packages (from matplotlib) (11.2.1)\n",
      "Requirement already satisfied: pyparsing>=2.3.1 in c:\\users\\michał żądełek\\onedrive - politechnika wroclawska\\ite_sem1\\zbd\\mapreduce_env\\venv\\lib\\site-packages (from matplotlib) (3.2.3)\n",
      "Requirement already satisfied: narwhals>=1.15.1 in c:\\users\\michał żądełek\\onedrive - politechnika wroclawska\\ite_sem1\\zbd\\mapreduce_env\\venv\\lib\\site-packages (from plotly) (1.39.0)\n",
      "Requirement already satisfied: Flask<3.1,>=1.0.4 in c:\\users\\michał żądełek\\onedrive - politechnika wroclawska\\ite_sem1\\zbd\\mapreduce_env\\venv\\lib\\site-packages (from dash) (3.0.3)\n",
      "Requirement already satisfied: Werkzeug<3.1 in c:\\users\\michał żądełek\\onedrive - politechnika wroclawska\\ite_sem1\\zbd\\mapreduce_env\\venv\\lib\\site-packages (from dash) (3.0.6)\n",
      "Requirement already satisfied: importlib-metadata in c:\\users\\michał żądełek\\onedrive - politechnika wroclawska\\ite_sem1\\zbd\\mapreduce_env\\venv\\lib\\site-packages (from dash) (8.7.0)\n",
      "Requirement already satisfied: typing-extensions>=4.1.1 in c:\\users\\michał żądełek\\onedrive - politechnika wroclawska\\ite_sem1\\zbd\\mapreduce_env\\venv\\lib\\site-packages (from dash) (4.13.2)\n",
      "Requirement already satisfied: requests in c:\\users\\michał żądełek\\onedrive - politechnika wroclawska\\ite_sem1\\zbd\\mapreduce_env\\venv\\lib\\site-packages (from dash) (2.32.3)\n",
      "Requirement already satisfied: retrying in c:\\users\\michał żądełek\\onedrive - politechnika wroclawska\\ite_sem1\\zbd\\mapreduce_env\\venv\\lib\\site-packages (from dash) (1.3.4)\n",
      "Requirement already satisfied: nest-asyncio in c:\\users\\michał żądełek\\onedrive - politechnika wroclawska\\ite_sem1\\zbd\\mapreduce_env\\venv\\lib\\site-packages (from dash) (1.6.0)\n",
      "Requirement already satisfied: setuptools in c:\\users\\michał żądełek\\onedrive - politechnika wroclawska\\ite_sem1\\zbd\\mapreduce_env\\venv\\lib\\site-packages (from dash) (77.0.3)\n",
      "Requirement already satisfied: colorama in c:\\users\\michał żądełek\\onedrive - politechnika wroclawska\\ite_sem1\\zbd\\mapreduce_env\\venv\\lib\\site-packages (from click>=8.1->dask[complete]) (0.4.6)\n",
      "Requirement already satisfied: Jinja2>=3.1.2 in c:\\users\\michał żądełek\\onedrive - politechnika wroclawska\\ite_sem1\\zbd\\mapreduce_env\\venv\\lib\\site-packages (from Flask<3.1,>=1.0.4->dash) (3.1.6)\n",
      "Requirement already satisfied: itsdangerous>=2.1.2 in c:\\users\\michał żądełek\\onedrive - politechnika wroclawska\\ite_sem1\\zbd\\mapreduce_env\\venv\\lib\\site-packages (from Flask<3.1,>=1.0.4->dash) (2.2.0)\n",
      "Requirement already satisfied: blinker>=1.6.2 in c:\\users\\michał żądełek\\onedrive - politechnika wroclawska\\ite_sem1\\zbd\\mapreduce_env\\venv\\lib\\site-packages (from Flask<3.1,>=1.0.4->dash) (1.9.0)\n",
      "Requirement already satisfied: locket in c:\\users\\michał żądełek\\onedrive - politechnika wroclawska\\ite_sem1\\zbd\\mapreduce_env\\venv\\lib\\site-packages (from partd>=1.4.0->dask[complete]) (1.0.0)\n",
      "Requirement already satisfied: six>=1.5 in c:\\users\\michał żądełek\\onedrive - politechnika wroclawska\\ite_sem1\\zbd\\mapreduce_env\\venv\\lib\\site-packages (from python-dateutil>=2.8.2->pandas) (1.17.0)\n",
      "Requirement already satisfied: MarkupSafe>=2.1.1 in c:\\users\\michał żądełek\\onedrive - politechnika wroclawska\\ite_sem1\\zbd\\mapreduce_env\\venv\\lib\\site-packages (from Werkzeug<3.1->dash) (3.0.2)\n",
      "Requirement already satisfied: distributed==2025.5.0 in c:\\users\\michał żądełek\\onedrive - politechnika wroclawska\\ite_sem1\\zbd\\mapreduce_env\\venv\\lib\\site-packages (from dask[complete]) (2025.5.0)\n",
      "Requirement already satisfied: bokeh>=3.1.0 in c:\\users\\michał żądełek\\onedrive - politechnika wroclawska\\ite_sem1\\zbd\\mapreduce_env\\venv\\lib\\site-packages (from dask[complete]) (3.7.3)\n",
      "Requirement already satisfied: msgpack>=1.0.2 in c:\\users\\michał żądełek\\onedrive - politechnika wroclawska\\ite_sem1\\zbd\\mapreduce_env\\venv\\lib\\site-packages (from distributed==2025.5.0->dask[complete]) (1.1.0)\n",
      "Requirement already satisfied: sortedcontainers>=2.0.5 in c:\\users\\michał żądełek\\onedrive - politechnika wroclawska\\ite_sem1\\zbd\\mapreduce_env\\venv\\lib\\site-packages (from distributed==2025.5.0->dask[complete]) (2.4.0)\n",
      "Requirement already satisfied: tblib>=1.6.0 in c:\\users\\michał żądełek\\onedrive - politechnika wroclawska\\ite_sem1\\zbd\\mapreduce_env\\venv\\lib\\site-packages (from distributed==2025.5.0->dask[complete]) (3.1.0)\n",
      "Requirement already satisfied: tornado>=6.2.0 in c:\\users\\michał żądełek\\onedrive - politechnika wroclawska\\ite_sem1\\zbd\\mapreduce_env\\venv\\lib\\site-packages (from distributed==2025.5.0->dask[complete]) (6.4.2)\n",
      "Requirement already satisfied: urllib3>=1.26.5 in c:\\users\\michał żądełek\\onedrive - politechnika wroclawska\\ite_sem1\\zbd\\mapreduce_env\\venv\\lib\\site-packages (from distributed==2025.5.0->dask[complete]) (2.4.0)\n",
      "Requirement already satisfied: zict>=3.0.0 in c:\\users\\michał żądełek\\onedrive - politechnika wroclawska\\ite_sem1\\zbd\\mapreduce_env\\venv\\lib\\site-packages (from distributed==2025.5.0->dask[complete]) (3.0.0)\n",
      "Requirement already satisfied: zipp>=3.20 in c:\\users\\michał żądełek\\onedrive - politechnika wroclawska\\ite_sem1\\zbd\\mapreduce_env\\venv\\lib\\site-packages (from importlib-metadata->dash) (3.21.0)\n",
      "Requirement already satisfied: charset-normalizer<4,>=2 in c:\\users\\michał żądełek\\onedrive - politechnika wroclawska\\ite_sem1\\zbd\\mapreduce_env\\venv\\lib\\site-packages (from requests->dash) (3.4.2)\n",
      "Requirement already satisfied: idna<4,>=2.5 in c:\\users\\michał żądełek\\onedrive - politechnika wroclawska\\ite_sem1\\zbd\\mapreduce_env\\venv\\lib\\site-packages (from requests->dash) (3.10)\n",
      "Requirement already satisfied: certifi>=2017.4.17 in c:\\users\\michał żądełek\\onedrive - politechnika wroclawska\\ite_sem1\\zbd\\mapreduce_env\\venv\\lib\\site-packages (from requests->dash) (2025.4.26)\n",
      "Requirement already satisfied: xyzservices>=2021.09.1 in c:\\users\\michał żądełek\\onedrive - politechnika wroclawska\\ite_sem1\\zbd\\mapreduce_env\\venv\\lib\\site-packages (from bokeh>=3.1.0->dask[complete]) (2025.4.0)\n"
     ]
    },
    {
     "name": "stderr",
     "output_type": "stream",
     "text": [
      "\n",
      "[notice] A new release of pip is available: 25.0.1 -> 25.1.1\n",
      "[notice] To update, run: python.exe -m pip install --upgrade pip\n"
     ]
    }
   ],
   "source": [
    "! pip install \"dask[complete]\" pandas openpyxl matplotlib seaborn plotly dash psutil"
   ]
  },
  {
   "cell_type": "code",
   "execution_count": 1,
   "id": "31cac993",
   "metadata": {},
   "outputs": [],
   "source": [
    "# Import necessary libraries\n",
    "import dask.dataframe as dd\n",
    "import pandas as pd\n",
    "import glob\n",
    "import os\n",
    "import dask\n",
    "import matplotlib.pyplot as plt\n",
    "from dask.distributed import Client, progress\n",
    "import numpy as np\n"
   ]
  },
  {
   "cell_type": "code",
   "execution_count": null,
   "id": "c209dfc3",
   "metadata": {},
   "outputs": [
    {
     "name": "stdout",
     "output_type": "stream",
     "text": [
      "Dashboard link: http://127.0.0.1:8787/status\n"
     ]
    },
    {
     "name": "stderr",
     "output_type": "stream",
     "text": [
      "2025-05-30 06:52:00,547 - distributed.scheduler - WARNING - Worker failed to heartbeat for 1026s; attempting restart: <WorkerState 'tcp://127.0.0.1:62104', name: 3, status: running, memory: 0, processing: 0>\n",
      "2025-05-30 06:52:00,550 - distributed.scheduler - WARNING - Worker failed to heartbeat for 1026s; attempting restart: <WorkerState 'tcp://127.0.0.1:62105', name: 1, status: running, memory: 0, processing: 0>\n",
      "2025-05-30 06:52:00,551 - distributed.scheduler - WARNING - Worker failed to heartbeat for 1026s; attempting restart: <WorkerState 'tcp://127.0.0.1:62110', name: 2, status: running, memory: 0, processing: 0>\n",
      "2025-05-30 06:52:01,550 - distributed.nanny - WARNING - Restarting worker\n",
      "2025-05-30 06:52:01,566 - distributed.nanny - WARNING - Restarting worker\n",
      "2025-05-30 06:52:01,572 - distributed.nanny - WARNING - Restarting worker\n",
      "2025-05-30 07:07:04,686 - distributed.shuffle._scheduler_plugin - WARNING - Shuffle 3edf276cf2ef48c7b86b91978ee531f3 initialized by task ('shuffle-transfer-3edf276cf2ef48c7b86b91978ee531f3', 1) executed on worker tcp://127.0.0.1:54665\n",
      "2025-05-30 07:07:13,966 - distributed.shuffle._scheduler_plugin - WARNING - Shuffle 3edf276cf2ef48c7b86b91978ee531f3 deactivated due to stimulus 'task-finished-1748581633.966176'\n",
      "Task exception was never retrieved\n",
      "future: <Task finished name='Task-1333102' coro=<Client._gather.<locals>.wait() done, defined at c:\\Users\\Michał Żądełek\\OneDrive - Politechnika Wroclawska\\ITE_sem1\\ZBD\\mapreduce_env\\venv\\Lib\\site-packages\\distributed\\client.py:2377> exception=AllExit()>\n",
      "Traceback (most recent call last):\n",
      "  File \"c:\\Users\\Michał Żądełek\\OneDrive - Politechnika Wroclawska\\ITE_sem1\\ZBD\\mapreduce_env\\venv\\Lib\\site-packages\\distributed\\client.py\", line 2386, in wait\n",
      "    raise AllExit()\n",
      "distributed.client.AllExit\n",
      "Task exception was never retrieved\n",
      "future: <Task finished name='Task-1397251' coro=<Client._gather.<locals>.wait() done, defined at c:\\Users\\Michał Żądełek\\OneDrive - Politechnika Wroclawska\\ITE_sem1\\ZBD\\mapreduce_env\\venv\\Lib\\site-packages\\distributed\\client.py:2377> exception=AllExit()>\n",
      "Traceback (most recent call last):\n",
      "  File \"c:\\Users\\Michał Żądełek\\OneDrive - Politechnika Wroclawska\\ITE_sem1\\ZBD\\mapreduce_env\\venv\\Lib\\site-packages\\distributed\\client.py\", line 2386, in wait\n",
      "    raise AllExit()\n",
      "distributed.client.AllExit\n",
      "2025-05-30 07:20:12,962 - distributed.shuffle._scheduler_plugin - WARNING - Shuffle 200b77ec72c6f69c41ffc869ed2ae627 initialized by task ('shuffle-transfer-200b77ec72c6f69c41ffc869ed2ae627', 1) executed on worker tcp://127.0.0.1:54660\n",
      "2025-05-30 07:20:23,755 - distributed.shuffle._scheduler_plugin - WARNING - Shuffle 200b77ec72c6f69c41ffc869ed2ae627 deactivated due to stimulus 'task-finished-1748582423.7539136'\n",
      "2025-05-30 07:21:26,055 - distributed.shuffle._scheduler_plugin - WARNING - Shuffle ba01cef83e9537b58ee301b647ccdf72 initialized by task ('shuffle-transfer-ba01cef83e9537b58ee301b647ccdf72', 1) executed on worker tcp://127.0.0.1:54665\n",
      "2025-05-30 07:21:36,867 - distributed.shuffle._scheduler_plugin - WARNING - Shuffle ba01cef83e9537b58ee301b647ccdf72 deactivated due to stimulus 'task-finished-1748582496.8596265'\n",
      "2025-05-30 07:23:22,491 - distributed.shuffle._scheduler_plugin - WARNING - Shuffle 5f99de0225ec836b03cacd878c65c028 initialized by task ('shuffle-transfer-5f99de0225ec836b03cacd878c65c028', 1) executed on worker tcp://127.0.0.1:54665\n",
      "2025-05-30 07:23:34,164 - distributed.shuffle._scheduler_plugin - WARNING - Shuffle 5f99de0225ec836b03cacd878c65c028 deactivated due to stimulus 'task-finished-1748582614.162367'\n",
      "Task exception was never retrieved\n",
      "future: <Task finished name='Task-1740748' coro=<Client._gather.<locals>.wait() done, defined at c:\\Users\\Michał Żądełek\\OneDrive - Politechnika Wroclawska\\ITE_sem1\\ZBD\\mapreduce_env\\venv\\Lib\\site-packages\\distributed\\client.py:2377> exception=AllExit()>\n",
      "Traceback (most recent call last):\n",
      "  File \"c:\\Users\\Michał Żądełek\\OneDrive - Politechnika Wroclawska\\ITE_sem1\\ZBD\\mapreduce_env\\venv\\Lib\\site-packages\\distributed\\client.py\", line 2386, in wait\n",
      "    raise AllExit()\n",
      "distributed.client.AllExit\n"
     ]
    }
   ],
   "source": [
    "# Start a local Dask client\n",
    "client = Client()\n",
    "print(f\"Dashboard link: {client.dashboard_link}\")"
   ]
  },
  {
   "cell_type": "code",
   "execution_count": 3,
   "id": "33b2ced6",
   "metadata": {},
   "outputs": [
    {
     "name": "stdout",
     "output_type": "stream",
     "text": [
      "Found 7 files to process\n"
     ]
    }
   ],
   "source": [
    "res_path = \"../resources\"\n",
    "excel_files = glob.glob(os.path.join(res_path, \"*.xlsx\"))\n",
    "print(f\"Found {len(excel_files)} files to process\")"
   ]
  },
  {
   "cell_type": "code",
   "execution_count": 5,
   "id": "93f4bce6",
   "metadata": {},
   "outputs": [
    {
     "name": "stdout",
     "output_type": "stream",
     "text": [
      "\n",
      "--- COLUMN ANALYSIS ---\n",
      "File: ../resources\\liczba_uczniów_zawody_szkolnictwa_zawodowego_klasy_młodociani_prac_rok_szkolny_20242025_absolwenci_20232024.xlsx\n",
      "Columns and datatypes:\n",
      "  - rok_szkolny: object\n",
      "  - idterytgmina: int64\n",
      "  - idterytwojewodztwo: int64\n",
      "  - wojewodztwo: object\n",
      "  - powiat: object\n",
      "  - gmina: object\n",
      "  - typ_obszaru: object\n",
      "  - miejscowość: object\n",
      "  - rspo: int64\n",
      "  - idtyppodmiotu: int64\n",
      "  - typ_podmiotu: object\n",
      "  - idrodzajplacowki: int64\n",
      "  - rodzaj_szkoły/placówki: object\n",
      "  - idkategoriauczniow: int64\n",
      "  - kategoria_uczniów: object\n",
      "  - idpublicznosc: int64\n",
      "  - publiczność: object\n",
      "  - idspecyfikaszkoly: int64\n",
      "  - specyfika_szkoły: object\n",
      "  - idtyporgprow: int64\n",
      "  - typ_organu_prowadzącego: object\n",
      "  - organ_prowadzący: object\n",
      "  - nazwa_placówki: object\n",
      "  - ulica: object\n",
      "  - numer_domu: object\n",
      "  - kod_pocztowy: object\n",
      "  - poczta: object\n",
      "  - numer_telefonu: object\n",
      "  - numer_faksu: float64\n",
      "  - adres_email: object\n",
      "  - adres_www: object\n",
      "  - regon: int64\n",
      "  - idzawod: int64\n",
      "  - zawód: object\n",
      "  - idklasa: float64\n",
      "  - klasa: object\n",
      "  - liczba_uczniów: float64\n",
      "  - w_tym_dziewczęta: float64\n",
      "  - liczba_młodocianych_pracowników: float64\n",
      "  - w_tym_dziewczęta_młod_prac: float64\n",
      "  - liczba_absolwentów: float64\n",
      "  - w_tym_dziewczęta_abs: float64\n",
      "File: ../resources\\liczba_uczniów_zawody_szkolnictwa_zawodowego_klasy_rok_szkolny_20192020.xlsx\n",
      "Columns and datatypes:\n",
      "  - idterytgmina: int64\n",
      "  - idterytwojewodztwo: int64\n",
      "  - wojewodztwo: object\n",
      "  - powiat: object\n",
      "  - gmina: object\n",
      "  - typ_obszaru: object\n",
      "  - miejscowość: object\n",
      "  - rspo: int64\n",
      "  - idtyppodmiotu: int64\n",
      "  - typ_podmiotu: object\n",
      "  - idrodzajplacowki: int64\n",
      "  - rodzaj_szkoły/placówki: object\n",
      "  - idkategoriauczniow: int64\n",
      "  - kategoria_uczniów: object\n",
      "  - idpublicznosc: int64\n",
      "  - publiczność: object\n",
      "  - idspecyfikaszkoly: int64\n",
      "  - specyfika_szkoły: object\n",
      "  - idtyporgprow: int64\n",
      "  - typ_organu_prowadzącego: object\n",
      "  - organ_prowadzący: object\n",
      "  - nazwa_placówki: object\n",
      "  - ulica: object\n",
      "  - numer_domu: object\n",
      "  - kod_pocztowy: object\n",
      "  - poczta: object\n",
      "  - numer_telefonu: object\n",
      "  - numer_faksu: object\n",
      "  - adres_email: object\n",
      "  - adres_www: object\n",
      "  - regon: int64\n",
      "  - idzawod: int64\n",
      "  - zawód: object\n",
      "  - idklasa: int64\n",
      "  - klasa: object\n",
      "  - liczba_uczniów: int64\n",
      "File: ../resources\\liczba_uczniów_zawody_szkolnictwa_zawodowego_klasy_rok_szkolny_20202021.xlsx\n",
      "Columns and datatypes:\n",
      "  - idterytgmina: int64\n",
      "  - idterytwojewodztwo: int64\n",
      "  - wojewodztwo: object\n",
      "  - powiat: object\n",
      "  - gmina: object\n",
      "  - typ_obszaru: object\n",
      "  - miejscowość: object\n",
      "  - rspo: int64\n",
      "  - idtyppodmiotu: int64\n",
      "  - typ_podmiotu: object\n",
      "  - idrodzajplacowki: int64\n",
      "  - rodzaj_szkoły/placówki: object\n",
      "  - idkategoriauczniow: int64\n",
      "  - kategoria_uczniów: object\n",
      "  - idpublicznosc: int64\n",
      "  - publiczność: object\n",
      "  - idspecyfikaszkoly: int64\n",
      "  - specyfika_szkoły: object\n",
      "  - idtyporgprow: int64\n",
      "  - typ_organu_prowadzącego: object\n",
      "  - organ_prowadzący: object\n",
      "  - nazwa_placówki: object\n",
      "  - ulica: object\n",
      "  - numer_domu: object\n",
      "  - kod_pocztowy: object\n",
      "  - poczta: object\n",
      "  - numer_telefonu: object\n",
      "  - numer_faksu: object\n",
      "  - adres_email: object\n",
      "  - adres_www: object\n",
      "  - regon: int64\n",
      "  - idzawod: int64\n",
      "  - zawód: object\n",
      "  - idklasa: int64\n",
      "  - klasa: object\n",
      "  - liczba_uczniów: int64\n",
      "File: ../resources\\liczba_uczniów_zawody_szkolnictwa_zawodowego_klasy_rok_szkolny_20212022.xlsx\n",
      "Columns and datatypes:\n",
      "  - idterytgmina: int64\n",
      "  - idterytwojewodztwo: int64\n",
      "  - wojewodztwo: object\n",
      "  - powiat: object\n",
      "  - gmina: object\n",
      "  - typ_obszaru: object\n",
      "  - miejscowość: object\n",
      "  - rspo: int64\n",
      "  - idtyppodmiotu: int64\n",
      "  - typ_podmiotu: object\n",
      "  - idrodzajplacowki: int64\n",
      "  - rodzaj_szkoły/placówki: object\n",
      "  - idkategoriauczniow: int64\n",
      "  - kategoria_uczniów: object\n",
      "  - idpublicznosc: int64\n",
      "  - publiczność: object\n",
      "  - idspecyfikaszkoly: int64\n",
      "  - specyfika_szkoły: object\n",
      "  - idtyporgprow: int64\n",
      "  - typ_organu_prowadzącego: object\n",
      "  - organ_prowadzący: object\n",
      "  - nazwa_placówki: object\n",
      "  - ulica: object\n",
      "  - numer_domu: object\n",
      "  - kod_pocztowy: object\n",
      "  - poczta: object\n",
      "  - numer_telefonu: object\n",
      "  - numer_faksu: object\n",
      "  - adres_email: object\n",
      "  - adres_www: object\n",
      "  - regon: int64\n",
      "  - idzawod: int64\n",
      "  - zawód: object\n",
      "  - idklasa: int64\n",
      "  - klasa: object\n",
      "  - liczba_uczniów: int64\n",
      "File: ../resources\\liczba_uczniów_zawody_szkolnictwa_zawodowego_klasy_rok_szkolny_20222023.xlsx\n",
      "Columns and datatypes:\n",
      "  - idterytgmina: int64\n",
      "  - idterytwojewodztwo: int64\n",
      "  - wojewodztwo: object\n",
      "  - powiat: object\n",
      "  - gmina: object\n",
      "  - typ_obszaru: object\n",
      "  - miejscowość: object\n",
      "  - rspo: int64\n",
      "  - idtyppodmiotu: int64\n",
      "  - typ_podmiotu: object\n",
      "  - idrodzajplacowki: int64\n",
      "  - rodzaj_szkoły/placówki: object\n",
      "  - idkategoriauczniow: int64\n",
      "  - kategoria_uczniów: object\n",
      "  - idpublicznosc: int64\n",
      "  - publiczność: object\n",
      "  - idspecyfikaszkoly: int64\n",
      "  - specyfika_szkoły: object\n",
      "  - idtyporgprow: int64\n",
      "  - typ_organu_prowadzącego: object\n",
      "  - organ_prowadzący: object\n",
      "  - nazwa_placówki: object\n",
      "  - ulica: object\n",
      "  - numer_domu: object\n",
      "  - kod_pocztowy: object\n",
      "  - poczta: object\n",
      "  - numer_telefonu: object\n",
      "  - numer_faksu: object\n",
      "  - adres_email: object\n",
      "  - adres_www: object\n",
      "  - regon: int64\n",
      "  - idzawod: int64\n",
      "  - zawód: object\n",
      "  - idklasa: int64\n",
      "  - klasa: object\n",
      "  - liczba_uczniów: int64\n",
      "File: ../resources\\liczba_uczniów_zawody_szkolnictwa_zawodowego_klasy_rok_szkolny_20232024_absolwenci_20222023_OHW9KDz.xlsx\n",
      "Columns and datatypes:\n",
      "  - rok_szkolny: object\n",
      "  - idterytgmina: int64\n",
      "  - idterytwojewodztwo: int64\n",
      "  - wojewodztwo: object\n",
      "  - powiat: object\n",
      "  - gmina: object\n",
      "  - typ_obszaru: object\n",
      "  - miejscowość: object\n",
      "  - rspo: int64\n",
      "  - idtyppodmiotu: int64\n",
      "  - typ_podmiotu: object\n",
      "  - idrodzajplacowki: int64\n",
      "  - rodzaj_szkoły/placówki: object\n",
      "  - idkategoriauczniow: int64\n",
      "  - kategoria_uczniów: object\n",
      "  - idpublicznosc: int64\n",
      "  - publiczność: object\n",
      "  - idspecyfikaszkoly: int64\n",
      "  - specyfika_szkoły: object\n",
      "  - idtyporgprow: int64\n",
      "  - typ_organu_prowadzącego: object\n",
      "  - organ_prowadzący: object\n",
      "  - nazwa_placówki: object\n",
      "  - ulica: object\n",
      "  - numer_domu: object\n",
      "  - kod_pocztowy: object\n",
      "  - poczta: object\n",
      "  - numer_telefonu: object\n",
      "  - numer_faksu: object\n",
      "  - adres_email: object\n",
      "  - adres_www: object\n",
      "  - regon: int64\n",
      "  - idzawod: int64\n",
      "  - zawód: object\n",
      "  - idklasa: float64\n",
      "  - klasa: object\n",
      "  - liczba_uczniów: float64\n",
      "  - w_tym_dziewczęta: float64\n",
      "  - liczba_absolwentów: float64\n",
      "  - w_tym_dziewczęta_abs: float64\n",
      "File: ../resources\\liczba_uczniów_zawody_szkolnictwa_zawodowego_rok_szkolny_20192020.xlsx\n",
      "Columns and datatypes:\n",
      "  - idterytgmina: int64\n",
      "  - idterytwojewodztwo: int64\n",
      "  - wojewodztwo: object\n",
      "  - powiat: object\n",
      "  - gmina: object\n",
      "  - typ_obszaru: object\n",
      "  - miejscowość: object\n",
      "  - rspo: int64\n",
      "  - idtyppodmiotu: int64\n",
      "  - typ_podmiotu: object\n",
      "  - idrodzajplacowki: int64\n",
      "  - rodzaj_szkoły/placówki: object\n",
      "  - idkategoriauczniow: int64\n",
      "  - kategoria_uczniów: object\n",
      "  - idpublicznosc: int64\n",
      "  - publiczność: object\n",
      "  - idspecyfikaszkoly: int64\n",
      "  - specyfika_szkoły: object\n",
      "  - idtyporgprow: int64\n",
      "  - typ_organu_prowadzącego: object\n",
      "  - organ_prowadzący: object\n",
      "  - nazwa_placówki: object\n",
      "  - ulica: object\n",
      "  - numer_domu: object\n",
      "  - kod_pocztowy: object\n",
      "  - poczta: object\n",
      "  - numer_telefonu: object\n",
      "  - numer_faksu: object\n",
      "  - adres_email: object\n",
      "  - adres_www: object\n",
      "  - regon: int64\n",
      "  - idzawod: int64\n",
      "  - zawód: object\n",
      "  - liczba_uczniów: int64\n"
     ]
    }
   ],
   "source": [
    "\n",
    "def common_elements(list1, list2):\n",
    "    return list(set(list1) & set(list2))\n",
    "\n",
    "common_columns = None\n",
    "all_column_types = {}\n",
    "\n",
    "print(\"\\n--- COLUMN ANALYSIS ---\")\n",
    "for file in excel_files:\n",
    "    try:\n",
    "        print(f\"File: {file}\")\n",
    "        df = pd.read_excel(file)\n",
    "        \n",
    "        df.columns = [col.strip().lower().replace(\" \", \"_\") for col in df.columns]\n",
    "        \n",
    "        print(\"Columns and datatypes:\")\n",
    "        for col, dtype in df.dtypes.items():\n",
    "            print(f\"  - {col}: {dtype}\")\n",
    "        \n",
    "        for col in df.columns:\n",
    "            if col not in all_column_types:\n",
    "                all_column_types[col] = []\n",
    "            all_column_types[col].append(str(df[col].dtype))\n",
    "        \n",
    "        if common_columns is None:\n",
    "            common_columns = df.columns.tolist()\n",
    "        else:\n",
    "            common_columns = common_elements(common_columns, df.columns)\n",
    "    except Exception as e:\n",
    "        print(f\"Error while processing {file}: {e}\")"
   ]
  },
  {
   "cell_type": "code",
   "execution_count": 6,
   "id": "a5206f40",
   "metadata": {},
   "outputs": [],
   "source": [
    "import pandas as pd\n",
    "import numpy as np\n",
    "import glob\n",
    "import os\n",
    "\n",
    "def normalize_column_name(col_name):\n",
    "    \"\"\"Normalizuje nazwy kolumn do jednolitego formatu\"\"\"\n",
    "    return col_name.strip().lower().replace(\" \", \"_\").replace(\"/\", \"_\")\n",
    "\n",
    "def extract_year_from_filename(filename):\n",
    "    \"\"\"Wyciąga rok szkolny z nazwy pliku\"\"\"\n",
    "    if \"20222023\" in filename:\n",
    "        return \"2022/2023\"\n",
    "    elif \"20232024\" in filename:\n",
    "        return \"2023/2024\" \n",
    "    elif \"20242025\" in filename:\n",
    "        return \"2024/2025\"\n",
    "    elif \"20212022\" in filename:\n",
    "        return \"2021/2022\"\n",
    "    elif \"20202021\" in filename:\n",
    "        return \"2020/2021\"\n",
    "    elif \"20192020\" in filename:\n",
    "        return \"2019/2020\"\n",
    "    else:\n",
    "        return \"Unknown\"\n"
   ]
  },
  {
   "cell_type": "code",
   "execution_count": 5,
   "id": "6157e031",
   "metadata": {},
   "outputs": [
    {
     "name": "stdout",
     "output_type": "stream",
     "text": [
      "Target files for 2022-2024: 3\n",
      "  - liczba_uczniów_zawody_szkolnictwa_zawodowego_klasy_młodociani_prac_rok_szkolny_20242025_absolwenci_20232024.xlsx\n",
      "  - liczba_uczniów_zawody_szkolnictwa_zawodowego_klasy_rok_szkolny_20222023.xlsx\n",
      "  - liczba_uczniów_zawody_szkolnictwa_zawodowego_klasy_rok_szkolny_20232024_absolwenci_20222023_OHW9KDz.xlsx\n"
     ]
    }
   ],
   "source": [
    "target_files = [f for f in excel_files if any(year in f for year in [\"20222023\", \"20232024\", \"20242025\"])]\n",
    "print(f\"Target files for 2022-2024: {len(target_files)}\")\n",
    "for f in target_files:\n",
    "    print(f\"  - {os.path.basename(f)}\")"
   ]
  },
  {
   "cell_type": "code",
   "execution_count": 14,
   "id": "809af850",
   "metadata": {},
   "outputs": [
    {
     "name": "stdout",
     "output_type": "stream",
     "text": [
      "Total expected columns: 41\n"
     ]
    }
   ],
   "source": [
    "all_columns = [\n",
    "'rok_szkolny', 'idterytgmina', 'idterytwojewodztwo', 'wojewodztwo',\n",
    "'powiat', 'gmina', 'typ_obszaru', 'miejscowość', 'rspo',\n",
    "'idtyppodmiotu', 'typ_podmiotu', 'idrodzajplacowki',\n",
    "'rodzaj_szkoły_placówki', 'idkategoriauczniow', 'kategoria_uczniów',\n",
    "'idpublicznosc', 'publiczność', 'idspecyfikaszkoly', 'specyfika_szkoły',\n",
    "'idtyporgprow', 'typ_organu_prowadzącego', 'organ_prowadzący',\n",
    "'nazwa_placówki', 'ulica', 'numer_domu', 'kod_pocztowy', 'poczta',\n",
    "'numer_telefonu', 'adres_email', 'adres_www', 'regon',\n",
    "'idzawod', 'zawód', 'idklasa', 'klasa', 'liczba_uczniów',\n",
    "'w_tym_dziewczęta', 'liczba_młodocianych_pracowników',\n",
    "'w_tym_dziewczęta_młod_prac', 'liczba_absolwentów', 'w_tym_dziewczęta_abs'\n",
    "]\n",
    "print(f\"Total expected columns: {len(all_columns)}\")"
   ]
  },
  {
   "cell_type": "code",
   "execution_count": 15,
   "id": "34ba76b3",
   "metadata": {},
   "outputs": [],
   "source": [
    "def process_excel_file_unified(filename, target_columns):\n",
    "    \"\"\"\n",
    "    Przetwarza plik Excel i ujednolica kolumny\n",
    "    \"\"\"\n",
    "    try:\n",
    "        year = extract_year_from_filename(filename)\n",
    "        print(f\"Processing file: {os.path.basename(filename)}, year: {year}\")\n",
    "        # Wczytaj plik Excel\n",
    "        df = pd.read_excel(filename)\n",
    "        \n",
    "        # Normalizuj nazwy kolumn\n",
    "        df.columns = [normalize_column_name(col) for col in df.columns]\n",
    "        \n",
    "        # Dodaj rok szkolny jeśli go nie ma\n",
    "        if 'rok_szkolny' not in df.columns:\n",
    "            df['rok_szkolny'] = year\n",
    "        \n",
    "        # Napraw nazwę kolumny rodzaj_szkoły/placówki\n",
    "        if 'rodzaj_szkoły_placówki' in df.columns:\n",
    "            pass  # już jest poprawna\n",
    "        elif 'rodzaj_szkoły/placówki' in df.columns:\n",
    "            df['rodzaj_szkoły_placówki'] = df['rodzaj_szkoły/placówki']\n",
    "            df = df.drop('rodzaj_szkoły/placówki', axis=1)\n",
    "        \n",
    "        # Utwórz DataFrame z wszystkimi docelowymi kolumnami\n",
    "        unified_df = pd.DataFrame()\n",
    "        \n",
    "        # Skopiuj istniejące kolumny\n",
    "        for col in target_columns:\n",
    "            if col in df.columns:\n",
    "                unified_df[col] = df[col]\n",
    "            else:\n",
    "                # Dodaj brakujące kolumny jako NaN\n",
    "                unified_df[col] = np.nan\n",
    "        \n",
    "        # Konwertuj typy danych numerycznych\n",
    "        numeric_columns = ['liczba_uczniów', 'w_tym_dziewczęta', \n",
    "                        'liczba_młodocianych_pracowników', 'w_tym_dziewczęta_młod_prac',\n",
    "                        'liczba_absolwentów', 'w_tym_dziewczęta_abs']\n",
    "        \n",
    "        for col in numeric_columns:\n",
    "            if col in unified_df.columns:\n",
    "                unified_df[col] = pd.to_numeric(unified_df[col], errors='coerce')\n",
    "        \n",
    "        print(f\"  - Processed {len(unified_df)} rows with {len(unified_df.columns)} columns\")\n",
    "        return unified_df\n",
    "        \n",
    "    except Exception as e:\n",
    "        print(f\"Error processing {filename}: {e}\")\n",
    "        # Zwróć pusty DataFrame z docelowymi kolumnami\n",
    "        return pd.DataFrame(columns=target_columns)"
   ]
  },
  {
   "cell_type": "code",
   "execution_count": 16,
   "id": "efdfd81b",
   "metadata": {},
   "outputs": [],
   "source": [
    "delayed_dfs = [dask.delayed(process_excel_file_unified)(file, all_columns) for file in target_files]"
   ]
  },
  {
   "cell_type": "code",
   "execution_count": null,
   "id": "ff7bb95a",
   "metadata": {},
   "outputs": [
    {
     "name": "stdout",
     "output_type": "stream",
     "text": [
      "Creating unified Dask DataFrame...\n",
      "Unified DataFrame shape: (<dask_expr.expr.Scalar: expr=ArrowStringConversion(frame=FromDelayed(dea7d76)).size() // 41, dtype=int64>, 41)\n",
      "Columns: ['rok_szkolny', 'idterytgmina', 'idterytwojewodztwo', 'wojewodztwo', 'powiat', 'gmina', 'typ_obszaru', 'miejscowość', 'rspo', 'idtyppodmiotu', 'typ_podmiotu', 'idrodzajplacowki', 'rodzaj_szkoły_placówki', 'idkategoriauczniow', 'kategoria_uczniów', 'idpublicznosc', 'publiczność', 'idspecyfikaszkoly', 'specyfika_szkoły', 'idtyporgprow', 'typ_organu_prowadzącego', 'organ_prowadzący', 'nazwa_placówki', 'ulica', 'numer_domu', 'kod_pocztowy', 'poczta', 'numer_telefonu', 'adres_email', 'adres_www', 'regon', 'idzawod', 'zawód', 'idklasa', 'klasa', 'liczba_uczniów', 'w_tym_dziewczęta', 'liczba_młodocianych_pracowników', 'w_tym_dziewczęta_młod_prac', 'liczba_absolwentów', 'w_tym_dziewczęta_abs']\n"
     ]
    }
   ],
   "source": [
    "print(\"Creating unified Dask DataFrame...\")\n",
    "unified_dask_df = dd.from_delayed(delayed_dfs)\n",
    "print(f\"Unified DataFrame shape: {unified_dask_df.shape}\")\n",
    "print(f\"Columns: {list(unified_dask_df.columns)}\")"
   ]
  },
  {
   "cell_type": "code",
   "execution_count": null,
   "id": "47e0f50d",
   "metadata": {},
   "outputs": [
    {
     "name": "stdout",
     "output_type": "stream",
     "text": [
      "\n",
      "=== KEY-VALUE ANALYSIS ===\n",
      "Available years: ['2022/2023', '2023/2024', '2024/2025']\n"
     ]
    }
   ],
   "source": [
    "print(\"\\n=== KEY-VALUE ANALYSIS ===\")\n",
    "###Sprawdź dostępne lata\n",
    "available_years = unified_dask_df['rok_szkolny'].unique().compute()\n",
    "print(f\"Available years: {sorted(available_years)}\")\n"
   ]
  },
  {
   "cell_type": "code",
   "execution_count": 20,
   "id": "1554ef73",
   "metadata": {},
   "outputs": [
    {
     "name": "stdout",
     "output_type": "stream",
     "text": [
      "\n",
      "1. (Województwo, Zawód) -> {liczbaUczniów, liczbaChłopców, liczbaDziewcząt}\n",
      "================================================================================\n"
     ]
    }
   ],
   "source": [
    "\n",
    "###Oblicz liczby chłopców (liczba_uczniów - w_tym_dziewczęta)\n",
    "unified_dask_df = unified_dask_df.assign(\n",
    "liczba_chlopcow=unified_dask_df['liczba_uczniów'] - unified_dask_df['w_tym_dziewczęta'].fillna(0)\n",
    ")\n",
    "print(\"\\n1. (Województwo, Zawód) -> {liczbaUczniów, liczbaChłopców, liczbaDziewcząt}\")\n",
    "print(\"=\"*80)\n",
    "wojewodztwo_zawod = (unified_dask_df.groupby(['wojewodztwo', 'zawód'])\n",
    ".agg({\n",
    "'liczba_uczniów': 'sum',\n",
    "'liczba_chlopcow': 'sum',\n",
    "'w_tym_dziewczęta': 'sum'\n",
    "})\n",
    ".compute()\n",
    ".fillna(0))\n"
   ]
  },
  {
   "cell_type": "code",
   "execution_count": 21,
   "id": "7f8b0108",
   "metadata": {},
   "outputs": [
    {
     "name": "stdout",
     "output_type": "stream",
     "text": [
      "TOP 5:\n",
      "(MAZOWIECKIE, Technik informatyk) -> {uczniów: 36733, chłopców: 35342, dziewcząt: 1391}\n",
      "(ŚLĄSKIE, Technik informatyk) -> {uczniów: 35933, chłopców: 34621, dziewcząt: 1312}\n",
      "(MAŁOPOLSKIE, Przygotowanie do kształcenia zawodowego) -> {uczniów: 32282, chłopców: 18416, dziewcząt: 13866}\n",
      "(WIELKOPOLSKIE, Technik informatyk) -> {uczniów: 29032, chłopców: 27816, dziewcząt: 1216}\n",
      "(MAŁOPOLSKIE, Technik informatyk) -> {uczniów: 28984, chłopców: 27943, dziewcząt: 1041}\n"
     ]
    }
   ],
   "source": [
    "\n",
    "###Top 5 kombinacji według liczby uczniów\n",
    "top_5_woj_zawod = wojewodztwo_zawod.sort_values('liczba_uczniów', ascending=False).head(5)\n",
    "print(\"TOP 5:\")\n",
    "for idx, row in top_5_woj_zawod.iterrows():\n",
    "    woj, zawod = idx\n",
    "    print(f\"({woj}, {zawod}) -> {{uczniów: {int(row['liczba_uczniów'])}, chłopców: {int(row['liczba_chlopcow'])}, dziewcząt: {int(row['w_tym_dziewczęta'])}}}\")\n"
   ]
  },
  {
   "cell_type": "code",
   "execution_count": null,
   "id": "4ec5102d",
   "metadata": {},
   "outputs": [],
   "source": []
  },
  {
   "cell_type": "code",
   "execution_count": 26,
   "id": "fc07f3a2",
   "metadata": {},
   "outputs": [
    {
     "name": "stdout",
     "output_type": "stream",
     "text": [
      "\n",
      "BOTTOM 5:\n",
      "(WARMIŃSKO-MAZURSKIE, Optyk-mechanik) -> {uczniów: 1, chłopców: 1, dziewcząt: 0}\n",
      "(OPOLSKIE, Drukarz fleksograficzny) -> {uczniów: 1, chłopców: 1, dziewcząt: 0}\n",
      "(DOLNOŚLĄSKIE, Górnik odkrywkowej eksploatacji złóż) -> {uczniów: 1, chłopców: 1, dziewcząt: 0}\n",
      "(DOLNOŚLĄSKIE, Cieśla) -> {uczniów: 1, chłopców: 1, dziewcząt: 0}\n",
      "(MAZOWIECKIE, Mechanik precyzyjny) -> {uczniów: 1, chłopców: 1, dziewcząt: 0}\n"
     ]
    }
   ],
   "source": [
    "\n",
    "###Bottom 5 kombinacji według liczby uczniów (ale większe niż 0)\n",
    "bottom_5_woj_zawod = wojewodztwo_zawod[wojewodztwo_zawod['liczba_uczniów'] > 0].sort_values('liczba_uczniów', ascending=True).head(5)\n",
    "print(\"\\nBOTTOM 5:\")\n",
    "for idx, row in bottom_5_woj_zawod.iterrows():\n",
    "    woj, zawod = idx\n",
    "    \n",
    "    print(f\"({woj}, {zawod}) -> {{uczniów: {int(row['liczba_uczniów'])}, chłopców: {int(row['liczba_chlopcow'])}, dziewcząt: {int(row['w_tym_dziewczęta'])}}}\")\n"
   ]
  },
  {
   "cell_type": "code",
   "execution_count": 27,
   "id": "5fa2c1ad",
   "metadata": {},
   "outputs": [
    {
     "name": "stdout",
     "output_type": "stream",
     "text": [
      "\n",
      "================================================================================\n",
      "(2. Typ obszaru, Zawód) -> {liczbaUczniów, liczbaChłopców, liczbaDziewcząt}\n",
      "================================================================================\n"
     ]
    }
   ],
   "source": [
    "\n",
    "print(\"\\n\" + \"=\"*80)\n",
    "print(\"(2. Typ obszaru, Zawód) -> {liczbaUczniów, liczbaChłopców, liczbaDziewcząt}\")\n",
    "print(\"=\"*80)\n",
    "obszar_zawod = (unified_dask_df.groupby(['typ_obszaru', 'zawód'])\n",
    ".agg({\n",
    "'liczba_uczniów': 'sum',\n",
    "'liczba_chlopcow': 'sum',\n",
    "'w_tym_dziewczęta': 'sum'\n",
    "})\n",
    ".compute()\n",
    ".fillna(0))\n"
   ]
  },
  {
   "cell_type": "code",
   "execution_count": null,
   "id": "ed6bb375",
   "metadata": {},
   "outputs": [],
   "source": []
  },
  {
   "cell_type": "code",
   "execution_count": 29,
   "id": "e4286170",
   "metadata": {},
   "outputs": [
    {
     "name": "stdout",
     "output_type": "stream",
     "text": [
      "TOP 5:\n",
      "(obszar miejski, Technik informatyk) -> {uczniów: 294457, chłopców: 282113, dziewcząt: 12344}\n",
      "(obszar miejski, Technik logistyk) -> {uczniów: 193538, chłopców: 144332, dziewcząt: 49206}\n",
      "(obszar miejski, Przygotowanie do kształcenia zawodowego) -> {uczniów: 180482, chłopców: 103030, dziewcząt: 77452}\n",
      "(obszar miejski, Technik żywienia i usług gastronomicznych) -> {uczniów: 138385, chłopców: 73990, dziewcząt: 64395}\n",
      "(obszar miejski, Technik ekonomista) -> {uczniów: 115318, chłopców: 65770, dziewcząt: 49548}\n"
     ]
    }
   ],
   "source": [
    "\n",
    "#Top 5\n",
    "top_5_obszar_zawod = obszar_zawod.sort_values('liczba_uczniów', ascending=False).head(5)\n",
    "print(\"TOP 5:\")\n",
    "for idx, row in top_5_obszar_zawod.iterrows():\n",
    "    obszar, zawod = idx\n",
    "    print(f\"({obszar}, {zawod}) -> {{uczniów: {int(row['liczba_uczniów'])}, chłopców: {int(row['liczba_chlopcow'])}, dziewcząt: {int(row['w_tym_dziewczęta'])}}}\")\n"
   ]
  },
  {
   "cell_type": "code",
   "execution_count": 30,
   "id": "6c02b3e2",
   "metadata": {},
   "outputs": [
    {
     "name": "stdout",
     "output_type": "stream",
     "text": [
      "\n",
      "BOTTOM 5:\n",
      "(obszar miejski, Operator urządzeń przemysłu ceramicznego) -> {uczniów: 1, chłopców: 1, dziewcząt: 0}\n",
      "(obszar miejski, Górnik odkrywkowej eksploatacji złóż) -> {uczniów: 1, chłopców: 1, dziewcząt: 0}\n",
      "(obszar wiejski, Monter sieci i urządzeń telekomunikacyjnych ) -> {uczniów: 2, chłopców: 2, dziewcząt: 0}\n",
      "(obszar wiejski, Technik inżynierii sanitarnej) -> {uczniów: 2, chłopców: 2, dziewcząt: 0}\n",
      "(obszar miejski, Operator maszyn w przemyśle włókienniczym ) -> {uczniów: 2, chłopców: 2, dziewcząt: 0}\n"
     ]
    }
   ],
   "source": [
    "\n",
    "\n",
    "#Bottom 5\n",
    "bottom_5_obszar_zawod = obszar_zawod[obszar_zawod['liczba_uczniów'] > 0].sort_values('liczba_uczniów', ascending=True).head(5)\n",
    "print(\"\\nBOTTOM 5:\")\n",
    "for idx, row in bottom_5_obszar_zawod.iterrows():\n",
    "    obszar, zawod = idx\n",
    "    print(f\"({obszar}, {zawod}) -> {{uczniów: {int(row['liczba_uczniów'])}, chłopców: {int(row['liczba_chlopcow'])}, dziewcząt: {int(row['w_tym_dziewczęta'])}}}\")\n"
   ]
  },
  {
   "cell_type": "code",
   "execution_count": 31,
   "id": "43fd491f",
   "metadata": {},
   "outputs": [
    {
     "name": "stdout",
     "output_type": "stream",
     "text": [
      "\n",
      "================================================================================\n",
      "3. Województwo -> {liczbaSzkół}\n",
      "================================================================================\n"
     ]
    }
   ],
   "source": [
    "\n",
    "print(\"\\n\" + \"=\"*80)\n",
    "print(\"3. Województwo -> {liczbaSzkół}\")\n",
    "print(\"=\"*80)\n",
    "wojewodztwo_szkoly = (unified_dask_df.groupby('wojewodztwo')['nazwa_placówki']\n",
    ".nunique()\n",
    ".compute()\n",
    ".sort_values(ascending=False))\n"
   ]
  },
  {
   "cell_type": "code",
   "execution_count": 32,
   "id": "0eef4121",
   "metadata": {},
   "outputs": [
    {
     "name": "stdout",
     "output_type": "stream",
     "text": [
      "TOP 5 województw z największą liczbą szkół:\n",
      "MAZOWIECKIE -> {szkół: 676}\n",
      "ŚLĄSKIE -> {szkół: 630}\n",
      "WIELKOPOLSKIE -> {szkół: 525}\n",
      "MAŁOPOLSKIE -> {szkół: 516}\n",
      "DOLNOŚLĄSKIE -> {szkół: 429}\n"
     ]
    }
   ],
   "source": [
    "\n",
    "print(\"TOP 5 województw z największą liczbą szkół:\")\n",
    "for woj, liczba in wojewodztwo_szkoly.head(5).items():\n",
    "    print(f\"{woj} -> {{szkół: {liczba}}}\")\n"
   ]
  },
  {
   "cell_type": "code",
   "execution_count": 33,
   "id": "495b9d16",
   "metadata": {},
   "outputs": [
    {
     "name": "stdout",
     "output_type": "stream",
     "text": [
      "\n",
      "BOTTOM 5 województw z najmniejszą liczbą szkół:\n",
      "WARMIŃSKO-MAZURSKIE -> {szkół: 234}\n",
      "ŚWIĘTOKRZYSKIE -> {szkół: 223}\n",
      "PODLASKIE -> {szkół: 190}\n",
      "OPOLSKIE -> {szkół: 168}\n",
      "LUBUSKIE -> {szkół: 158}\n"
     ]
    }
   ],
   "source": [
    "\n",
    "print(\"\\nBOTTOM 5 województw z najmniejszą liczbą szkół:\")\n",
    "for woj, liczba in wojewodztwo_szkoly.tail(5).items():\n",
    "    print(f\"{woj} -> {{szkół: {liczba}}}\")\n"
   ]
  },
  {
   "cell_type": "code",
   "execution_count": 34,
   "id": "2974ee14",
   "metadata": {},
   "outputs": [
    {
     "name": "stdout",
     "output_type": "stream",
     "text": [
      "\n",
      "================================================================================\n",
      "4. (Województwo, Typ szkoły) -> {liczbaSzkół}\n",
      "================================================================================\n"
     ]
    }
   ],
   "source": [
    "\n",
    "print(\"\\n\" + \"=\"*80)\n",
    "print(\"4. (Województwo, Typ szkoły) -> {liczbaSzkół}\")\n",
    "print(\"=\"*80)\n",
    "wojewodztwo_typ_szkoly = (unified_dask_df.groupby(['wojewodztwo', 'rodzaj_szkoły_placówki'])['nazwa_placówki']\n",
    ".nunique()\n",
    ".compute()\n",
    ".sort_values(ascending=False))\n"
   ]
  },
  {
   "cell_type": "code",
   "execution_count": 35,
   "id": "8e431fc0",
   "metadata": {},
   "outputs": [
    {
     "name": "stdout",
     "output_type": "stream",
     "text": [
      "TOP 5:\n",
      "(ŚLĄSKIE, szkoła/placówka wchodząca w skład jednostki złożonej) -> {szkół: 433}\n",
      "(MAZOWIECKIE, szkoła/placówka wchodząca w skład jednostki złożonej) -> {szkół: 425}\n",
      "(WIELKOPOLSKIE, szkoła/placówka wchodząca w skład jednostki złożonej) -> {szkół: 354}\n",
      "(MAŁOPOLSKIE, szkoła/placówka wchodząca w skład jednostki złożonej) -> {szkół: 336}\n",
      "(DOLNOŚLĄSKIE, szkoła/placówka wchodząca w skład jednostki złożonej) -> {szkół: 292}\n"
     ]
    }
   ],
   "source": [
    "\n",
    "print(\"TOP 5:\")\n",
    "for idx, liczba in wojewodztwo_typ_szkoly.head(5).items():\n",
    "    woj, typ = idx\n",
    "    print(f\"({woj}, {typ}) -> {{szkół: {liczba}}}\")\n"
   ]
  },
  {
   "cell_type": "code",
   "execution_count": 36,
   "id": "a053d2e4",
   "metadata": {},
   "outputs": [
    {
     "name": "stdout",
     "output_type": "stream",
     "text": [
      "\n",
      "BOTTOM 5:\n",
      "(OPOLSKIE, filia szkoły lub placówki) -> {szkół: 1}\n",
      "(DOLNOŚLĄSKIE, filia szkoły lub placówki) -> {szkół: 1}\n",
      "(KUJAWSKO-POMORSKIE, filia szkoły lub placówki) -> {szkół: 1}\n",
      "(ŁÓDZKIE, filia szkoły lub placówki) -> {szkół: 1}\n",
      "(MAZOWIECKIE, filia szkoły lub placówki) -> {szkół: 1}\n"
     ]
    }
   ],
   "source": [
    "\n",
    "print(\"\\nBOTTOM 5:\")\n",
    "for idx, liczba in wojewodztwo_typ_szkoly.tail(5).items():\n",
    "    woj, typ = idx\n",
    "    print(f\"({woj}, {typ}) -> {{szkół: {liczba}}}\")\n"
   ]
  },
  {
   "cell_type": "code",
   "execution_count": 37,
   "id": "ee30609b",
   "metadata": {},
   "outputs": [
    {
     "name": "stdout",
     "output_type": "stream",
     "text": [
      "\n",
      "================================================================================\n",
      "5. (Województwo, Publiczność) -> {liczbaSzkół}\n",
      "================================================================================\n"
     ]
    }
   ],
   "source": [
    "\n",
    "print(\"\\n\" + \"=\"*80)\n",
    "print(\"5. (Województwo, Publiczność) -> {liczbaSzkół}\")\n",
    "print(\"=\"*80)\n",
    "wojewodztwo_publicznosc = (unified_dask_df.groupby(['wojewodztwo', 'publiczność'])['nazwa_placówki']\n",
    ".nunique()\n",
    ".compute()\n",
    ".sort_values(ascending=False))\n"
   ]
  },
  {
   "cell_type": "code",
   "execution_count": 38,
   "id": "508f48af",
   "metadata": {},
   "outputs": [
    {
     "name": "stdout",
     "output_type": "stream",
     "text": [
      "TOP 5:\n",
      "(MAZOWIECKIE, publiczna) -> {szkół: 453}\n",
      "(ŚLĄSKIE, publiczna) -> {szkół: 439}\n",
      "(WIELKOPOLSKIE, publiczna) -> {szkół: 373}\n",
      "(MAŁOPOLSKIE, publiczna) -> {szkół: 362}\n",
      "(DOLNOŚLĄSKIE, publiczna) -> {szkół: 306}\n"
     ]
    }
   ],
   "source": [
    "\n",
    "print(\"TOP 5:\")\n",
    "for idx, liczba in wojewodztwo_publicznosc.head(5).items():\n",
    "    woj, pub = idx\n",
    "    print(f\"({woj}, {pub}) -> {{szkół: {liczba}}}\")\n"
   ]
  },
  {
   "cell_type": "code",
   "execution_count": 39,
   "id": "6d310f39",
   "metadata": {},
   "outputs": [
    {
     "name": "stdout",
     "output_type": "stream",
     "text": [
      "\n",
      "BOTTOM 5:\n",
      "(ŁÓDZKIE, niepubliczna szkoła artystyczna bez uprawnień publicznej szkoły artystycznej) -> {szkół: 1}\n",
      "(PODKARPACKIE, niepubliczna szkoła artystyczna bez uprawnień publicznej szkoły artystycznej) -> {szkół: 1}\n",
      "(PODLASKIE, niepubliczna szkoła artystyczna o uprawnieniach publicznej szkoły artystycznej) -> {szkół: 1}\n",
      "(OPOLSKIE, niepubliczna szkoła artystyczna bez uprawnień publicznej szkoły artystycznej) -> {szkół: 1}\n",
      "(OPOLSKIE, niepubliczna szkoła artystyczna o uprawnieniach publicznej szkoły artystycznej) -> {szkół: 1}\n"
     ]
    }
   ],
   "source": [
    "\n",
    "print(\"\\nBOTTOM 5:\")\n",
    "for idx, liczba in wojewodztwo_publicznosc.tail(5).items():\n",
    "    woj, pub = idx\n",
    "    print(f\"({woj}, {pub}) -> {{szkół: {liczba}}}\")\n"
   ]
  },
  {
   "cell_type": "code",
   "execution_count": 40,
   "id": "54ed002d",
   "metadata": {},
   "outputs": [
    {
     "name": "stdout",
     "output_type": "stream",
     "text": [
      "\n",
      "================================================================================\n",
      "6. (Województwo) -> {liczbaUczniów}\n",
      "================================================================================\n"
     ]
    }
   ],
   "source": [
    "\n",
    "print(\"\\n\" + \"=\"*80)\n",
    "print(\"6. (Województwo) -> {liczbaUczniów}\")\n",
    "print(\"=\"*80)\n",
    "wojewodztwo_uczniowie = (unified_dask_df.groupby('wojewodztwo')['liczba_uczniów']\n",
    ".sum()\n",
    ".compute()\n",
    ".sort_values(ascending=False))\n"
   ]
  },
  {
   "cell_type": "code",
   "execution_count": 41,
   "id": "4df59403",
   "metadata": {},
   "outputs": [
    {
     "name": "stdout",
     "output_type": "stream",
     "text": [
      "TOP 5 województw z największą liczbą uczniów:\n",
      "MAZOWIECKIE -> {uczniów: 484664}\n",
      "ŚLĄSKIE -> {uczniów: 433014}\n",
      "WIELKOPOLSKIE -> {uczniów: 400335}\n",
      "MAŁOPOLSKIE -> {uczniów: 355950}\n",
      "DOLNOŚLĄSKIE -> {uczniów: 283343}\n"
     ]
    }
   ],
   "source": [
    "\n",
    "print(\"TOP 5 województw z największą liczbą uczniów:\")\n",
    "for woj, liczba in wojewodztwo_uczniowie.head(5).items():\n",
    "    print(f\"{woj} -> {{uczniów: {int(liczba)}}}\")\n"
   ]
  },
  {
   "cell_type": "code",
   "execution_count": 42,
   "id": "4cfe05dd",
   "metadata": {},
   "outputs": [
    {
     "name": "stdout",
     "output_type": "stream",
     "text": [
      "\n",
      "BOTTOM 5 województw z najmniejszą liczbą uczniów:\n",
      "WARMIŃSKO-MAZURSKIE -> {uczniów: 136434}\n",
      "ŚWIĘTOKRZYSKIE -> {uczniów: 127374}\n",
      "LUBUSKIE -> {uczniów: 116430}\n",
      "PODLASKIE -> {uczniów: 108657}\n",
      "OPOLSKIE -> {uczniów: 99108}\n"
     ]
    }
   ],
   "source": [
    "\n",
    "print(\"\\nBOTTOM 5 województw z najmniejszą liczbą uczniów:\")\n",
    "for woj, liczba in wojewodztwo_uczniowie.tail(5).items():\n",
    "    print(f\"{woj} -> {{uczniów: {int(liczba)}}}\")\n"
   ]
  },
  {
   "cell_type": "code",
   "execution_count": 46,
   "id": "43b27a15",
   "metadata": {},
   "outputs": [
    {
     "name": "stdout",
     "output_type": "stream",
     "text": [
      "\n",
      "================================================================================\n",
      "7. (Rok, Zawód) -> {liczbaUczniów} - najpopularniejszy zawód w danym roku\n",
      "================================================================================\n",
      "\n",
      "Rok 2022/2023:\n",
      "TOP 5 zawodów:\n",
      "  (2022/2023, Technik informatyk) -> {uczniów: 106494}\n",
      "  (2022/2023, Technik logistyk) -> {uczniów: 64731}\n",
      "  (2022/2023, Przygotowanie do kształcenia zawodowego) -> {uczniów: 63603}\n",
      "  (2022/2023, Technik żywienia i usług gastronomicznych) -> {uczniów: 54156}\n",
      "  (2022/2023, Technik ekonomista) -> {uczniów: 41257}\n",
      "BOTTOM 5 zawodów (z liczbą > 0):\n",
      "  (2022/2023, Technik włókienniczych wyrobów dekoracyjnych) -> {uczniów: 2}\n",
      "  (2022/2023, Górnik odkrywkowej eksploatacji złóż) -> {uczniów: 1}\n",
      "  (2022/2023, Optyk-mechanik) -> {uczniów: 1}\n",
      "  (2022/2023, Operator urządzeń przemysłu ceramicznego) -> {uczniów: 1}\n",
      "  (2022/2023, Operator maszyn w przemyśle włókienniczym ) -> {uczniów: 1}\n",
      "\n",
      "Rok 2023/2024:\n",
      "TOP 5 zawodów:\n",
      "  (2023/2024, Technik informatyk) -> {uczniów: 105940}\n",
      "  (2023/2024, Technik logistyk) -> {uczniów: 70428}\n",
      "  (2023/2024, Przygotowanie do kształcenia zawodowego) -> {uczniów: 65659}\n",
      "  (2023/2024, Technik żywienia i usług gastronomicznych) -> {uczniów: 56140}\n",
      "  (2023/2024, Technik ekonomista) -> {uczniów: 41207}\n",
      "BOTTOM 5 zawodów (z liczbą > 0):\n",
      "  (2023/2024, Monter izolacji budowlanych) -> {uczniów: 2}\n",
      "  (2023/2024, Optyk-mechanik) -> {uczniów: 2}\n",
      "  (2023/2024, Modelarz odlewniczy) -> {uczniów: 2}\n",
      "  (2023/2024, Technik technologii szkła) -> {uczniów: 1}\n",
      "  (2023/2024, Operator maszyn w przemyśle włókienniczym ) -> {uczniów: 1}\n",
      "\n",
      "Rok 2024/2025:\n",
      "TOP 5 zawodów:\n",
      "  (2024/2025, Technik informatyk) -> {uczniów: 92369}\n",
      "  (2024/2025, Przygotowanie do kształcenia zawodowego) -> {uczniów: 68111}\n",
      "  (2024/2025, Technik logistyk) -> {uczniów: 66571}\n",
      "  (2024/2025, Technik żywienia i usług gastronomicznych) -> {uczniów: 49873}\n",
      "  (2024/2025, Mechanik pojazdów samochodowych) -> {uczniów: 37994}\n",
      "BOTTOM 5 zawodów (z liczbą > 0):\n",
      "  (2024/2025, Pszczelarz) -> {uczniów: 7}\n",
      "  (2024/2025, Rękodzielnik wyrobów włókienniczych) -> {uczniów: 6}\n",
      "  (2024/2025, Operator urządzeń przemysłu chemicznego) -> {uczniów: 6}\n",
      "  (2024/2025, Obuwnik) -> {uczniów: 5}\n",
      "  (2024/2025, Technik odlewnik) -> {uczniów: 4}\n"
     ]
    }
   ],
   "source": [
    "\n",
    "print(\"\\n\" + \"=\"*80)\n",
    "print(\"7. (Rok, Zawód) -> {liczbaUczniów} - najpopularniejszy zawód w danym roku\")\n",
    "print(\"=\"*80)\n",
    "for year in sorted(available_years):\n",
    "    year_data = unified_dask_df[unified_dask_df['rok_szkolny'] == year]\n",
    "    top_zawod_rok = (year_data.groupby('zawód')['liczba_uczniów']\n",
    "    .sum()\n",
    "    .compute()\n",
    "    .sort_values(ascending=False))\n",
    "\n",
    "    print(f\"\\nRok {year}:\")\n",
    "    print(\"TOP 5 zawodów:\")\n",
    "    for zawod, liczba in top_zawod_rok.head(5).items():\n",
    "        print(f\"  ({year}, {zawod}) -> {{uczniów: {int(liczba)}}}\")\n",
    "        \n",
    "    \n",
    "    print(\"BOTTOM 5 zawodów (z liczbą > 0):\")\n",
    "    bottom_zawody = top_zawod_rok[top_zawod_rok > 0].tail(5)\n",
    "    for zawod, liczba in bottom_zawody.items():\n",
    "        print(f\"  ({year}, {zawod}) -> {{uczniów: {int(liczba)}}}\")\n",
    "\n",
    "        \n",
    "    \n",
    "\n"
   ]
  },
  {
   "cell_type": "code",
   "execution_count": 47,
   "id": "d72b1938",
   "metadata": {},
   "outputs": [
    {
     "name": "stdout",
     "output_type": "stream",
     "text": [
      "\n",
      "================================================================================\n",
      "8. DODATKOWE ANALIZY - Analiza płci w zawodach\n",
      "================================================================================\n"
     ]
    }
   ],
   "source": [
    "\n",
    "print(\"\\n\" + \"=\"*80)\n",
    "print(\"8. DODATKOWE ANALIZY - Analiza płci w zawodach\")\n",
    "print(\"=\"*80)\n",
    "#Zawody z największą przewagą dziewcząt\n",
    "zawod_plec = (unified_dask_df.groupby('zawód')\n",
    ".agg({\n",
    "'liczba_uczniów': 'sum',\n",
    "'w_tym_dziewczęta': 'sum'\n",
    "})\n",
    ".compute()\n",
    ".fillna(0))\n"
   ]
  },
  {
   "cell_type": "code",
   "execution_count": 48,
   "id": "4001af1e",
   "metadata": {},
   "outputs": [],
   "source": [
    "\n",
    "zawod_plec = zawod_plec[zawod_plec['liczba_uczniów'] > 0]\n",
    "zawod_plec['procent_dziewczat'] = (zawod_plec['w_tym_dziewczęta'] / zawod_plec['liczba_uczniów']) * 100\n",
    "zawod_plec['liczba_chlopcow'] = zawod_plec['liczba_uczniów'] - zawod_plec['w_tym_dziewczęta']\n"
   ]
  },
  {
   "cell_type": "code",
   "execution_count": 49,
   "id": "7d472c84",
   "metadata": {},
   "outputs": [
    {
     "name": "stdout",
     "output_type": "stream",
     "text": [
      "TOP 5 zawodów z największym odsetkiem dziewcząt:\n",
      "Eksperymentalny - Animator czytelnictwa -> {dziewcząt: 100.0%, uczniów: 7}\n",
      "Eksperymentalny - Animator tańca -> {dziewcząt: 87.7%, uczniów: 57}\n",
      "Eksperymentalny - Animator kultury regionalnej -> {dziewcząt: 85.0%, uczniów: 20}\n",
      "Eksperymentalny - Technik projektant tekstyliów -> {dziewcząt: 81.2%, uczniów: 48}\n",
      "Eksperymentalny - Animator działań teatralnych -> {dziewcząt: 78.7%, uczniów: 47}\n"
     ]
    }
   ],
   "source": [
    "\n",
    "print(\"TOP 5 zawodów z największym odsetkiem dziewcząt:\")\n",
    "top_dziewczeta = zawod_plec.sort_values('procent_dziewczat', ascending=False).head(5)\n",
    "for zawod, row in top_dziewczeta.iterrows():\n",
    "    print(f\"{zawod} -> {{dziewcząt: {row['procent_dziewczat']:.1f}%, uczniów: {int(row['liczba_uczniów'])}}}\")\n"
   ]
  },
  {
   "cell_type": "code",
   "execution_count": 50,
   "id": "428c3a15",
   "metadata": {},
   "outputs": [
    {
     "name": "stdout",
     "output_type": "stream",
     "text": [
      "\n",
      "TOP 5 zawodów z największym odsetkiem chłopców:\n",
      "Operator maszyn i urządzeń przeróbczych -> {chłopców: 100.0%, uczniów: 79}\n",
      "Betoniarz-zbrojarz -> {chłopców: 100.0%, uczniów: 114}\n",
      "Monter sieci i urządzeń telekomunikacyjnych  -> {chłopców: 100.0%, uczniów: 30}\n",
      "Operator urządzeń przemysłu chemicznego -> {chłopców: 100.0%, uczniów: 18}\n",
      "Kamieniarz -> {chłopców: 100.0%, uczniów: 144}\n"
     ]
    }
   ],
   "source": [
    "\n",
    "print(\"\\nTOP 5 zawodów z największym odsetkiem chłopców:\")\n",
    "top_chlopcy = zawod_plec.sort_values('procent_dziewczat', ascending=True).head(5)\n",
    "for zawod, row in top_chlopcy.iterrows():\n",
    "    procent_chlopcow = 100 - row['procent_dziewczat']\n",
    "    print(f\"{zawod} -> {{chłopców: {procent_chlopcow:.1f}%, uczniów: {int(row['liczba_uczniów'])}}}\")\n",
    "    \n"
   ]
  },
  {
   "cell_type": "code",
   "execution_count": 51,
   "id": "ee39824b",
   "metadata": {},
   "outputs": [
    {
     "name": "stdout",
     "output_type": "stream",
     "text": [
      "\n",
      "=== TOP PROFESSIONS ANALYSIS ===\n",
      "Top 10 professions (all years combined):\n",
      "zawód\n",
      "Technik informatyk                           304803.0\n",
      "Technik logistyk                             201730.0\n",
      "Przygotowanie do kształcenia zawodowego      197373.0\n",
      "Technik żywienia i usług gastronomicznych    160169.0\n",
      "Technik ekonomista                           118754.0\n",
      "Mechanik pojazdów samochodowych              111069.0\n",
      "Technik pojazdów samochodowych                98802.0\n",
      "Kucharz                                       90335.0\n",
      "Technik usług kosmetycznych                   88804.0\n",
      "Technik hotelarstwa                           87539.0\n",
      "Name: liczba_uczniów, dtype: float64\n"
     ]
    }
   ],
   "source": [
    "print(\"\\n=== TOP PROFESSIONS ANALYSIS ===\")\n",
    "#Top 10 zawodów (łącznie dla wszystkich lat)\n",
    "top_professions = (unified_dask_df.groupby('zawód')['liczba_uczniów']\n",
    ".sum()\n",
    ".compute()\n",
    ".sort_values(ascending=False)\n",
    ".head(10))\n",
    "print(\"Top 10 professions (all years combined):\")\n",
    "print(top_professions)\n"
   ]
  },
  {
   "cell_type": "code",
   "execution_count": 52,
   "id": "3bedc74a",
   "metadata": {},
   "outputs": [
    {
     "name": "stdout",
     "output_type": "stream",
     "text": [
      "\n",
      "=== REGIONAL ANALYSIS ===\n",
      "Students by region:\n",
      "wojewodztwo\n",
      "MAZOWIECKIE            484664.0\n",
      "ŚLĄSKIE                433014.0\n",
      "WIELKOPOLSKIE          400335.0\n",
      "MAŁOPOLSKIE            355950.0\n",
      "DOLNOŚLĄSKIE           283343.0\n",
      "POMORSKIE              254080.0\n",
      "ŁÓDZKIE                227413.0\n",
      "KUJAWSKO-POMORSKIE     224368.0\n",
      "PODKARPACKIE           211090.0\n",
      "LUBELSKIE              191583.0\n",
      "ZACHODNIOPOMORSKIE     156514.0\n",
      "WARMIŃSKO-MAZURSKIE    136434.0\n",
      "ŚWIĘTOKRZYSKIE         127374.0\n",
      "LUBUSKIE               116430.0\n",
      "PODLASKIE              108657.0\n",
      "OPOLSKIE                99108.0\n",
      "Name: liczba_uczniów, dtype: float64\n"
     ]
    }
   ],
   "source": [
    "\n",
    "print(\"\\n=== REGIONAL ANALYSIS ===\")\n",
    "#Uczniowie według województw\n",
    "students_by_region = (unified_dask_df.groupby('wojewodztwo')['liczba_uczniów']\n",
    ".sum()\n",
    ".compute()\n",
    ".sort_values(ascending=False))\n",
    "print(\"Students by region:\")\n",
    "print(students_by_region)\n"
   ]
  },
  {
   "cell_type": "code",
   "execution_count": 54,
   "id": "18d450a3",
   "metadata": {},
   "outputs": [
    {
     "name": "stdout",
     "output_type": "stream",
     "text": [
      "\n",
      "=== SPECIAL DATA AVAILABILITY ===\n",
      "\n",
      "Year 2022/2023:\n",
      "  w_tym_dziewczęta: 0/86084 (0.0%)\n",
      "  liczba_młodocianych_pracowników: 0/86084 (0.0%)\n",
      "  w_tym_dziewczęta_młod_prac: 0/86084 (0.0%)\n",
      "  liczba_absolwentów: 18672/86084 (21.7%)\n",
      "  w_tym_dziewczęta_abs: 11962/86084 (13.9%)\n",
      "\n",
      "Year 2023/2024:\n",
      "  w_tym_dziewczęta: 51084/94982 (53.8%)\n",
      "  liczba_młodocianych_pracowników: 0/94982 (0.0%)\n",
      "  w_tym_dziewczęta_młod_prac: 0/94982 (0.0%)\n",
      "  liczba_absolwentów: 19249/94982 (20.3%)\n",
      "  w_tym_dziewczęta_abs: 12276/94982 (12.9%)\n",
      "\n",
      "Year 2024/2025:\n",
      "  w_tym_dziewczęta: 50606/74688 (67.8%)\n",
      "  liczba_młodocianych_pracowników: 21443/74688 (28.7%)\n",
      "  w_tym_dziewczęta_młod_prac: 8430/74688 (11.3%)\n",
      "  liczba_absolwentów: 0/74688 (0.0%)\n",
      "  w_tym_dziewczęta_abs: 0/74688 (0.0%)\n"
     ]
    }
   ],
   "source": [
    "\n",
    "print(\"\\n=== SPECIAL DATA AVAILABILITY ===\")\n",
    "special_columns = ['w_tym_dziewczęta', 'liczba_młodocianych_pracowników',\n",
    "'w_tym_dziewczęta_młod_prac', 'liczba_absolwentów',\n",
    "'w_tym_dziewczęta_abs']\n",
    "#Sprawdź dostępność danych dla każdego roku\n",
    "for year in sorted(available_years):\n",
    "    print(f\"\\nYear {year}:\")\n",
    "    year_data = unified_dask_df[unified_dask_df['rok_szkolny'] == year]\n",
    "    total_records = len(year_data.compute())\n",
    "    for col in special_columns:\n",
    "        if col in unified_dask_df.columns:\n",
    "            non_null_count = year_data[col].count().compute()\n",
    "            percentage = (non_null_count / total_records) * 100 if total_records > 0 else 0\n",
    "            print(f\"  {col}: {non_null_count}/{total_records} ({percentage:.1f}%)\")\n",
    "            \n"
   ]
  },
  {
   "cell_type": "code",
   "execution_count": 55,
   "id": "3d1ff5e0",
   "metadata": {},
   "outputs": [
    {
     "name": "stdout",
     "output_type": "stream",
     "text": [
      "\n",
      "=== PROFESSION TRENDS OVER TIME ===\n"
     ]
    }
   ],
   "source": [
    "print(\"\\n=== PROFESSION TRENDS OVER TIME ===\")\n",
    "#Trendy dla top 5 zawodów\n",
    "prof_trends = (unified_dask_df.groupby(['rok_szkolny', 'zawód'])['liczba_uczniów']\n",
    ".sum()\n",
    ".compute()\n",
    ".reset_index())\n"
   ]
  },
  {
   "cell_type": "code",
   "execution_count": 56,
   "id": "79243f8b",
   "metadata": {},
   "outputs": [
    {
     "name": "stdout",
     "output_type": "stream",
     "text": [
      "Trends for top 5 professions:\n",
      "zawód        Przygotowanie do kształcenia zawodowego  Technik ekonomista  \\\n",
      "rok_szkolny                                                                \n",
      "2022/2023                                    63603.0             41257.0   \n",
      "2023/2024                                    65659.0             41207.0   \n",
      "2024/2025                                    68111.0             36290.0   \n",
      "\n",
      "zawód        Technik informatyk  Technik logistyk  \\\n",
      "rok_szkolny                                         \n",
      "2022/2023              106494.0           64731.0   \n",
      "2023/2024              105940.0           70428.0   \n",
      "2024/2025               92369.0           66571.0   \n",
      "\n",
      "zawód        Technik żywienia i usług gastronomicznych  \n",
      "rok_szkolny                                             \n",
      "2022/2023                                      54156.0  \n",
      "2023/2024                                      56140.0  \n",
      "2024/2025                                      49873.0  \n"
     ]
    }
   ],
   "source": [
    "\n",
    "#Znajdź top 5 zawodów ogółem\n",
    "top_5_profs = top_professions.head(5).index.tolist()\n",
    "#Filtruj trendy dla top 5 zawodów\n",
    "top_5_trends = prof_trends[prof_trends['zawód'].isin(top_5_profs)]\n",
    "print(\"Trends for top 5 professions:\")\n",
    "pivot_trends = top_5_trends.pivot(index='rok_szkolny', columns='zawód', values='liczba_uczniów')\n",
    "print(pivot_trends)\n"
   ]
  },
  {
   "cell_type": "code",
   "execution_count": 59,
   "id": "a572488e",
   "metadata": {},
   "outputs": [
    {
     "data": {
      "text/plain": [
       "<Figure size 1500x1000 with 0 Axes>"
      ]
     },
     "execution_count": 59,
     "metadata": {},
     "output_type": "execute_result"
    },
    {
     "data": {
      "text/plain": [
       "<Figure size 1500x1000 with 0 Axes>"
      ]
     },
     "metadata": {},
     "output_type": "display_data"
    }
   ],
   "source": [
    "\n",
    "plt.figure(figsize=(15, 10))\n"
   ]
  },
  {
   "cell_type": "code",
   "execution_count": 60,
   "id": "dedf0735",
   "metadata": {},
   "outputs": [
    {
     "data": {
      "text/plain": [
       "Text(0.5, 0, 'Liczba uczniów')"
      ]
     },
     "execution_count": 60,
     "metadata": {},
     "output_type": "execute_result"
    },
    {
     "data": {
      "image/png": "[encoded data removed]",
      "text/plain": [
       "<Figure size 640x480 with 1 Axes>"
      ]
     },
     "metadata": {},
     "output_type": "display_data"
    }
   ],
   "source": [
    "\n",
    "# #Subplot 1: Students by year\n",
    "# plt.subplot(2, 2, 1)\n",
    "# students_by_year.plot(kind='bar', color='skyblue')\n",
    "# plt.title('Liczba uczniów według lat')\n",
    "# plt.xlabel('Rok szkolny')\n",
    "# plt.ylabel('Liczba uczniów')\n",
    "# plt.xticks(rotation=45)\n",
    "#Subplot 2: Top professions\n",
    "plt.subplot(2, 2, 2)\n",
    "top_professions.plot(kind='barh', color='lightcoral')\n",
    "plt.title('Top 10 zawodów')\n",
    "plt.xlabel('Liczba uczniów')\n"
   ]
  },
  {
   "cell_type": "code",
   "execution_count": 62,
   "id": "8ac23343",
   "metadata": {},
   "outputs": [
    {
     "data": {
      "text/plain": [
       "Text(0, 0.5, 'Liczba uczniów')"
      ]
     },
     "execution_count": 62,
     "metadata": {},
     "output_type": "execute_result"
    },
    {
     "data": {
      "image/png": "[encoded data removed]",
      "text/plain": [
       "<Figure size 640x480 with 1 Axes>"
      ]
     },
     "metadata": {},
     "output_type": "display_data"
    }
   ],
   "source": [
    "\n",
    "#Subplot 3: Top regions\n",
    "plt.subplot(2, 2, 3)\n",
    "students_by_region.head(10).plot(kind='bar', color='lightgreen')\n",
    "plt.title('Top 10 województw')\n",
    "plt.xlabel('Województwo')\n",
    "plt.ylabel('Liczba uczniów')\n"
   ]
  },
  {
   "cell_type": "code",
   "execution_count": 64,
   "id": "50bcd458",
   "metadata": {},
   "outputs": [
    {
     "data": {
      "image/png": "[encoded data removed]",
      "text/plain": [
       "<Figure size 640x480 with 1 Axes>"
      ]
     },
     "metadata": {},
     "output_type": "display_data"
    },
    {
     "data": {
      "image/png": "[encoded data removed]",
      "text/plain": [
       "<Figure size 640x480 with 1 Axes>"
      ]
     },
     "metadata": {},
     "output_type": "display_data"
    },
    {
     "data": {
      "image/png": "[encoded data removed]",
      "text/plain": [
       "<Figure size 640x480 with 1 Axes>"
      ]
     },
     "metadata": {},
     "output_type": "display_data"
    },
    {
     "data": {
      "image/png": "[encoded data removed]",
      "text/plain": [
       "<Figure size 640x480 with 1 Axes>"
      ]
     },
     "metadata": {},
     "output_type": "display_data"
    },
    {
     "data": {
      "image/png": "[encoded data removed]",
      "text/plain": [
       "<Figure size 640x480 with 1 Axes>"
      ]
     },
     "metadata": {},
     "output_type": "display_data"
    }
   ],
   "source": [
    "\n",
    "#Subplot 4: Profession trends\n",
    "plt.subplot(2, 2, 4)\n",
    "for profession in top_5_profs:  # Show only top 3 for clarity\n",
    "    prof_data = pivot_trends[profession].dropna()\n",
    "    plt.plot(prof_data.index, prof_data.values, marker='o', label=profession)\n",
    "    plt.title('Trendy top zawodów w czasie')\n",
    "    plt.xlabel('Rok szkolny')\n",
    "    plt.ylabel('Liczba uczniów')\n",
    "    plt.legend(bbox_to_anchor=(1.05, 1), loc='upper left')\n",
    "    plt.xticks(rotation=45)\n",
    "    plt.tight_layout()\n",
    "    plt.savefig('education_analysis_2022_2024.png', dpi=300, bbox_inches='tight')\n",
    "    plt.show()\n"
   ]
  },
  {
   "cell_type": "code",
   "execution_count": 67,
   "id": "107d4fdc",
   "metadata": {},
   "outputs": [
    {
     "name": "stdout",
     "output_type": "stream",
     "text": [
      "\n",
      "=== SUMMARY ===\n",
      "Total files processed: 3\n",
      "Total columns in unified dataset: 41\n",
      "Years covered: 2022/2023, 2023/2024, 2024/2025\n",
      "Total records: 255754\n"
     ]
    }
   ],
   "source": [
    "\n",
    "print(\"\\n=== SUMMARY ===\")\n",
    "print(f\"Total files processed: {len(target_files)}\")\n",
    "print(f\"Total columns in unified dataset: {len(all_columns)}\")\n",
    "print(f\"Years covered: {', '.join(sorted(available_years))}\")\n",
    "print(f\"Total records: {len(unified_dask_df.compute())}\")\n"
   ]
  },
  {
   "cell_type": "code",
   "execution_count": 68,
   "id": "1cbc8b54",
   "metadata": {},
   "outputs": [],
   "source": [
    "client.close()"
   ]
  },
  {
   "cell_type": "code",
   "execution_count": null,
   "id": "36a30d11",
   "metadata": {},
   "outputs": [],
   "source": [
    "def process_excel_file(filename, common_cols):\n",
    "    try:\n",
    "        year_match = None\n",
    "        for year_pattern in [\"20182019\", \"20192020\", \"20202021\", \"20212022\", \"20222023\", \"20232024\", \"20242025\"]:\n",
    "            if year_pattern in filename:\n",
    "                year_match = year_pattern\n",
    "                break\n",
    "                \n",
    "        rok_szkolny = f\"{year_match[:4]}/{year_match[4:]}\" if year_match else \"Unknown\"\n",
    "        \n",
    "        print(f\"Przetwarzanie pliku: {filename}, rok szkolny: {rok_szkolny}\")\n",
    "        \n",
    "        df = pd.read_excel(filename)\n",
    "        \n",
    "        df.columns = [col.strip().lower().replace(\" \", \"_\") for col in df.columns]\n",
    "        \n",
    "        if 'rok_szkolny' not in df.columns:\n",
    "            df['rok_szkolny'] = rok_szkolny\n",
    "        \n",
    "        existing_cols = [col for col in common_cols if col in df.columns]\n",
    "        df = df[existing_cols]\n",
    "        \n",
    "        for col in common_cols:\n",
    "            if col not in df.columns:\n",
    "                df[col] = np.nan\n",
    "        \n",
    "        for col in df.columns:\n",
    "            if col in ['liczba_absolwentów', 'liczba_młodocianych_pracowników', 'w_tym_dziewczęta']:\n",
    "                df[col] = pd.to_numeric(df[col], errors='coerce')\n",
    "        \n",
    "        print(f\"  Przetworzono poprawnie. Wymiar: {df.shape}\")\n",
    "        return df\n",
    "    except Exception as e:\n",
    "        print(f\"Błąd podczas przetwarzania {filename}: {e}\")\n",
    "        return pd.DataFrame(columns=common_cols)"
   ]
  },
  {
   "cell_type": "code",
   "execution_count": 12,
   "id": "cd5101aa",
   "metadata": {},
   "outputs": [],
   "source": [
    "# Use Dask's map function to apply processing to each file and create delayed objects\n",
    "delayed_dfs = [dask.delayed(process_excel_file)(file,common_columns) for file in excel_files]\n",
    "\n",
    "dask_df = dd.from_delayed(delayed_dfs)"
   ]
  },
  {
   "cell_type": "code",
   "execution_count": 13,
   "id": "5f3676d7",
   "metadata": {},
   "outputs": [
    {
     "data": {
      "application/vnd.microsoft.datawrangler.viewer.v0+json": {
       "columns": [
        {
         "name": "index",
         "rawType": "int64",
         "type": "integer"
        },
        {
         "name": "kategoria_uczniów",
         "rawType": "string",
         "type": "string"
        },
        {
         "name": "typ_podmiotu",
         "rawType": "string",
         "type": "string"
        },
        {
         "name": "typ_obszaru",
         "rawType": "string",
         "type": "string"
        },
        {
         "name": "typ_organu_prowadzącego",
         "rawType": "string",
         "type": "string"
        },
        {
         "name": "organ_prowadzący",
         "rawType": "string",
         "type": "string"
        },
        {
         "name": "publiczność",
         "rawType": "string",
         "type": "string"
        },
        {
         "name": "wojewodztwo",
         "rawType": "string",
         "type": "string"
        },
        {
         "name": "zawód",
         "rawType": "string",
         "type": "string"
        },
        {
         "name": "kod_pocztowy",
         "rawType": "string",
         "type": "string"
        },
        {
         "name": "rspo",
         "rawType": "int64",
         "type": "integer"
        },
        {
         "name": "nazwa_placówki",
         "rawType": "string",
         "type": "string"
        },
        {
         "name": "idpublicznosc",
         "rawType": "int64",
         "type": "integer"
        },
        {
         "name": "adres_email",
         "rawType": "string",
         "type": "string"
        },
        {
         "name": "adres_www",
         "rawType": "string",
         "type": "string"
        },
        {
         "name": "idtyppodmiotu",
         "rawType": "int64",
         "type": "integer"
        },
        {
         "name": "specyfika_szkoły",
         "rawType": "string",
         "type": "string"
        },
        {
         "name": "numer_telefonu",
         "rawType": "string",
         "type": "string"
        },
        {
         "name": "poczta",
         "rawType": "string",
         "type": "string"
        },
        {
         "name": "ulica",
         "rawType": "string",
         "type": "string"
        },
        {
         "name": "idkategoriauczniow",
         "rawType": "int64",
         "type": "integer"
        },
        {
         "name": "miejscowość",
         "rawType": "string",
         "type": "string"
        },
        {
         "name": "liczba_uczniów",
         "rawType": "int64",
         "type": "integer"
        },
        {
         "name": "gmina",
         "rawType": "string",
         "type": "string"
        },
        {
         "name": "powiat",
         "rawType": "string",
         "type": "string"
        },
        {
         "name": "rodzaj_szkoły/placówki",
         "rawType": "string",
         "type": "string"
        },
        {
         "name": "idzawod",
         "rawType": "int64",
         "type": "integer"
        },
        {
         "name": "idspecyfikaszkoly",
         "rawType": "int64",
         "type": "integer"
        },
        {
         "name": "idterytgmina",
         "rawType": "int64",
         "type": "integer"
        },
        {
         "name": "idtyporgprow",
         "rawType": "int64",
         "type": "integer"
        },
        {
         "name": "idterytwojewodztwo",
         "rawType": "int64",
         "type": "integer"
        },
        {
         "name": "idrodzajplacowki",
         "rawType": "int64",
         "type": "integer"
        },
        {
         "name": "regon",
         "rawType": "int64",
         "type": "integer"
        },
        {
         "name": "numer_domu",
         "rawType": "string",
         "type": "string"
        },
        {
         "name": "rok_szkolny",
         "rawType": "string",
         "type": "string"
        }
       ],
       "conversionMethod": "pd.DataFrame",
       "ref": "486a1cc7-7d9c-44b0-bb7e-0f7e31968c25",
       "rows": [
        [
         "26324",
         "Dzieci lub młodzież",
         "Branżowa szkoła I stopnia",
         "obszar miejski",
         "Stowarzyszenia",
         "ninne osoby fizyczne i prawne",
         "publiczna",
         "ZACHODNIOPOMORSKIE",
         "Mechanik pojazdów samochodowych",
         "72-602",
         "73791",
         "BRANŻOWA SZKOŁA I STOPNIA W ŚWINOUJŚCIU WOJEWÓDZKIEGO ZAKŁADU DOSKONALENIA ZAWODOWEGO W SZCZECINIE",
         "1",
         "szkola.swinoujscie@wzdz.pl",
         "www.swinoujscie.wzdz.pl",
         "93",
         "brak specyfiki",
         "913215136",
         "Świnoujście",
         "ul. Norweska",
         "1",
         "Świnoujście",
         "10",
         "M. Świnoujście",
         "m. Świnoujście",
         "szkoła/placówka wchodząca w skład jednostki złożonej",
         "154",
         "100",
         "3263011",
         "135",
         "32",
         "7",
         "321296271",
         "12a",
         "2019/2020"
        ],
        [
         "26325",
         "Dzieci lub młodzież",
         "Branżowa szkoła I stopnia",
         "obszar miejski",
         "Stowarzyszenia",
         "ninne osoby fizyczne i prawne",
         "publiczna",
         "ZACHODNIOPOMORSKIE",
         "Elektryk",
         "72-602",
         "73791",
         "BRANŻOWA SZKOŁA I STOPNIA W ŚWINOUJŚCIU WOJEWÓDZKIEGO ZAKŁADU DOSKONALENIA ZAWODOWEGO W SZCZECINIE",
         "1",
         "szkola.swinoujscie@wzdz.pl",
         "www.swinoujscie.wzdz.pl",
         "93",
         "brak specyfiki",
         "913215136",
         "Świnoujście",
         "ul. Norweska",
         "1",
         "Świnoujście",
         "8",
         "M. Świnoujście",
         "m. Świnoujście",
         "szkoła/placówka wchodząca w skład jednostki złożonej",
         "156",
         "100",
         "3263011",
         "135",
         "32",
         "7",
         "321296271",
         "12a",
         "2019/2020"
        ],
        [
         "26326",
         "Dzieci lub młodzież",
         "Branżowa szkoła I stopnia",
         "obszar miejski",
         "Stowarzyszenia",
         "ninne osoby fizyczne i prawne",
         "publiczna",
         "ZACHODNIOPOMORSKIE",
         "Cukiernik",
         "72-602",
         "73791",
         "BRANŻOWA SZKOŁA I STOPNIA W ŚWINOUJŚCIU WOJEWÓDZKIEGO ZAKŁADU DOSKONALENIA ZAWODOWEGO W SZCZECINIE",
         "1",
         "szkola.swinoujscie@wzdz.pl",
         "www.swinoujscie.wzdz.pl",
         "93",
         "brak specyfiki",
         "913215136",
         "Świnoujście",
         "ul. Norweska",
         "1",
         "Świnoujście",
         "1",
         "M. Świnoujście",
         "m. Świnoujście",
         "szkoła/placówka wchodząca w skład jednostki złożonej",
         "169",
         "100",
         "3263011",
         "135",
         "32",
         "7",
         "321296271",
         "12a",
         "2019/2020"
        ],
        [
         "26327",
         "Dzieci lub młodzież",
         "Branżowa szkoła I stopnia",
         "obszar miejski",
         "Przedsiębiorstwa Osób Fizycznych",
         "ninne osoby fizyczne i prawne",
         "niepubliczna",
         "ZACHODNIOPOMORSKIE",
         "Operator obrabiarek skrawających",
         "72-602",
         "263652",
         "BRANŻOWA SZKOŁA I STOPNIA A.K.S. SZKOŁA TECHNICZNA",
         "4",
         "sekretariat@aks.szkola.pl",
         "www.aks.szkola.pl",
         "93",
         "brak specyfiki",
         null,
         "Świnoujście",
         "ul. Norweska",
         "1",
         "Świnoujście",
         "25",
         "M. Świnoujście",
         "m. Świnoujście",
         "samodzielna",
         "149",
         "100",
         "3263011",
         "141",
         "32",
         "1",
         "368211111",
         "12",
         "2019/2020"
        ],
        [
         "26328",
         "Dzieci lub młodzież",
         "Branżowa szkoła I stopnia",
         "obszar miejski",
         "Przedsiębiorstwa Osób Fizycznych",
         "ninne osoby fizyczne i prawne",
         "niepubliczna",
         "ZACHODNIOPOMORSKIE",
         "Ślusarz",
         "72-602",
         "263652",
         "BRANŻOWA SZKOŁA I STOPNIA A.K.S. SZKOŁA TECHNICZNA",
         "4",
         "sekretariat@aks.szkola.pl",
         "www.aks.szkola.pl",
         "93",
         "brak specyfiki",
         null,
         "Świnoujście",
         "ul. Norweska",
         "1",
         "Świnoujście",
         "38",
         "M. Świnoujście",
         "m. Świnoujście",
         "samodzielna",
         "150",
         "100",
         "3263011",
         "141",
         "32",
         "1",
         "368211111",
         "12",
         "2019/2020"
        ]
       ],
       "shape": {
        "columns": 34,
        "rows": 5
       }
      },
      "text/html": [
       "<div>\n",
       "<style scoped>\n",
       "    .dataframe tbody tr th:only-of-type {\n",
       "        vertical-align: middle;\n",
       "    }\n",
       "\n",
       "    .dataframe tbody tr th {\n",
       "        vertical-align: top;\n",
       "    }\n",
       "\n",
       "    .dataframe thead th {\n",
       "        text-align: right;\n",
       "    }\n",
       "</style>\n",
       "<table border=\"1\" class=\"dataframe\">\n",
       "  <thead>\n",
       "    <tr style=\"text-align: right;\">\n",
       "      <th></th>\n",
       "      <th>kategoria_uczniów</th>\n",
       "      <th>typ_podmiotu</th>\n",
       "      <th>typ_obszaru</th>\n",
       "      <th>typ_organu_prowadzącego</th>\n",
       "      <th>organ_prowadzący</th>\n",
       "      <th>publiczność</th>\n",
       "      <th>wojewodztwo</th>\n",
       "      <th>zawód</th>\n",
       "      <th>kod_pocztowy</th>\n",
       "      <th>rspo</th>\n",
       "      <th>...</th>\n",
       "      <th>rodzaj_szkoły/placówki</th>\n",
       "      <th>idzawod</th>\n",
       "      <th>idspecyfikaszkoly</th>\n",
       "      <th>idterytgmina</th>\n",
       "      <th>idtyporgprow</th>\n",
       "      <th>idterytwojewodztwo</th>\n",
       "      <th>idrodzajplacowki</th>\n",
       "      <th>regon</th>\n",
       "      <th>numer_domu</th>\n",
       "      <th>rok_szkolny</th>\n",
       "    </tr>\n",
       "  </thead>\n",
       "  <tbody>\n",
       "    <tr>\n",
       "      <th>26324</th>\n",
       "      <td>Dzieci lub młodzież</td>\n",
       "      <td>Branżowa szkoła I stopnia</td>\n",
       "      <td>obszar miejski</td>\n",
       "      <td>Stowarzyszenia</td>\n",
       "      <td>ninne osoby fizyczne i prawne</td>\n",
       "      <td>publiczna</td>\n",
       "      <td>ZACHODNIOPOMORSKIE</td>\n",
       "      <td>Mechanik pojazdów samochodowych</td>\n",
       "      <td>72-602</td>\n",
       "      <td>73791</td>\n",
       "      <td>...</td>\n",
       "      <td>szkoła/placówka wchodząca w skład jednostki zł...</td>\n",
       "      <td>154</td>\n",
       "      <td>100</td>\n",
       "      <td>3263011</td>\n",
       "      <td>135</td>\n",
       "      <td>32</td>\n",
       "      <td>7</td>\n",
       "      <td>321296271</td>\n",
       "      <td>12a</td>\n",
       "      <td>2019/2020</td>\n",
       "    </tr>\n",
       "    <tr>\n",
       "      <th>26325</th>\n",
       "      <td>Dzieci lub młodzież</td>\n",
       "      <td>Branżowa szkoła I stopnia</td>\n",
       "      <td>obszar miejski</td>\n",
       "      <td>Stowarzyszenia</td>\n",
       "      <td>ninne osoby fizyczne i prawne</td>\n",
       "      <td>publiczna</td>\n",
       "      <td>ZACHODNIOPOMORSKIE</td>\n",
       "      <td>Elektryk</td>\n",
       "      <td>72-602</td>\n",
       "      <td>73791</td>\n",
       "      <td>...</td>\n",
       "      <td>szkoła/placówka wchodząca w skład jednostki zł...</td>\n",
       "      <td>156</td>\n",
       "      <td>100</td>\n",
       "      <td>3263011</td>\n",
       "      <td>135</td>\n",
       "      <td>32</td>\n",
       "      <td>7</td>\n",
       "      <td>321296271</td>\n",
       "      <td>12a</td>\n",
       "      <td>2019/2020</td>\n",
       "    </tr>\n",
       "    <tr>\n",
       "      <th>26326</th>\n",
       "      <td>Dzieci lub młodzież</td>\n",
       "      <td>Branżowa szkoła I stopnia</td>\n",
       "      <td>obszar miejski</td>\n",
       "      <td>Stowarzyszenia</td>\n",
       "      <td>ninne osoby fizyczne i prawne</td>\n",
       "      <td>publiczna</td>\n",
       "      <td>ZACHODNIOPOMORSKIE</td>\n",
       "      <td>Cukiernik</td>\n",
       "      <td>72-602</td>\n",
       "      <td>73791</td>\n",
       "      <td>...</td>\n",
       "      <td>szkoła/placówka wchodząca w skład jednostki zł...</td>\n",
       "      <td>169</td>\n",
       "      <td>100</td>\n",
       "      <td>3263011</td>\n",
       "      <td>135</td>\n",
       "      <td>32</td>\n",
       "      <td>7</td>\n",
       "      <td>321296271</td>\n",
       "      <td>12a</td>\n",
       "      <td>2019/2020</td>\n",
       "    </tr>\n",
       "    <tr>\n",
       "      <th>26327</th>\n",
       "      <td>Dzieci lub młodzież</td>\n",
       "      <td>Branżowa szkoła I stopnia</td>\n",
       "      <td>obszar miejski</td>\n",
       "      <td>Przedsiębiorstwa Osób Fizycznych</td>\n",
       "      <td>ninne osoby fizyczne i prawne</td>\n",
       "      <td>niepubliczna</td>\n",
       "      <td>ZACHODNIOPOMORSKIE</td>\n",
       "      <td>Operator obrabiarek skrawających</td>\n",
       "      <td>72-602</td>\n",
       "      <td>263652</td>\n",
       "      <td>...</td>\n",
       "      <td>samodzielna</td>\n",
       "      <td>149</td>\n",
       "      <td>100</td>\n",
       "      <td>3263011</td>\n",
       "      <td>141</td>\n",
       "      <td>32</td>\n",
       "      <td>1</td>\n",
       "      <td>368211111</td>\n",
       "      <td>12</td>\n",
       "      <td>2019/2020</td>\n",
       "    </tr>\n",
       "    <tr>\n",
       "      <th>26328</th>\n",
       "      <td>Dzieci lub młodzież</td>\n",
       "      <td>Branżowa szkoła I stopnia</td>\n",
       "      <td>obszar miejski</td>\n",
       "      <td>Przedsiębiorstwa Osób Fizycznych</td>\n",
       "      <td>ninne osoby fizyczne i prawne</td>\n",
       "      <td>niepubliczna</td>\n",
       "      <td>ZACHODNIOPOMORSKIE</td>\n",
       "      <td>Ślusarz</td>\n",
       "      <td>72-602</td>\n",
       "      <td>263652</td>\n",
       "      <td>...</td>\n",
       "      <td>samodzielna</td>\n",
       "      <td>150</td>\n",
       "      <td>100</td>\n",
       "      <td>3263011</td>\n",
       "      <td>141</td>\n",
       "      <td>32</td>\n",
       "      <td>1</td>\n",
       "      <td>368211111</td>\n",
       "      <td>12</td>\n",
       "      <td>2019/2020</td>\n",
       "    </tr>\n",
       "  </tbody>\n",
       "</table>\n",
       "<p>5 rows × 34 columns</p>\n",
       "</div>"
      ],
      "text/plain": [
       "         kategoria_uczniów               typ_podmiotu     typ_obszaru  \\\n",
       "26324  Dzieci lub młodzież  Branżowa szkoła I stopnia  obszar miejski   \n",
       "26325  Dzieci lub młodzież  Branżowa szkoła I stopnia  obszar miejski   \n",
       "26326  Dzieci lub młodzież  Branżowa szkoła I stopnia  obszar miejski   \n",
       "26327  Dzieci lub młodzież  Branżowa szkoła I stopnia  obszar miejski   \n",
       "26328  Dzieci lub młodzież  Branżowa szkoła I stopnia  obszar miejski   \n",
       "\n",
       "                typ_organu_prowadzącego               organ_prowadzący  \\\n",
       "26324                    Stowarzyszenia  ninne osoby fizyczne i prawne   \n",
       "26325                    Stowarzyszenia  ninne osoby fizyczne i prawne   \n",
       "26326                    Stowarzyszenia  ninne osoby fizyczne i prawne   \n",
       "26327  Przedsiębiorstwa Osób Fizycznych  ninne osoby fizyczne i prawne   \n",
       "26328  Przedsiębiorstwa Osób Fizycznych  ninne osoby fizyczne i prawne   \n",
       "\n",
       "        publiczność         wojewodztwo                             zawód  \\\n",
       "26324     publiczna  ZACHODNIOPOMORSKIE   Mechanik pojazdów samochodowych   \n",
       "26325     publiczna  ZACHODNIOPOMORSKIE                          Elektryk   \n",
       "26326     publiczna  ZACHODNIOPOMORSKIE                         Cukiernik   \n",
       "26327  niepubliczna  ZACHODNIOPOMORSKIE  Operator obrabiarek skrawających   \n",
       "26328  niepubliczna  ZACHODNIOPOMORSKIE                           Ślusarz   \n",
       "\n",
       "      kod_pocztowy    rspo  ...  \\\n",
       "26324       72-602   73791  ...   \n",
       "26325       72-602   73791  ...   \n",
       "26326       72-602   73791  ...   \n",
       "26327       72-602  263652  ...   \n",
       "26328       72-602  263652  ...   \n",
       "\n",
       "                                  rodzaj_szkoły/placówki  idzawod  \\\n",
       "26324  szkoła/placówka wchodząca w skład jednostki zł...      154   \n",
       "26325  szkoła/placówka wchodząca w skład jednostki zł...      156   \n",
       "26326  szkoła/placówka wchodząca w skład jednostki zł...      169   \n",
       "26327                                        samodzielna      149   \n",
       "26328                                        samodzielna      150   \n",
       "\n",
       "      idspecyfikaszkoly idterytgmina  idtyporgprow idterytwojewodztwo  \\\n",
       "26324               100      3263011           135                 32   \n",
       "26325               100      3263011           135                 32   \n",
       "26326               100      3263011           135                 32   \n",
       "26327               100      3263011           141                 32   \n",
       "26328               100      3263011           141                 32   \n",
       "\n",
       "      idrodzajplacowki      regon numer_domu  rok_szkolny  \n",
       "26324                7  321296271        12a    2019/2020  \n",
       "26325                7  321296271        12a    2019/2020  \n",
       "26326                7  321296271        12a    2019/2020  \n",
       "26327                1  368211111         12    2019/2020  \n",
       "26328                1  368211111         12    2019/2020  \n",
       "\n",
       "[5 rows x 34 columns]"
      ]
     },
     "execution_count": 13,
     "metadata": {},
     "output_type": "execute_result"
    }
   ],
   "source": [
    "dask_df.tail()"
   ]
  },
  {
   "cell_type": "code",
   "execution_count": 14,
   "id": "58ae4330",
   "metadata": {},
   "outputs": [
    {
     "data": {
      "text/plain": [
       "(<dask_expr.expr.Scalar: expr=ArrowStringConversion(frame=FromDelayed(eb2427e)).size() // 34, dtype=int64>,\n",
       " 34)"
      ]
     },
     "execution_count": 14,
     "metadata": {},
     "output_type": "execute_result"
    }
   ],
   "source": [
    "dask_df.shape"
   ]
  },
  {
   "cell_type": "code",
   "execution_count": 15,
   "id": "f3841cfe",
   "metadata": {},
   "outputs": [
    {
     "name": "stdout",
     "output_type": "stream",
     "text": [
      "\n",
      "Studenci w danych latach:\n",
      "rok_szkolny\n",
      "2023/2024    94982\n",
      "2024/2025    74688\n",
      "2019/2020    89931\n",
      "2020/2021    64763\n",
      "2021/2022    66459\n",
      "2022/2023    86084\n",
      "dtype: int64\n"
     ]
    }
   ],
   "source": [
    "\n",
    "# Example map-reduce operations:\n",
    "\n",
    "# 1. Count students by year - MAP: group by year, REDUCE: count\n",
    "students_by_year = dask_df.groupby(\"rok_szkolny\").size().compute()\n",
    "print(\"\\nStudenci w danych latach:\")\n",
    "print(students_by_year)"
   ]
  },
  {
   "cell_type": "code",
   "execution_count": null,
   "id": "773b423f",
   "metadata": {},
   "outputs": [
    {
     "name": "stdout",
     "output_type": "stream",
     "text": [
      "\n",
      "Top 10 Zawodów:\n",
      "zawód\n",
      "Technik informatyk                           21479\n",
      "Kucharz                                      20659\n",
      "Przygotowanie do kształcenia zawodowego      17688\n",
      "Mechanik pojazdów samochodowych              17602\n",
      "Technik żywienia i usług gastronomicznych    15346\n",
      "Fryzjer                                      15277\n",
      "Sprzedawca                                   13809\n",
      "Technik logistyk                             12561\n",
      "Cukiernik                                    12151\n",
      "Stolarz                                      10998\n",
      "dtype: int64\n"
     ]
    }
   ],
   "source": [
    "\n",
    "# Top professions - MAP: group by profession, REDUCE: count and sort\n",
    "\n",
    "prof_col = (\n",
    "    \"zawód\"\n",
    ")\n",
    "\n",
    "top_professions = (\n",
    "    dask_df.groupby(prof_col)\n",
    "    .size()\n",
    "    .compute()\n",
    "    .sort_values(ascending=False)\n",
    "    .head(10)\n",
    ")\n",
    "print(\"\\nTop 10 Zawodów:\")\n",
    "print(top_professions)\n"
   ]
  },
  {
   "cell_type": "code",
   "execution_count": null,
   "id": "a4cd1c0e",
   "metadata": {},
   "outputs": [
    {
     "name": "stdout",
     "output_type": "stream",
     "text": [
      "\n",
      "Trendy zawodów w latach:\n",
      "  rok_szkolny                                              zawód  count\n",
      "0   2023/2024    Administrator produkcji filmowej i telewizyjnej      2\n",
      "1   2023/2024                                      Aktor cyrkowy      4\n",
      "2   2023/2024                              Aktor scen muzycznych     23\n",
      "3   2023/2024  Asystent kierownika produkcji filmowej i telew...     24\n",
      "4   2023/2024                    Asystent osoby niepełnosprawnej     91\n",
      "5   2023/2024                         Asystentka stomatologiczna    442\n",
      "6   2023/2024                                          Automatyk     55\n",
      "7   2023/2024                                 Betoniarz-zbrojarz     22\n",
      "8   2023/2024                                           Blacharz     40\n",
      "9   2023/2024                               Blacharz samochodowy    694\n"
     ]
    }
   ],
   "source": [
    "\n",
    "# Trend analysis - MAP: group by year and profession, REDUCE: count\n",
    "prof_trends = (\n",
    "    dask_df.groupby([\"rok_szkolny\", prof_col])\n",
    "    .size()\n",
    "    .compute()\n",
    "    .reset_index(name=\"count\")\n",
    ")\n",
    "print(\"\\nTrendy zawodów w latach:\")\n",
    "print(prof_trends.head(10))"
   ]
  },
  {
   "cell_type": "code",
   "execution_count": null,
   "id": "ec71d9b7",
   "metadata": {},
   "outputs": [],
   "source": [
    "\n",
    "# Get top 5 professions\n",
    "top_5_profs = (\n",
    "    prof_trends.groupby(prof_col)[\"count\"]\n",
    "    .sum()\n",
    "    .sort_values(ascending=False)\n",
    "    .head(5)\n",
    "    .index\n",
    ")\n",
    "\n",
    "# Filter for just those professions\n",
    "top_5_trends = prof_trends[prof_trends[prof_col].isin(top_5_profs)]\n"
   ]
  },
  {
   "cell_type": "code",
   "execution_count": null,
   "id": "9d8eab45",
   "metadata": {},
   "outputs": [
    {
     "name": "stdout",
     "output_type": "stream",
     "text": [
      "\n",
      "Students by Region:\n",
      "wojewodztwo\n",
      "WIELKOPOLSKIE          54258\n",
      "ŚLĄSKIE                53024\n",
      "MAZOWIECKIE            49426\n",
      "MAŁOPOLSKIE            44918\n",
      "DOLNOŚLĄSKIE           33585\n",
      "KUJAWSKO-POMORSKIE     32150\n",
      "POMORSKIE              31967\n",
      "ŁÓDZKIE                27566\n",
      "PODKARPACKIE           24031\n",
      "LUBELSKIE              23683\n",
      "ZACHODNIOPOMORSKIE     21180\n",
      "WARMIŃSKO-MAZURSKIE    19993\n",
      "ŚWIĘTOKRZYSKIE         16309\n",
      "OPOLSKIE               15846\n",
      "LUBUSKIE               15503\n",
      "PODLASKIE              13468\n",
      "dtype: int64\n"
     ]
    }
   ],
   "source": [
    "\n",
    "# 3. Geographic analysis (if you have a region column)\n",
    "if \"region\" in dask_df.columns or \"wojewodztwo\" in dask_df.columns:\n",
    "    region_col = \"region\" if \"region\" in dask_df.columns else \"wojewodztwo\"\n",
    "\n",
    "# MAP: group by region, REDUCE: count\n",
    "students_by_region = (\n",
    "    dask_df.groupby(region_col).size().compute().sort_values(ascending=False)\n",
    ")\n",
    "print(\"\\nUczniowie w województwach:\")\n",
    "print(students_by_region)\n"
   ]
  },
  {
   "cell_type": "code",
   "execution_count": null,
   "id": "c6e2250d",
   "metadata": {},
   "outputs": [],
   "source": [
    "\n",
    "# Regional trends over time\n",
    "region_trends = (\n",
    "    dask_df.groupby([\"rok_szkolny\", region_col])\n",
    "    .size()\n",
    "    .compute()\n",
    "    .reset_index(name=\"count\")\n",
    ")\n"
   ]
  },
  {
   "cell_type": "code",
   "execution_count": null,
   "id": "b017bfdd",
   "metadata": {},
   "outputs": [
    {
     "name": "stdout",
     "output_type": "stream",
     "text": [
      "\n",
      "Average Students per School by Year:\n",
      "rok_szkolny\n",
      "2019/2020    17.741369\n",
      "2020/2021    12.893291\n",
      "2021/2022    13.281175\n",
      "2022/2023    16.915701\n",
      "2023/2024    18.453857\n",
      "2024/2025    14.777998\n",
      "dtype: float64\n"
     ]
    }
   ],
   "source": [
    "\n",
    "# 4. Complex aggregation - average students per school by year\n",
    "school_col = \"nazwa_placówki\"\n",
    "\n",
    "# MAP: group by year and school, REDUCE: count students, then average\n",
    "avg_by_school = dask_df.groupby([\"rok_szkolny\", school_col]).size().compute()\n",
    "avg_students = avg_by_school.groupby(\"rok_szkolny\").mean()\n",
    "print(\"\\nŚrednia liczba studentów na szkołę na rok szkolny:\")\n",
    "print(avg_students)\n"
   ]
  },
  {
   "cell_type": "code",
   "execution_count": null,
   "id": "f68bd7e6",
   "metadata": {},
   "outputs": [
    {
     "name": "stdout",
     "output_type": "stream",
     "text": [
      "\n",
      "Year-over-Year Growth Rate (%):\n",
      "rok_szkolny\n",
      "2019/2020          NaN\n",
      "2020/2021   -27.985900\n",
      "2021/2022     2.618779\n",
      "2022/2023    29.529484\n",
      "2023/2024    10.336416\n",
      "2024/2025   -21.366154\n",
      "dtype: float64\n"
     ]
    }
   ],
   "source": [
    "\n",
    "# 5. Growth calculation - percent change year over year\n",
    "if students_by_year is not None and len(students_by_year) > 1:\n",
    "    # Sort by year for proper calculations\n",
    "    students_by_year = students_by_year.sort_index()\n",
    "    growth = students_by_year.pct_change() * 100\n",
    "    print(\"\\nWzrost liczby studentów rok po roku(%):\")\n",
    "    print(growth)\n"
   ]
  },
  {
   "cell_type": "code",
   "execution_count": null,
   "id": "a4b7a561",
   "metadata": {},
   "outputs": [
    {
     "ename": "KeyError",
     "evalue": "'idterytwojewodztwo'",
     "output_type": "error",
     "traceback": [
      "\u001b[31m---------------------------------------------------------------------------\u001b[39m",
      "\u001b[31mKeyError\u001b[39m                                  Traceback (most recent call last)",
      "\u001b[36mFile \u001b[39m\u001b[32mc:\\Users\\Michał Żądełek\\OneDrive - Politechnika Wroclawska\\ITE_sem1\\ZBD\\mapreduce_env\\venv\\Lib\\site-packages\\pandas\\core\\indexes\\base.py:3805\u001b[39m, in \u001b[36mIndex.get_loc\u001b[39m\u001b[34m(self, key)\u001b[39m\n\u001b[32m   3804\u001b[39m \u001b[38;5;28;01mtry\u001b[39;00m:\n\u001b[32m-> \u001b[39m\u001b[32m3805\u001b[39m     \u001b[38;5;28;01mreturn\u001b[39;00m \u001b[38;5;28;43mself\u001b[39;49m\u001b[43m.\u001b[49m\u001b[43m_engine\u001b[49m\u001b[43m.\u001b[49m\u001b[43mget_loc\u001b[49m\u001b[43m(\u001b[49m\u001b[43mcasted_key\u001b[49m\u001b[43m)\u001b[49m\n\u001b[32m   3806\u001b[39m \u001b[38;5;28;01mexcept\u001b[39;00m \u001b[38;5;167;01mKeyError\u001b[39;00m \u001b[38;5;28;01mas\u001b[39;00m err:\n",
      "\u001b[36mFile \u001b[39m\u001b[32mindex.pyx:167\u001b[39m, in \u001b[36mpandas._libs.index.IndexEngine.get_loc\u001b[39m\u001b[34m()\u001b[39m\n",
      "\u001b[36mFile \u001b[39m\u001b[32mindex.pyx:196\u001b[39m, in \u001b[36mpandas._libs.index.IndexEngine.get_loc\u001b[39m\u001b[34m()\u001b[39m\n",
      "\u001b[36mFile \u001b[39m\u001b[32mpandas\\\\_libs\\\\hashtable_class_helper.pxi:7081\u001b[39m, in \u001b[36mpandas._libs.hashtable.PyObjectHashTable.get_item\u001b[39m\u001b[34m()\u001b[39m\n",
      "\u001b[36mFile \u001b[39m\u001b[32mpandas\\\\_libs\\\\hashtable_class_helper.pxi:7089\u001b[39m, in \u001b[36mpandas._libs.hashtable.PyObjectHashTable.get_item\u001b[39m\u001b[34m()\u001b[39m\n",
      "\u001b[31mKeyError\u001b[39m: 'idterytwojewodztwo'",
      "\nThe above exception was the direct cause of the following exception:\n",
      "\u001b[31mKeyError\u001b[39m                                  Traceback (most recent call last)",
      "\u001b[36mCell\u001b[39m\u001b[36m \u001b[39m\u001b[32mIn[125]\u001b[39m\u001b[32m, line 12\u001b[39m\n\u001b[32m      7\u001b[39m plt.savefig(\u001b[33m\"\u001b[39m\u001b[33mstudents_by_year.png\u001b[39m\u001b[33m\"\u001b[39m)\n\u001b[32m      9\u001b[39m \u001b[38;5;28;01mif\u001b[39;00m \u001b[33m\"\u001b[39m\u001b[33mregion_trends\u001b[39m\u001b[33m\"\u001b[39m \u001b[38;5;129;01min\u001b[39;00m \u001b[38;5;28mlocals\u001b[39m():\n\u001b[32m     10\u001b[39m     \u001b[38;5;66;03m# Pivot for region trends visualization\u001b[39;00m\n\u001b[32m     11\u001b[39m     \u001b[38;5;66;03m# Pivot dla wizualizacji trendów regionalnych\u001b[39;00m\n\u001b[32m---> \u001b[39m\u001b[32m12\u001b[39m     pivot_regions = \u001b[43mregion_trends\u001b[49m\u001b[43m.\u001b[49m\u001b[43mpivot\u001b[49m\u001b[43m(\u001b[49m\n\u001b[32m     13\u001b[39m \u001b[43m        \u001b[49m\u001b[43mindex\u001b[49m\u001b[43m=\u001b[49m\u001b[33;43m\"\u001b[39;49m\u001b[33;43mrok_szkolny\u001b[39;49m\u001b[33;43m\"\u001b[39;49m\u001b[43m,\u001b[49m\u001b[43m \u001b[49m\u001b[43mcolumns\u001b[49m\u001b[43m=\u001b[49m\u001b[43mregion_col\u001b[49m\u001b[43m,\u001b[49m\u001b[43m \u001b[49m\u001b[43mvalues\u001b[49m\u001b[43m=\u001b[49m\u001b[33;43m\"\u001b[39;49m\u001b[33;43mcount\u001b[39;49m\u001b[33;43m\"\u001b[39;49m\n\u001b[32m     14\u001b[39m \u001b[43m    \u001b[49m\u001b[43m)\u001b[49m\n\u001b[32m     16\u001b[39m     \u001b[38;5;66;03m# Ustaw lepszy styl wykresu\u001b[39;00m\n\u001b[32m     17\u001b[39m     plt.style.use(\u001b[33m'\u001b[39m\u001b[33mseaborn-v0_8-whitegrid\u001b[39m\u001b[33m'\u001b[39m)\n",
      "\u001b[36mFile \u001b[39m\u001b[32mc:\\Users\\Michał Żądełek\\OneDrive - Politechnika Wroclawska\\ITE_sem1\\ZBD\\mapreduce_env\\venv\\Lib\\site-packages\\pandas\\core\\frame.py:9339\u001b[39m, in \u001b[36mDataFrame.pivot\u001b[39m\u001b[34m(self, columns, index, values)\u001b[39m\n\u001b[32m   9332\u001b[39m \u001b[38;5;129m@Substitution\u001b[39m(\u001b[33m\"\u001b[39m\u001b[33m\"\u001b[39m)\n\u001b[32m   9333\u001b[39m \u001b[38;5;129m@Appender\u001b[39m(_shared_docs[\u001b[33m\"\u001b[39m\u001b[33mpivot\u001b[39m\u001b[33m\"\u001b[39m])\n\u001b[32m   9334\u001b[39m \u001b[38;5;28;01mdef\u001b[39;00m\u001b[38;5;250m \u001b[39m\u001b[34mpivot\u001b[39m(\n\u001b[32m   9335\u001b[39m     \u001b[38;5;28mself\u001b[39m, *, columns, index=lib.no_default, values=lib.no_default\n\u001b[32m   9336\u001b[39m ) -> DataFrame:\n\u001b[32m   9337\u001b[39m     \u001b[38;5;28;01mfrom\u001b[39;00m\u001b[38;5;250m \u001b[39m\u001b[34;01mpandas\u001b[39;00m\u001b[34;01m.\u001b[39;00m\u001b[34;01mcore\u001b[39;00m\u001b[34;01m.\u001b[39;00m\u001b[34;01mreshape\u001b[39;00m\u001b[34;01m.\u001b[39;00m\u001b[34;01mpivot\u001b[39;00m\u001b[38;5;250m \u001b[39m\u001b[38;5;28;01mimport\u001b[39;00m pivot\n\u001b[32m-> \u001b[39m\u001b[32m9339\u001b[39m     \u001b[38;5;28;01mreturn\u001b[39;00m \u001b[43mpivot\u001b[49m\u001b[43m(\u001b[49m\u001b[38;5;28;43mself\u001b[39;49m\u001b[43m,\u001b[49m\u001b[43m \u001b[49m\u001b[43mindex\u001b[49m\u001b[43m=\u001b[49m\u001b[43mindex\u001b[49m\u001b[43m,\u001b[49m\u001b[43m \u001b[49m\u001b[43mcolumns\u001b[49m\u001b[43m=\u001b[49m\u001b[43mcolumns\u001b[49m\u001b[43m,\u001b[49m\u001b[43m \u001b[49m\u001b[43mvalues\u001b[49m\u001b[43m=\u001b[49m\u001b[43mvalues\u001b[49m\u001b[43m)\u001b[49m\n",
      "\u001b[36mFile \u001b[39m\u001b[32mc:\\Users\\Michał Żądełek\\OneDrive - Politechnika Wroclawska\\ITE_sem1\\ZBD\\mapreduce_env\\venv\\Lib\\site-packages\\pandas\\core\\reshape\\pivot.py:555\u001b[39m, in \u001b[36mpivot\u001b[39m\u001b[34m(data, columns, index, values)\u001b[39m\n\u001b[32m    552\u001b[39m \u001b[38;5;28;01melse\u001b[39;00m:\n\u001b[32m    553\u001b[39m     index_list = [data[idx] \u001b[38;5;28;01mfor\u001b[39;00m idx \u001b[38;5;129;01min\u001b[39;00m com.convert_to_list_like(index)]\n\u001b[32m--> \u001b[39m\u001b[32m555\u001b[39m data_columns = [\u001b[43mdata\u001b[49m\u001b[43m[\u001b[49m\u001b[43mcol\u001b[49m\u001b[43m]\u001b[49m \u001b[38;5;28;01mfor\u001b[39;00m col \u001b[38;5;129;01min\u001b[39;00m columns_listlike]\n\u001b[32m    556\u001b[39m index_list.extend(data_columns)\n\u001b[32m    557\u001b[39m multiindex = MultiIndex.from_arrays(index_list)\n",
      "\u001b[36mFile \u001b[39m\u001b[32mc:\\Users\\Michał Żądełek\\OneDrive - Politechnika Wroclawska\\ITE_sem1\\ZBD\\mapreduce_env\\venv\\Lib\\site-packages\\pandas\\core\\frame.py:4102\u001b[39m, in \u001b[36mDataFrame.__getitem__\u001b[39m\u001b[34m(self, key)\u001b[39m\n\u001b[32m   4100\u001b[39m \u001b[38;5;28;01mif\u001b[39;00m \u001b[38;5;28mself\u001b[39m.columns.nlevels > \u001b[32m1\u001b[39m:\n\u001b[32m   4101\u001b[39m     \u001b[38;5;28;01mreturn\u001b[39;00m \u001b[38;5;28mself\u001b[39m._getitem_multilevel(key)\n\u001b[32m-> \u001b[39m\u001b[32m4102\u001b[39m indexer = \u001b[38;5;28;43mself\u001b[39;49m\u001b[43m.\u001b[49m\u001b[43mcolumns\u001b[49m\u001b[43m.\u001b[49m\u001b[43mget_loc\u001b[49m\u001b[43m(\u001b[49m\u001b[43mkey\u001b[49m\u001b[43m)\u001b[49m\n\u001b[32m   4103\u001b[39m \u001b[38;5;28;01mif\u001b[39;00m is_integer(indexer):\n\u001b[32m   4104\u001b[39m     indexer = [indexer]\n",
      "\u001b[36mFile \u001b[39m\u001b[32mc:\\Users\\Michał Żądełek\\OneDrive - Politechnika Wroclawska\\ITE_sem1\\ZBD\\mapreduce_env\\venv\\Lib\\site-packages\\pandas\\core\\indexes\\base.py:3812\u001b[39m, in \u001b[36mIndex.get_loc\u001b[39m\u001b[34m(self, key)\u001b[39m\n\u001b[32m   3807\u001b[39m     \u001b[38;5;28;01mif\u001b[39;00m \u001b[38;5;28misinstance\u001b[39m(casted_key, \u001b[38;5;28mslice\u001b[39m) \u001b[38;5;129;01mor\u001b[39;00m (\n\u001b[32m   3808\u001b[39m         \u001b[38;5;28misinstance\u001b[39m(casted_key, abc.Iterable)\n\u001b[32m   3809\u001b[39m         \u001b[38;5;129;01mand\u001b[39;00m \u001b[38;5;28many\u001b[39m(\u001b[38;5;28misinstance\u001b[39m(x, \u001b[38;5;28mslice\u001b[39m) \u001b[38;5;28;01mfor\u001b[39;00m x \u001b[38;5;129;01min\u001b[39;00m casted_key)\n\u001b[32m   3810\u001b[39m     ):\n\u001b[32m   3811\u001b[39m         \u001b[38;5;28;01mraise\u001b[39;00m InvalidIndexError(key)\n\u001b[32m-> \u001b[39m\u001b[32m3812\u001b[39m     \u001b[38;5;28;01mraise\u001b[39;00m \u001b[38;5;167;01mKeyError\u001b[39;00m(key) \u001b[38;5;28;01mfrom\u001b[39;00m\u001b[38;5;250m \u001b[39m\u001b[34;01merr\u001b[39;00m\n\u001b[32m   3813\u001b[39m \u001b[38;5;28;01mexcept\u001b[39;00m \u001b[38;5;167;01mTypeError\u001b[39;00m:\n\u001b[32m   3814\u001b[39m     \u001b[38;5;66;03m# If we have a listlike key, _check_indexing_error will raise\u001b[39;00m\n\u001b[32m   3815\u001b[39m     \u001b[38;5;66;03m#  InvalidIndexError. Otherwise we fall through and re-raise\u001b[39;00m\n\u001b[32m   3816\u001b[39m     \u001b[38;5;66;03m#  the TypeError.\u001b[39;00m\n\u001b[32m   3817\u001b[39m     \u001b[38;5;28mself\u001b[39m._check_indexing_error(key)\n",
      "\u001b[31mKeyError\u001b[39m: 'idterytwojewodztwo'"
     ]
    },
    {
     "data": {
      "image/png": "[encoded data removed]",
      "text/plain": [
       "<Figure size 1200x600 with 1 Axes>"
      ]
     },
     "metadata": {},
     "output_type": "display_data"
    }
   ],
   "source": [
    "\n",
    "plt.figure(figsize=(12, 6))\n",
    "students_by_year.plot(kind=\"bar\")\n",
    "plt.title(\"Liczba uczniów szkół zawodowych w latach\")\n",
    "plt.xlabel(\"Rok szkolny\")\n",
    "plt.ylabel(\"Liczba studentów\")\n",
    "plt.tight_layout()\n",
    "plt.savefig(\"students_by_year.png\")\n",
    "\n",
    "if \"region_trends\" in locals():\n",
    "    # Pivot for region trends visualization\n",
    "    # Pivot dla wizualizacji trendów regionalnych\n",
    "    pivot_regions = region_trends.pivot(\n",
    "        index=\"rok_szkolny\", columns=region_col, values=\"count\"\n",
    "    )\n",
    "\n",
    "    # Ustaw lepszy styl wykresu\n",
    "    plt.style.use('seaborn-v0_8-whitegrid')\n",
    "\n",
    "    # Utwórz większy wykres z lepszymi proporcjami\n",
    "    plt.figure(figsize=(14, 10))\n",
    "\n",
    "    # Ustaw szerszą paletę kolorów dla lepszego rozróżnienia regionów\n",
    "    import matplotlib.colors as mcolors\n",
    "    colors = list(mcolors.TABLEAU_COLORS.values()) + list(mcolors.CSS4_COLORS.values())[:10]\n",
    "\n",
    "    # Utwórz wykres z lepszymi parametrami\n",
    "    ax = pivot_regions.plot(\n",
    "        marker='o',  # Dodaj znaczniki punktów\n",
    "        markersize=6,  # Rozmiar znaczników\n",
    "        linewidth=2.5,  # Grubsza linia\n",
    "        color=colors,  # Lepsza paleta kolorów\n",
    "        alpha=0.8,  # Lekka przezroczystość\n",
    "        ax=plt.gca()  # Użyj bieżących osi\n",
    "    )\n",
    "\n",
    "    # Popraw tytuł i etykiety osi\n",
    "    plt.title(\"Trend na szkoły zawodowe w danych województwach\", fontsize=16, pad=20)\n",
    "    plt.xlabel(\"Rok szkolny\", fontsize=12, labelpad=10)\n",
    "    plt.ylabel(\"Liczba studentów\", fontsize=12, labelpad=10)\n",
    "\n",
    "    # Popraw oś X dla lepszej czytelności\n",
    "    plt.xticks(fontsize=10, rotation=45)\n",
    "    plt.yticks(fontsize=10)\n",
    "\n",
    "    # Utwórz lepszą legendę z prawej strony wykresu\n",
    "    plt.legend(\n",
    "        title=\"Województwo\", \n",
    "        title_fontsize=12,\n",
    "        fontsize=10,\n",
    "        loc=\"center left\", \n",
    "        bbox_to_anchor=(1.02, 0.5),  # Przesuń legendę na prawo od wykresu\n",
    "        frameon=True,  # Dodaj ramkę\n",
    "        facecolor='white',  # Białe tło\n",
    "        edgecolor='lightgray'  # Jasno-szara ramka\n",
    "    )\n",
    "\n",
    "    # Dodaj siatkę dla lepszej czytelności\n",
    "    plt.grid(True, linestyle='--', alpha=0.7)\n",
    "\n",
    "    # Popraw zakres osi Y, zaczynając od 0\n",
    "    y_max = pivot_regions.max().max() * 1.1  # 10% więcej niż maksimum\n",
    "    plt.ylim(0, y_max)\n",
    "\n",
    "    # Dodaj lekkie cieniowanie pod liniami (opcjonalnie)\n",
    "    if len(pivot_regions.columns) <= 5:  # Tylko jeśli mamy niewiele regionów\n",
    "        for column, color in zip(pivot_regions.columns, colors[:len(pivot_regions.columns)]):\n",
    "            plt.fill_between(\n",
    "                pivot_regions.index, \n",
    "                pivot_regions[column], \n",
    "                alpha=0.1, \n",
    "                color=color\n",
    "            )\n",
    "\n",
    "    # Dodaj ramkę\n",
    "    plt.tight_layout()\n",
    "\n",
    "    # Zapisz wykres w wysokiej rozdzielczości\n",
    "    plt.savefig(\"region_trends.png\", dpi=300, bbox_inches='tight')\n",
    "\n",
    "    # Wyświetl wykres\n",
    "    plt.show()\n",
    "\n",
    "    # Close the client\n",
    "    client.close()\n",
    "\n",
    "else:\n",
    "    print(\"No valid data found in the files.\")"
   ]
  },
  {
   "cell_type": "code",
   "execution_count": null,
   "id": "5ccfc979",
   "metadata": {},
   "outputs": [],
   "source": []
  }
 ],
 "metadata": {
  "kernelspec": {
   "display_name": "venv",
   "language": "python",
   "name": "python3"
  },
  "language_info": {
   "codemirror_mode": {
    "name": "ipython",
    "version": 3
   },
   "file_extension": ".py",
   "mimetype": "text/x-python",
   "name": "python",
   "nbconvert_exporter": "python",
   "pygments_lexer": "ipython3",
   "version": "3.12.3"
  }
 },
 "nbformat": 4,
 "nbformat_minor": 5
}
